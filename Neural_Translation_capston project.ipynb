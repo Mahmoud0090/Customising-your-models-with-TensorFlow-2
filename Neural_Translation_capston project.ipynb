{
  "nbformat": 4,
  "nbformat_minor": 0,
  "metadata": {
    "accelerator": "GPU",
    "colab": {
      "name": "Neural Translation En_DU translator.ipynb",
      "provenance": [],
      "collapsed_sections": []
    },
    "kernelspec": {
      "display_name": "feedforward",
      "language": "python",
      "name": "feedforward"
    },
    "language_info": {
      "codemirror_mode": {
        "name": "ipython",
        "version": 3
      },
      "file_extension": ".py",
      "mimetype": "text/x-python",
      "name": "python",
      "nbconvert_exporter": "python",
      "pygments_lexer": "ipython3",
      "version": "3.6.9"
    }
  },
  "cells": [
    {
      "cell_type": "markdown",
      "metadata": {
        "id": "vsX0L1sG1iZj"
      },
      "source": [
        "# Capstone Project\n",
        "## Neural translation model\n",
        "### Instructions\n",
        "\n",
        "In this notebook, you will create a neural network that translates from English to German. You will use concepts from throughout this course, including building more flexible model architectures, freezing layers, data processing pipeline and sequence modelling.\n",
        "\n",
        "This project is peer-assessed. Within this notebook you will find instructions in each section for how to complete the project. Pay close attention to the instructions as the peer review will be carried out according to a grading rubric that checks key parts of the project instructions. Feel free to add extra cells into the notebook as required.\n",
        "\n",
        "### How to submit\n",
        "\n",
        "When you have completed the Capstone project notebook, you will submit a pdf of the notebook for peer review. First ensure that the notebook has been fully executed from beginning to end, and all of the cell outputs are visible. This is important, as the grading rubric depends on the reviewer being able to view the outputs of your notebook. Save the notebook as a pdf (you could download the notebook with File -> Download .ipynb, open the notebook locally, and then File -> Download as -> PDF via LaTeX), and then submit this pdf for review.\n",
        "\n",
        "### Let's get started!\n",
        "\n",
        "We'll start by running some imports, and loading the dataset. For this project you are free to make further imports throughout the notebook as you wish. "
      ]
    },
    {
      "cell_type": "code",
      "metadata": {
        "colab": {
          "base_uri": "https://localhost:8080/"
        },
        "id": "k464DDpG477Z",
        "outputId": "d6e73753-fb42-4d18-bb56-70a63c85da8c"
      },
      "source": [
        "from google.colab import drive\n",
        "drive.mount('/content/drive')"
      ],
      "execution_count": 189,
      "outputs": [
        {
          "output_type": "stream",
          "text": [
            "Mounted at /content/drive\n"
          ],
          "name": "stdout"
        }
      ]
    },
    {
      "cell_type": "code",
      "metadata": {
        "id": "2VyTvxPN1iZn"
      },
      "source": [
        "import tensorflow as tf\n",
        "import tensorflow_hub as hub\n",
        "import unicodedata\n",
        "import re\n",
        "from IPython.display import Image\n",
        "\n",
        "import numpy as np\n",
        "import random\n",
        "import json"
      ],
      "execution_count": 190,
      "outputs": []
    },
    {
      "cell_type": "markdown",
      "metadata": {
        "id": "wuIi4lAR1iZt"
      },
      "source": [
        "For the capstone project, you will use a language dataset from http://www.manythings.org/anki/ to build a neural translation model. This dataset consists of over 200,000 pairs of sentences in English and German. In order to make the training quicker, we will restrict to our dataset to 20,000 pairs. Feel free to change this if you wish - the size of the dataset used is not part of the grading rubric.\n",
        "\n",
        "Your goal is to develop a neural translation model from English to German, making use of a pre-trained English word embedding module."
      ]
    },
    {
      "cell_type": "markdown",
      "metadata": {
        "id": "pi9Dq6vv3FVO"
      },
      "source": [
        "#### Import the data\n",
        "\n",
        "The dataset is available for download as a zip file at the following link:\n",
        "\n",
        "https://drive.google.com/open?id=1KczOciG7sYY7SB9UlBeRP1T9659b121Q\n",
        "\n",
        "You should store the unzipped folder in Drive for use in this Colab notebook."
      ]
    },
    {
      "cell_type": "code",
      "metadata": {
        "colab": {
          "base_uri": "https://localhost:8080/"
        },
        "id": "Nw99tEEQ3bKL",
        "outputId": "d5633869-4386-4e22-a90a-01e5b3d4a6cb"
      },
      "source": [
        "# Run this cell to connect to your Drive folder\n",
        "\n",
        "from google.colab import drive\n",
        "drive.mount('/content/gdrive')"
      ],
      "execution_count": 191,
      "outputs": [
        {
          "output_type": "stream",
          "text": [
            "Mounted at /content/gdrive\n"
          ],
          "name": "stdout"
        }
      ]
    },
    {
      "cell_type": "code",
      "metadata": {
        "id": "o8PetPpw1iZu"
      },
      "source": [
        "# Run this cell to load the dataset\n",
        "\n",
        "NUM_EXAMPLES = 20000\n",
        "data_examples = []\n",
        "with open('gdrive/MyDrive/MyShares/En_GR dataset/deu.txt', 'r', encoding='utf8') as f:\n",
        "    for line in f.readlines():\n",
        "        if len(data_examples) < NUM_EXAMPLES:\n",
        "            data_examples.append(line)\n",
        "        else:\n",
        "            break"
      ],
      "execution_count": 192,
      "outputs": []
    },
    {
      "cell_type": "code",
      "metadata": {
        "id": "JumLjJ631iZy"
      },
      "source": [
        "# These functions preprocess English and German sentences\n",
        "\n",
        "def unicode_to_ascii(s):\n",
        "    return ''.join(c for c in unicodedata.normalize('NFD', s) if unicodedata.category(c) != 'Mn')\n",
        "\n",
        "def preprocess_sentence(sentence):\n",
        "    sentence = sentence.lower().strip()\n",
        "    sentence = re.sub(r\"ü\", 'ue', sentence)\n",
        "    sentence = re.sub(r\"ä\", 'ae', sentence)\n",
        "    sentence = re.sub(r\"ö\", 'oe', sentence)\n",
        "    sentence = re.sub(r'ß', 'ss', sentence)\n",
        "    \n",
        "    sentence = unicode_to_ascii(sentence)\n",
        "    sentence = re.sub(r\"([?.!,])\", r\" \\1 \", sentence)\n",
        "    sentence = re.sub(r\"[^a-z?.!,']+\", \" \", sentence)\n",
        "    sentence = re.sub(r'[\" \"]+', \" \", sentence)\n",
        "    \n",
        "    return sentence.strip()"
      ],
      "execution_count": 193,
      "outputs": []
    },
    {
      "cell_type": "markdown",
      "metadata": {
        "id": "XFJap-TW1iZ2"
      },
      "source": [
        "#### The custom translation model\n",
        "The following is a schematic of the custom translation model architecture you will develop in this project."
      ]
    },
    {
      "cell_type": "code",
      "metadata": {
        "id": "gBF1K2JN4RFJ",
        "colab": {
          "base_uri": "https://localhost:8080/",
          "height": 648
        },
        "outputId": "c6b8fbe9-bc60-4304-b921-0a951b9b3f2c"
      },
      "source": [
        "# Run this cell to download and view a schematic diagram for the neural translation model\n",
        "\n",
        "!wget -q -O neural_translation_model.png --no-check-certificate \"https://docs.google.com/uc?export=download&id=1XsS1VlXoaEo-RbYNilJ9jcscNZvsSPmd\"\n",
        "Image(\"neural_translation_model.png\")"
      ],
      "execution_count": null,
      "outputs": [
        {
          "output_type": "execute_result",
          "data": {
            "image/png": "[encoded data removed]",
            "text/plain": [
              "<IPython.core.display.Image object>"
            ]
          },
          "metadata": {
            "tags": []
          },
          "execution_count": 125
        }
      ]
    },
    {
      "cell_type": "markdown",
      "metadata": {
        "id": "0fP7P-yK4RS7"
      },
      "source": [
        "The custom model consists of an encoder RNN and a decoder RNN. The encoder takes words of an English sentence as input, and uses a pre-trained word embedding to embed the words into a 128-dimensional space. To indicate the end of the input sentence, a special end token (in the same 128-dimensional space) is passed in as an input. This token is a TensorFlow Variable that is learned in the training phase (unlike the pre-trained word embedding, which is frozen).\n",
        "\n",
        "The decoder RNN takes the internal state of the encoder network as its initial state. A start token is passed in as the first input, which is embedded using a learned German word embedding. The decoder RNN then makes a prediction for the next German word, which during inference is then passed in as the following input, and this process is repeated until the special `<end>` token is emitted from the decoder."
      ]
    },
    {
      "cell_type": "markdown",
      "metadata": {
        "id": "z70nu6_01iZ3"
      },
      "source": [
        "## 1. Text preprocessing\n",
        "* Create separate lists of English and German sentences, and preprocess them using the `preprocess_sentence` function provided for you above.\n",
        "* Add a special `\"<start>\"` and `\"<end>\"` token to the beginning and end of every German sentence.\n",
        "* Use the Tokenizer class from the `tf.keras.preprocessing.text` module to tokenize the German sentences, ensuring that no character filters are applied. _Hint: use the Tokenizer's \"filter\" keyword argument._\n",
        "* Print out at least 5 randomly chosen examples of (preprocessed) English and German sentence pairs. For the German sentence, print out the text (with start and end tokens) as well as the tokenized sequence.\n",
        "* Pad the end of the tokenized German sequences with zeros, and batch the complete set of sequences into one numpy array."
      ]
    },
    {
      "cell_type": "code",
      "metadata": {
        "id": "9G20C4bk1iZ4",
        "scrolled": true,
        "colab": {
          "base_uri": "https://localhost:8080/"
        },
        "outputId": "15364062-c8ce-4b5b-9d99-dc4a3d2d5be4"
      },
      "source": [
        "English_sentence = []\r\n",
        "German_sentence = []\r\n",
        "\r\n",
        "for sent in data_examples:\r\n",
        "    period = sent.index(\"\\t\")\r\n",
        "    BY = sent.index('BY')\r\n",
        "    English_sentence.append(sent[0:period])\r\n",
        "    German_sentence.append(sent[period+1:BY-4])\r\n",
        "    \r\n",
        "print(English_sentence[1500])\r\n",
        "print(German_sentence[1500])"
      ],
      "execution_count": 194,
      "outputs": [
        {
          "output_type": "stream",
          "text": [
            "They agree.\n",
            "Sie stimmen zu.\n"
          ],
          "name": "stdout"
        }
      ]
    },
    {
      "cell_type": "code",
      "metadata": {
        "id": "Sxwl-1rB1iZ8",
        "colab": {
          "base_uri": "https://localhost:8080/"
        },
        "outputId": "aa73ad01-fb9c-4f49-e22a-71392a04a8df"
      },
      "source": [
        "preprocessed_En = []\r\n",
        "preprocessed_Gr = []\r\n",
        "for sentence in English_sentence:\r\n",
        "    preprocessed_En.append(preprocess_sentence(sentence))\r\n",
        "    \r\n",
        "for sentence in German_sentence:\r\n",
        "    preprocessed_Gr.append(preprocess_sentence(sentence))\r\n",
        "    \r\n",
        "print(preprocessed_En[67])\r\n",
        "max_length = 0\r\n",
        "for sentence in preprocessed_Gr:\r\n",
        "    if len(sentence) > max_length:\r\n",
        "        max_length = len(sentence)\r\n",
        "        \r\n",
        "print(max_length)"
      ],
      "execution_count": 195,
      "outputs": [
        {
          "output_type": "stream",
          "text": [
            "be cool .\n",
            "73\n"
          ],
          "name": "stdout"
        }
      ]
    },
    {
      "cell_type": "code",
      "metadata": {
        "id": "WnIdqZFk1iaA",
        "colab": {
          "base_uri": "https://localhost:8080/"
        },
        "outputId": "f6d58b01-80d0-4c0e-ea6f-a7640382e986"
      },
      "source": [
        "modified_gr = []\r\n",
        "\r\n",
        "for sentence in preprocessed_Gr:\r\n",
        "    sentence = \"<start> \" + sentence + \" <end>\"\r\n",
        "    modified_gr.append(sentence)\r\n",
        "    \r\n",
        "modified_gr[:20]\r\n",
        "#print(len(max(modified_gr))) 46"
      ],
      "execution_count": 196,
      "outputs": [
        {
          "output_type": "execute_result",
          "data": {
            "text/plain": [
              "['<start> hallo ! <end>',\n",
              " '<start> gruess gott ! <end>',\n",
              " '<start> lauf ! <end>',\n",
              " '<start> potzdonner ! <end>',\n",
              " '<start> donnerwetter ! <end>',\n",
              " '<start> feuer ! <end>',\n",
              " '<start> hilfe ! <end>',\n",
              " '<start> zu huelf ! <end>',\n",
              " '<start> stopp ! <end>',\n",
              " '<start> warte ! <end>',\n",
              " '<start> mach weiter . <end>',\n",
              " '<start> hallo ! <end>',\n",
              " '<start> ich rannte . <end>',\n",
              " '<start> ich verstehe . <end>',\n",
              " '<start> aha . <end>',\n",
              " '<start> ich probiere es . <end>',\n",
              " '<start> ich hab gewonnen ! <end>',\n",
              " '<start> ich habe gewonnen ! <end>',\n",
              " '<start> laecheln ! <end>',\n",
              " '<start> zum wohl ! <end>']"
            ]
          },
          "metadata": {
            "tags": []
          },
          "execution_count": 196
        }
      ]
    },
    {
      "cell_type": "code",
      "metadata": {
        "id": "5UlnBdIK1iaE"
      },
      "source": [
        "tokenizer = tf.keras.preprocessing.text.Tokenizer(num_words=None,split=' ',\r\n",
        "                       filters='',lower=True)\r\n",
        "\r\n",
        "tokenizer.fit_on_texts(modified_gr)"
      ],
      "execution_count": 197,
      "outputs": []
    },
    {
      "cell_type": "code",
      "metadata": {
        "id": "ZGTaqt1t1iaI",
        "colab": {
          "base_uri": "https://localhost:8080/"
        },
        "outputId": "39e2abe5-6512-457e-ce72-787a8c675fd6"
      },
      "source": [
        "tokenizer_config = tokenizer.get_config()\r\n",
        "tokenizer_config.keys()"
      ],
      "execution_count": 198,
      "outputs": [
        {
          "output_type": "execute_result",
          "data": {
            "text/plain": [
              "dict_keys(['num_words', 'filters', 'lower', 'split', 'char_level', 'oov_token', 'document_count', 'word_counts', 'word_docs', 'index_docs', 'index_word', 'word_index'])"
            ]
          },
          "metadata": {
            "tags": []
          },
          "execution_count": 198
        }
      ]
    },
    {
      "cell_type": "code",
      "metadata": {
        "id": "fqiO7HuQ1iaL",
        "colab": {
          "base_uri": "https://localhost:8080/",
          "height": 120
        },
        "outputId": "da1bff4d-93ee-42fb-86b3-ca9adbbf8132"
      },
      "source": [
        "tokenizer_config['word_index']"
      ],
      "execution_count": 199,
      "outputs": [
        {
          "output_type": "execute_result",
          "data": {
            "application/vnd.google.colaboratory.intrinsic+json": {
              "type": "string"
            },
            "text/plain": [
              "'{\"<start>\": 1, \"<end>\": 2, \".\": 3, \"ich\": 4, \"tom\": 5, \"ist\": 6, \"?\": 7, \"sie\": 8, \"!\": 9, \"es\": 10, \"das\": 11, \"nicht\": 12, \"du\": 13, \"er\": 14, \"bin\": 15, \"hat\": 16, \"wir\": 17, \"habe\": 18, \"ein\": 19, \"zu\": 20, \"mir\": 21, \"mich\": 22, \"sind\": 23, \"war\": 24, \",\": 25, \"die\": 26, \"ihr\": 27, \"dich\": 28, \"auf\": 29, \"kann\": 30, \"uns\": 31, \"bist\": 32, \"hier\": 33, \"sich\": 34, \"haben\": 35, \"an\": 36, \"eine\": 37, \"was\": 38, \"werde\": 39, \"einen\": 40, \"aus\": 41, \"wie\": 42, \"wer\": 43, \"ihn\": 44, \"gehen\": 45, \"in\": 46, \"der\": 47, \"wird\": 48, \"gut\": 49, \"mein\": 50, \"mag\": 51, \"dir\": 52, \"den\": 53, \"sein\": 54, \"mit\": 55, \"sehr\": 56, \"euch\": 57, \"hast\": 58, \"geht\": 59, \"meine\": 60, \"liebe\": 61, \"jetzt\": 62, \"da\": 63, \"lass\": 64, \"nach\": 65, \"will\": 66, \"bitte\": 67, \"wurde\": 68, \"werden\": 69, \"so\": 70, \"kein\": 71, \"noch\": 72, \"seid\": 73, \"komm\": 74, \"hause\": 75, \"mal\": 76, \"fuer\": 77, \"alle\": 78, \"mach\": 79, \"gerade\": 80, \"koennen\": 81, \"auto\": 82, \"wo\": 83, \"weiss\": 84, \"muss\": 85, \"machen\": 86, \"hatte\": 87, \"gesehen\": 88, \"geh\": 89, \"helfen\": 90, \"tun\": 91, \"kommen\": 92, \"gib\": 93, \"brauche\": 94, \"warum\": 95, \"schon\": 96, \"sieht\": 97, \"beschaeftigt\": 98, \"niemand\": 99, \"einfach\": 100, \"gemacht\": 101, \"weg\": 102, \"keine\": 103, \"im\": 104, \"ging\": 105, \"dein\": 106, \"hund\": 107, \"nichts\": 108, \"kannst\": 109, \"sah\": 110, \"macht\": 111, \"auch\": 112, \"buch\": 113, \"sehen\": 114, \"viel\": 115, \"gefunden\": 116, \"deine\": 117, \"dem\": 118, \"maria\": 119, \"kommt\": 120, \"etwas\": 121, \"hasse\": 122, \"ihm\": 123, \"ihnen\": 124, \"ab\": 125, \"weiter\": 126, \"schnell\": 127, \"gluecklich\": 128, \"geld\": 129, \"sei\": 130, \"lassen\": 131, \"dass\": 132, \"gehe\": 133, \"darf\": 134, \"um\": 135, \"kam\": 136, \"lasst\": 137, \"sicher\": 138, \"allein\": 139, \"habt\": 140, \"dort\": 141, \"verloren\": 142, \"zeit\": 143, \"mehr\": 144, \"wieder\": 145, \"am\": 146, \"zurueck\": 147, \"gehoert\": 148, \"gerne\": 149, \"tut\": 150, \"von\": 151, \"leben\": 152, \"hoer\": 153, \"essen\": 154, \"nie\": 155, \"toms\": 156, \"muede\": 157, \"alles\": 158, \"nimm\": 159, \"nur\": 160, \"und\": 161, \"gegangen\": 162, \"arbeit\": 163, \"vor\": 164, \"scheint\": 165, \"heute\": 166, \"gross\": 167, \"liebt\": 168, \"diese\": 169, \"spass\": 170, \"krank\": 171, \"moechte\": 172, \"muessen\": 173, \"dieses\": 174, \"versuchen\": 175, \"meinen\": 176, \"kenne\": 177, \"gesagt\": 178, \"alt\": 179, \"komme\": 180, \"weh\": 181, \"getan\": 182, \"s\": 183, \"schau\": 184, \"fahren\": 185, \"bei\": 186, \"heiss\": 187, \"ruhig\": 188, \"fertig\": 189, \"angst\": 190, \"wissen\": 191, \"immer\": 192, \"mann\": 193, \"ganz\": 194, \"vielleicht\": 195, \"weinen\": 196, \"braucht\": 197, \"zum\": 198, \"sterben\": 199, \"recht\": 200, \"brauchen\": 201, \"ihre\": 202, \"gern\": 203, \"schluessel\": 204, \"hin\": 205, \"warten\": 206, \"los\": 207, \"vater\": 208, \"wuerde\": 209, \"koennte\": 210, \"doch\": 211, \"her\": 212, \"fuehle\": 213, \"tag\": 214, \"tuer\": 215, \"nehmen\": 216, \"gegessen\": 217, \"gefallen\": 218, \"spaet\": 219, \"sagen\": 220, \"ja\": 221, \"bleiben\": 222, \"keinen\": 223, \"gewonnen\": 224, \"ordnung\": 225, \"rein\": 226, \"gewinnen\": 227, \"waren\": 228, \"gibt\": 229, \"mache\": 230, \"okay\": 231, \"kalt\": 232, \"lesen\": 233, \"fuehlte\": 234, \"mary\": 235, \"siehst\": 236, \"nett\": 237, \"reich\": 238, \"sag\": 239, \"wuetend\": 240, \"sagte\": 241, \"schwimmen\": 242, \"draussen\": 243, \"angerufen\": 244, \"verrueckt\": 245, \"wirst\": 246, \"ernst\": 247, \"gefaellt\": 248, \"grossartig\": 249, \"verletzt\": 250, \"boston\": 251, \"arbeiten\": 252, \"koennt\": 253, \"hut\": 254, \"augen\": 255, \"katze\": 256, \"schlecht\": 257, \"neu\": 258, \"frei\": 259, \"schlafen\": 260, \"esse\": 261, \"hunger\": 262, \"selbst\": 263, \"seien\": 264, \"herein\": 265, \"tu\": 266, \"sehe\": 267, \"veraergert\": 268, \"uhr\": 269, \"bleib\": 270, \"bereit\": 271, \"wollen\": 272, \"jung\": 273, \"musst\": 274, \"versucht\": 275, \"gekommen\": 276, \"wusste\": 277, \"hoffe\": 278, \"schuld\": 279, \"gekauft\": 280, \"dies\": 281, \"haus\": 282, \"hilfe\": 283, \"hab\": 284, \"wirklich\": 285, \"raus\": 286, \"steht\": 287, \"halte\": 288, \"leid\": 289, \"aufhoeren\": 290, \"betrunken\": 291, \"eins\": 292, \"besser\": 293, \"wasser\": 294, \"willst\": 295, \"schien\": 296, \"arm\": 297, \"funktioniert\": 298, \"bett\": 299, \"vorbei\": 300, \"einmal\": 301, \"moegen\": 302, \"bier\": 303, \"schule\": 304, \"man\": 305, \"behalten\": 306, \"laufen\": 307, \"gab\": 308, \"singen\": 309, \"fuss\": 310, \"stand\": 311, \"junge\": 312, \"zur\": 313, \"bus\": 314, \"kinder\": 315, \"wagen\": 316, \"geben\": 317, \"kaffee\": 318, \"fragen\": 319, \"hol\": 320, \"traurig\": 321, \"schoen\": 322, \"blieb\": 323, \"gestorben\": 324, \"nein\": 325, \"still\": 326, \"hungrig\": 327, \"tot\": 328, \"dumm\": 329, \"glueck\": 330, \"kennt\": 331, \"hoeren\": 332, \"waere\": 333, \"deinen\": 334, \"warte\": 335, \"verstehe\": 336, \"schuechtern\": 337, \"dran\": 338, \"finden\": 339, \"setz\": 340, \"ins\": 341, \"weit\": 342, \"lieben\": 343, \"nervoes\": 344, \"jeder\": 345, \"getroffen\": 346, \"bekommen\": 347, \"wahr\": 348, \"langsam\": 349, \"gute\": 350, \"machte\": 351, \"rot\": 352, \"liegt\": 353, \"frau\": 354, \"sohn\": 355, \"dieser\": 356, \"worden\": 357, \"spielen\": 358, \"rannte\": 359, \"wach\": 360, \"suess\": 361, \"hunde\": 362, \"boese\": 363, \"vermisse\": 364, \"reden\": 365, \"jemand\": 366, \"kennen\": 367, \"fisch\": 368, \"fast\": 369, \"verwirrt\": 370, \"seine\": 371, \"diesen\": 372, \"versuch\": 373, \"frag\": 374, \"dabei\": 375, \"davon\": 376, \"bald\": 377, \"ruhe\": 378, \"tee\": 379, \"nehme\": 380, \"tanzen\": 381, \"mutter\": 382, \"spiele\": 383, \"witze\": 384, \"glaube\": 385, \"zwei\": 386, \"laeuft\": 387, \"kurz\": 388, \"rufen\": 389, \"geschlagen\": 390, \"frueh\": 391, \"damit\": 392, \"bring\": 393, \"wein\": 394, \"vergessen\": 395, \"als\": 396, \"sage\": 397, \"tasche\": 398, \"gegeben\": 399, \"hasst\": 400, \"geworden\": 401, \"eure\": 402, \"magst\": 403, \"sollte\": 404, \"hallo\": 405, \"ruf\": 406, \"stehen\": 407, \"vertrauen\": 408, \"zuhause\": 409, \"rennen\": 410, \"bestuerzt\": 411, \"sieh\": 412, \"arzt\": 413, \"rief\": 414, \"daran\": 415, \"isst\": 416, \"maedchen\": 417, \"zeig\": 418, \"klein\": 419, \"meinem\": 420, \"zieh\": 421, \"perfekt\": 422, \"laechelte\": 423, \"luegt\": 424, \"fehlt\": 425, \"kochen\": 426, \"fernseher\": 427, \"kaputt\": 428, \"lustig\": 429, \"luegen\": 430, \"milch\": 431, \"katzen\": 432, \"holen\": 433, \"hoert\": 434, \"liess\": 435, \"unser\": 436, \"ausruhen\": 437, \"gebracht\": 438, \"plan\": 439, \"wollte\": 440, \"konnte\": 441, \"wohl\": 442, \"bezahlt\": 443, \"geht\\'s\": 444, \"fort\": 445, \"weinte\": 446, \"dick\": 447, \"sprach\": 448, \"geholfen\": 449, \"sprich\": 450, \"sagt\": 451, \"vertraut\": 452, \"fangen\": 453, \"tue\": 454, \"seinen\": 455, \"nahm\": 456, \"langweilig\": 457, \"hart\": 458, \"arbeitet\": 459, \"wen\": 460, \"vorsichtig\": 461, \"anfangen\": 462, \"wette\": 463, \"bezahlen\": 464, \"neues\": 465, \"dazu\": 466, \"stark\": 467, \"arbeite\": 468, \"witz\": 469, \"sprechen\": 470, \"rauchen\": 471, \"keiner\": 472, \"vermissen\": 473, \"trinken\": 474, \"verdient\": 475, \"freude\": 476, \"morgen\": 477, \"schwer\": 478, \"leicht\": 479, \"genug\": 480, \"naehe\": 481, \"zimmer\": 482, \"wort\": 483, \"denke\": 484, \"ziemlich\": 485, \"einverstanden\": 486, \"geschafft\": 487, \"ueber\": 488, \"schwach\": 489, \"blau\": 490, \"verlassen\": 491, \"folgen\": 492, \"stimme\": 493, \"dafuer\": 494, \"dreissig\": 495, \"lebt\": 496, \"fahre\": 497, \"kaufen\": 498, \"sorgen\": 499, \"lese\": 500, \"unrecht\": 501, \"brauchst\": 502, \"haette\": 503, \"leiden\": 504, \"schwarz\": 505, \"zuerst\": 506, \"franzoesisch\": 507, \"zufrieden\": 508, \"familie\": 509, \"ihren\": 510, \"fing\": 511, \"gelogen\": 512, \"klar\": 513, \"starb\": 514, \"guter\": 515, \"klug\": 516, \"mensch\": 517, \"hoere\": 518, \"liebte\": 519, \"verlieren\": 520, \"leise\": 521, \"hatten\": 522, \"faul\": 523, \"alleine\": 524, \"gefragt\": 525, \"mittagessen\": 526, \"stimmt\": 527, \"entkommen\": 528, \"fallen\": 529, \"musik\": 530, \"taxi\": 531, \"einem\": 532, \"weisst\": 533, \"gekuesst\": 534, \"erkaeltung\": 535, \"freunde\": 536, \"ball\": 537, \"platz\": 538, \"schlechter\": 539, \"jahre\": 540, \"frage\": 541, \"weise\": 542, \"hilf\": 543, \"geweint\": 544, \"hilft\": 545, \"halten\": 546, \"komisch\": 547, \"job\": 548, \"freundlich\": 549, \"geschickt\": 550, \"drinnen\": 551, \"einsam\": 552, \"sicherheit\": 553, \"schlaeft\": 554, \"geliebt\": 555, \"darueber\": 556, \"oben\": 557, \"karte\": 558, \"spricht\": 559, \"einer\": 560, \"freund\": 561, \"fuesse\": 562, \"zusammen\": 563, \"schuldig\": 564, \"sollten\": 565, \"pferd\": 566, \"hoffnung\": 567, \"spiel\": 568, \"ehrlich\": 569, \"warst\": 570, \"grosser\": 571, \"fahrrad\": 572, \"idee\": 573, \"reise\": 574, \"bruder\": 575, \"vom\": 576, \"bis\": 577, \"gemein\": 578, \"setzen\": 579, \"stehe\": 580, \"fang\": 581, \"hierher\": 582, \"anrufen\": 583, \"meins\": 584, \"cool\": 585, \"fuhr\": 586, \"schlief\": 587, \"meinung\": 588, \"passiert\": 589, \"sauber\": 590, \"rechnung\": 591, \"oft\": 592, \"drin\": 593, \"hey\": 594, \"kaum\": 595, \"trinke\": 596, \"geschlafen\": 597, \"grosse\": 598, \"singt\": 599, \"gehoeren\": 600, \"muesst\": 601, \"brauchte\": 602, \"oeffnen\": 603, \"sass\": 604, \"wahrheit\": 605, \"wann\": 606, \"bisschen\": 607, \"mitgebracht\": 608, \"klingt\": 609, \"aufhalten\": 610, \"ungerecht\": 611, \"schliess\": 612, \"spaeter\": 613, \"nehmt\": 614, \"wartet\": 615, \"fass\": 616, \"legen\": 617, \"runter\": 618, \"duenn\": 619, \"probier\": 620, \"schaut\": 621, \"schreiben\": 622, \"schrecklich\": 623, \"seltsam\": 624, \"dunkel\": 625, \"bleibt\": 626, \"stoppen\": 627, \"besorgt\": 628, \"fleisch\": 629, \"reis\": 630, \"beeilen\": 631, \"gleich\": 632, \"problem\": 633, \"sofort\": 634, \"alter\": 635, \"mochte\": 636, \"gesicht\": 637, \"neugierig\": 638, \"diaet\": 639, \"eifersuechtig\": 640, \"gefangen\": 641, \"montag\": 642, \"lange\": 643, \"falsch\": 644, \"kennst\": 645, \"eingeladen\": 646, \"bestes\": 647, \"euer\": 648, \"waffe\": 649, \"abend\": 650, \"hand\": 651, \"verlor\": 652, \"lernen\": 653, \"allen\": 654, \"haar\": 655, \"oeffne\": 656, \"angekommen\": 657, \"redet\": 658, \"welche\": 659, \"enttaeuscht\": 660, \"namen\": 661, \"fenster\": 662, \"gott\": 663, \"lief\": 664, \"fiel\": 665, \"nass\": 666, \"rufe\": 667, \"haesslich\": 668, \"bescheid\": 669, \"fliegen\": 670, \"vergiss\": 671, \"schiessen\": 672, \"halt\": 673, \"gebe\": 674, \"gemeint\": 675, \"warm\": 676, \"lies\": 677, \"unten\": 678, \"bewegen\": 679, \"trink\": 680, \"bekam\": 681, \"anderer\": 682, \"hoerte\": 683, \"panik\": 684, \"erinnere\": 685, \"setzte\": 686, \"koch\": 687, \"beruehmt\": 688, \"seite\": 689, \"fehler\": 690, \"hielt\": 691, \"gearbeitet\": 692, \"pech\": 693, \"muehe\": 694, \"krieg\": 695, \"lang\": 696, \"luegner\": 697, \"dagegen\": 698, \"gerettet\": 699, \"gesund\": 700, \"verliebt\": 701, \"schmerzen\": 702, \"verheiratet\": 703, \"genau\": 704, \"egal\": 705, \"pizza\": 706, \"buecher\": 707, \"kanadier\": 708, \"zeigen\": 709, \"unsere\": 710, \"wussten\": 711, \"angelogen\": 712, \"riecht\": 713, \"hinter\": 714, \"lehrer\": 715, \"gewinnt\": 716, \"verraten\": 717, \"geschrieben\": 718, \"spielt\": 719, \"niemals\": 720, \"iss\": 721, \"verstanden\": 722, \"echt\": 723, \"fair\": 724, \"scher\": 725, \"rennt\": 726, \"naeher\": 727, \"ruft\": 728, \"kopf\": 729, \"kuessen\": 730, \"schreibt\": 731, \"toll\": 732, \"sauer\": 733, \"gelangweilt\": 734, \"fest\": 735, \"beginnen\": 736, \"schwimmt\": 737, \"pflicht\": 738, \"suchen\": 739, \"nacht\": 740, \"grausam\": 741, \"kannte\": 742, \"held\": 743, \"ausgegangen\": 744, \"heraus\": 745, \"ohne\": 746, \"gebissen\": 747, \"raucht\": 748, \"schalte\": 749, \"lachen\": 750, \"grund\": 751, \"las\": 752, \"eier\": 753, \"feigling\": 754, \"brav\": 755, \"unhoeflich\": 756, \"erzaehlt\": 757, \"treffen\": 758, \"kocht\": 759, \"gebt\": 760, \"beste\": 761, \"darum\": 762, \"sollen\": 763, \"pause\": 764, \"ihrer\": 765, \"schrieb\": 766, \"erschossen\": 767, \"denn\": 768, \"soll\": 769, \"passt\": 770, \"wenig\": 771, \"typ\": 772, \"abendessen\": 773, \"beeindruckt\": 774, \"aendern\": 775, \"ausgeraubt\": 776, \"solltest\": 777, \"wuerdest\": 778, \"brachte\": 779, \"mund\": 780, \"name\": 781, \"wohnt\": 782, \"voll\": 783, \"haare\": 784, \"danke\": 785, \"leine\": 786, \"behalt\": 787, \"ass\": 788, \"hoch\": 789, \"finde\": 790, \"half\": 791, \"verirrt\": 792, \"haltet\": 793, \"gewusst\": 794, \"vertraue\": 795, \"schauen\": 796, \"antworten\": 797, \"voegel\": 798, \"weint\": 799, \"haende\": 800, \"ski\": 801, \"lachte\": 802, \"pleite\": 803, \"froh\": 804, \"gelassen\": 805, \"unterschreiben\": 806, \"pass\": 807, \"gefeuert\": 808, \"maenner\": 809, \"schreien\": 810, \"schreit\": 811, \"schlau\": 812, \"beneide\": 813, \"luft\": 814, \"koche\": 815, \"wichtig\": 816, \"sache\": 817, \"nochmal\": 818, \"mama\": 819, \"gas\": 820, \"faehrt\": 821, \"schrie\": 822, \"augenblick\": 823, \"durch\": 824, \"wirf\": 825, \"vergeben\": 826, \"beide\": 827, \"kuchen\": 828, \"lebe\": 829, \"naiv\": 830, \"beliebt\": 831, \"geschehen\": 832, \"veraendert\": 833, \"unter\": 834, \"aufmerksam\": 835, \"trank\": 836, \"genie\": 837, \"unschuldig\": 838, \"verhungern\": 839, \"voellig\": 840, \"ohren\": 841, \"gehst\": 842, \"machst\": 843, \"entlassen\": 844, \"erkaeltet\": 845, \"liest\": 846, \"verkauft\": 847, \"geschossen\": 848, \"japaner\": 849, \"aufgestanden\": 850, \"menschen\": 851, \"jemanden\": 852, \"student\": 853, \"kuenstler\": 854, \"anders\": 855, \"gefahr\": 856, \"chef\": 857, \"zog\": 858, \"normal\": 859, \"sechs\": 860, \"vermisst\": 861, \"leute\": 862, \"apfel\": 863, \"getrunken\": 864, \"trug\": 865, \"traum\": 866, \"schulde\": 867, \"brille\": 868, \"tragen\": 869, \"getoetet\": 870, \"koenntest\": 871, \"begann\": 872, \"he\": 873, \"feind\": 874, \"laecheln\": 875, \"sang\": 876, \"verschwinde\": 877, \"verzieh\": 878, \"heim\": 879, \"umarmt\": 880, \"tapfer\": 881, \"beeil\": 882, \"zahlen\": 883, \"gerecht\": 884, \"lauter\": 885, \"wunderbar\": 886, \"weine\": 887, \"luege\": 888, \"folge\": 889, \"ohnmaechtig\": 890, \"amuesiert\": 891, \"genommen\": 892, \"helfe\": 893, \"blind\": 894, \"sieben\": 895, \"jeden\": 896, \"aber\": 897, \"gesprochen\": 898, \"gewaehlt\": 899, \"idiot\": 900, \"eingestellt\": 901, \"geduldig\": 902, \"boden\": 903, \"ueberpruefen\": 904, \"trat\": 905, \"ueberlebt\": 906, \"stadt\": 907, \"rede\": 908, \"schaute\": 909, \"entscheiden\": 910, \"duerfen\": 911, \"dann\": 912, \"kreativ\": 913, \"jungen\": 914, \"esst\": 915, \"schaffen\": 916, \"brot\": 917, \"fand\": 918, \"leichtglaeubig\": 919, \"klarkommen\": 920, \"gesetz\": 921, \"ungewoehnlich\": 922, \"nutzlos\": 923, \"bloed\": 924, \"spazieren\": 925, \"betrogen\": 926, \"laut\": 927, \"erinnern\": 928, \"kaempfen\": 929, \"hingehen\": 930, \"ei\": 931, \"nackt\": 932, \"frauen\": 933, \"schlaefrig\": 934, \"geschieden\": 935, \"beleidigt\": 936, \"krebs\": 937, \"leer\": 938, \"lieber\": 939, \"traeume\": 940, \"mantel\": 941, \"hasste\": 942, \"reizend\": 943, \"bewusstsein\": 944, \"geantwortet\": 945, \"herunter\": 946, \"studiert\": 947, \"lernt\": 948, \"musste\": 949, \"pferde\": 950, \"sport\": 951, \"vertraute\": 952, \"freiwillig\": 953, \"hinein\": 954, \"geheimnis\": 955, \"ausland\": 956, \"mager\": 957, \"gewarnt\": 958, \"regeln\": 959, \"wieso\": 960, \"wart\": 961, \"hoeflich\": 962, \"schoenen\": 963, \"soehne\": 964, \"beim\": 965, \"aufgeregt\": 966, \"sinn\": 967, \"viele\": 968, \"deiner\": 969, \"besuchen\": 970, \"woher\": 971, \"nachricht\": 972, \"schuhe\": 973, \"gestern\": 974, \"lauf\": 975, \"fragt\": 976, \"fett\": 977, \"ordentlich\": 978, \"aufgehoert\": 979, \"richtig\": 980, \"warnen\": 981, \"beobachtet\": 982, \"stimmen\": 983, \"schreib\": 984, \"dollar\": 985, \"geschummelt\": 986, \"gehorchen\": 987, \"soweit\": 988, \"fall\": 989, \"na\": 990, \"herum\": 991, \"schneller\": 992, \"sing\": 993, \"versprochen\": 994, \"schoss\": 995, \"deins\": 996, \"trinkt\": 997, \"nickte\": 998, \"wartete\": 999, \"arbeitete\": 1000, \"moment\": 1001, \"jungs\": 1002, \"verlass\": 1003, \"obst\": 1004, \"pingelig\": 1005, \"aufrichtig\": 1006, \"durst\": 1007, \"ungluecklich\": 1008, \"schneit\": 1009, \"liste\": 1010, \"heisst\": 1011, \"bringen\": 1012, \"wehgetan\": 1013, \"reihe\": 1014, \"kommst\": 1015, \"kuemmern\": 1016, \"ehrgeizig\": 1017, \"beweise\": 1018, \"umarmte\": 1019, \"zucker\": 1020, \"erklaeren\": 1021, \"anwalt\": 1022, \"traeumen\": 1023, \"verschwunden\": 1024, \"dinge\": 1025, \"schmutzig\": 1026, \"unglaublich\": 1027, \"glauben\": 1028, \"fernsehen\": 1029, \"fische\": 1030, \"hinunter\": 1031, \"nase\": 1032, \"bekomme\": 1033, \"weitermachen\": 1034, \"geheiratet\": 1035, \"tennis\": 1036, \"zeige\": 1037, \"ueberzeugt\": 1038, \"zurueckgekommen\": 1039, \"reinkommen\": 1040, \"ende\": 1041, \"reicht\": 1042, \"verliess\": 1043, \"umziehen\": 1044, \"beiden\": 1045, \"schneide\": 1046, \"yoga\": 1047, \"wuensche\": 1048, \"nun\": 1049, \"jahr\": 1050, \"zaehlen\": 1051, \"traegt\": 1052, \"bart\": 1053, \"wegen\": 1054, \"schwestern\": 1055, \"versuche\": 1056, \"wert\": 1057, \"rat\": 1058, \"boot\": 1059, \"nieder\": 1060, \"zweimal\": 1061, \"brueder\": 1062, \"werdet\": 1063, \"koennten\": 1064, \"drei\": 1065, \"langweile\": 1066, \"moechtest\": 1067, \"hinterher\": 1068, \"fleissig\": 1069, \"eile\": 1070, \"bestellt\": 1071, \"billig\": 1072, \"himmel\": 1073, \"waehlerisch\": 1074, \"vergesslich\": 1075, \"hemd\": 1076, \"feuer\": 1077, \"schwimme\": 1078, \"hau\": 1079, \"pack\": 1080, \"fliege\": 1081, \"schlagen\": 1082, \"behaltet\": 1083, \"fassen\": 1084, \"tief\": 1085, \"benutze\": 1086, \"glatze\": 1087, \"schmerzt\": 1088, \"klappt\": 1089, \"erzaehl\": 1090, \"beobachte\": 1091, \"gewinne\": 1092, \"zaeh\": 1093, \"gar\": 1094, \"probieren\": 1095, \"tritt\": 1096, \"uebernehmen\": 1097, \"bord\": 1098, \"irre\": 1099, \"eines\": 1100, \"legte\": 1101, \"kaputtgemacht\": 1102, \"gebaut\": 1103, \"fehlst\": 1104, \"bescheiden\": 1105, \"funktionieren\": 1106, \"vorne\": 1107, \"geblieben\": 1108, \"gehabt\": 1109, \"ding\": 1110, \"tat\": 1111, \"diskret\": 1112, \"vernuenftig\": 1113, \"schnee\": 1114, \"wohne\": 1115, \"benoetige\": 1116, \"besoffen\": 1117, \"kind\": 1118, \"spreche\": 1119, \"wohlhabend\": 1120, \"schmeckt\": 1121, \"ihres\": 1122, \"schick\": 1123, \"gingen\": 1124, \"denk\": 1125, \"voraus\": 1126, \"unterrichtet\": 1127, \"ausser\": 1128, \"waehlen\": 1129, \"gestohlen\": 1130, \"nummer\": 1131, \"zehn\": 1132, \"kuemmere\": 1133, \"gesungen\": 1134, \"gerufen\": 1135, \"steh\": 1136, \"fahr\": 1137, \"aepfel\": 1138, \"uebel\": 1139, \"sushi\": 1140, \"suessigkeiten\": 1141, \"farbe\": 1142, \"zurueckkommen\": 1143, \"sucht\": 1144, \"ohr\": 1145, \"diabetiker\": 1146, \"engel\": 1147, \"studiere\": 1148, \"gruendlich\": 1149, \"erschoepft\": 1150, \"scherz\": 1151, \"beeilt\": 1152, \"dahin\": 1153, \"hassen\": 1154, \"gelacht\": 1155, \"sagten\": 1156, \"antwortete\": 1157, \"meinte\": 1158, \"erledigt\": 1159, \"benutzt\": 1160, \"verstehen\": 1161, \"regen\": 1162, \"erfolgreich\": 1163, \"darfst\": 1164, \"sicherheitsdienst\": 1165, \"blass\": 1166, \"paris\": 1167, \"ahnung\": 1168, \"ausstehen\": 1169, \"gelesen\": 1170, \"maus\": 1171, \"schueler\": 1172, \"ungeduldig\": 1173, \"fach\": 1174, \"versichert\": 1175, \"eilte\": 1176, \"zieht\": 1177, \"kopfschmerzen\": 1178, \"tor\": 1179, \"oeffnet\": 1180, \"frieden\": 1181, \"ziehe\": 1182, \"drehte\": 1183, \"ueberleben\": 1184, \"unfair\": 1185, \"kuehe\": 1186, \"fressen\": 1187, \"motor\": 1188, \"hoerst\": 1189, \"handtuch\": 1190, \"steigen\": 1191, \"lied\": 1192, \"gefolgt\": 1193, \"spinnen\": 1194, \"tisch\": 1195, \"herz\": 1196, \"heimweh\": 1197, \"schwierigkeiten\": 1198, \"ruhestand\": 1199, \"pfeifen\": 1200, \"sommer\": 1201, \"benommen\": 1202, \"faellt\": 1203, \"umgebracht\": 1204, \"strasse\": 1205, \"neidisch\": 1206, \"wenn\": 1207, \"diesem\": 1208, \"unverheiratet\": 1209, \"fussball\": 1210, \"starrte\": 1211, \"kerze\": 1212, \"leisten\": 1213, \"schwester\": 1214, \"brief\": 1215, \"film\": 1216, \"grossen\": 1217, \"offen\": 1218, \"schreibtisch\": 1219, \"messer\": 1220, \"unsicher\": 1221, \"aufgehalten\": 1222, \"neben\": 1223, \"waffen\": 1224, \"probiere\": 1225, \"drueck\": 1226, \"verdufte\": 1227, \"acker\": 1228, \"verkruemele\": 1229, \"troll\": 1230, \"zisch\": 1231, \"ne\": 1232, \"schwirr\": 1233, \"sause\": 1234, \"wiedersehen\": 1235, \"schliesse\": 1236, \"drauf\": 1237, \"willkommen\": 1238, \"leg\": 1239, \"reparieren\": 1240, \"deckung\": 1241, \"retten\": 1242, \"log\": 1243, \"erzaehlen\": 1244, \"geschwommen\": 1245, \"beobachten\": 1246, \"wozu\": 1247, \"beruhige\": 1248, \"fuenf\": 1249, \"ohnmacht\": 1250, \"fuerchte\": 1251, \"erster\": 1252, \"schlimm\": 1253, \"verlasse\": 1254, \"dreh\": 1255, \"sitzen\": 1256, \"dorthin\": 1257, \"versuchte\": 1258, \"sahen\": 1259, \"siegen\": 1260, \"schreibe\": 1261, \"acht\": 1262, \"such\": 1263, \"gucken\": 1264, \"gewann\": 1265, \"meint\": 1266, \"eis\": 1267, \"voreingenommen\": 1268, \"gierig\": 1269, \"ruiniert\": 1270, \"kostenlos\": 1271, \"gruen\": 1272, \"gelaechelt\": 1273, \"stimmte\": 1274, \"tanzt\": 1275, \"zwinkerte\": 1276, \"rechts\": 1277, \"verbindung\": 1278, \"schliessen\": 1279, \"nochmals\": 1280, \"fragte\": 1281, \"insekten\": 1282, \"mathe\": 1283, \"mathematik\": 1284, \"schwindlig\": 1285, \"aufstehen\": 1286, \"entspannt\": 1287, \"durstig\": 1288, \"gescheitert\": 1289, \"regnet\": 1290, \"regel\": 1291, \"entspannen\": 1292, \"welt\": 1293, \"biss\": 1294, \"betrog\": 1295, \"letzte\": 1296, \"hellwach\": 1297, \"lag\": 1298, \"schluss\": 1299, \"bewaffnet\": 1300, \"durcheinander\": 1301, \"objektiv\": 1302, \"bringe\": 1303, \"drum\": 1304, \"haelfte\": 1305, \"guten\": 1306, \"erwachsen\": 1307, \"mutig\": 1308, \"mut\": 1309, \"laufpass\": 1310, \"arrogant\": 1311, \"schaeme\": 1312, \"verwundet\": 1313, \"zerbrochen\": 1314, \"singe\": 1315, \"zweifel\": 1316, \"selten\": 1317, \"gedacht\": 1318, \"lieb\": 1319, \"rechtsanwalt\": 1320, \"zuverlaessig\": 1321, \"schlafe\": 1322, \"salz\": 1323, \"unmoralisch\": 1324, \"ueberlass\": 1325, \"erledigen\": 1326, \"nachdenken\": 1327, \"rate\": 1328, \"trafen\": 1329, \"stellen\": 1330, \"summen\": 1331, \"kannten\": 1332, \"niedergeschlagen\": 1333, \"brach\": 1334, \"spion\": 1335, \"launisch\": 1336, \"geraten\": 1337, \"verbluefft\": 1338, \"wahnsinnig\": 1339, \"mittag\": 1340, \"verstecken\": 1341, \"scherzt\": 1342, \"aufgeben\": 1343, \"luegst\": 1344, \"gewachsen\": 1345, \"neuen\": 1346, \"sonst\": 1347, \"fachmann\": 1348, \"toeten\": 1349, \"sangen\": 1350, \"paar\": 1351, \"japanerin\": 1352, \"eingeschlafen\": 1353, \"winter\": 1354, \"scherze\": 1355, \"suesses\": 1356, \"arabisch\": 1357, \"rettete\": 1358, \"fehlen\": 1359, \"beweisen\": 1360, \"ueberrascht\": 1361, \"gewesen\": 1362, \"geschaeft\": 1363, \"minute\": 1364, \"zurueckgehen\": 1365, \"ruecken\": 1366, \"knie\": 1367, \"puppe\": 1368, \"risiko\": 1369, \"irren\": 1370, \"landkarte\": 1371, \"betet\": 1372, \"baby\": 1373, \"noetig\": 1374, \"oeffnete\": 1375, \"beschwipst\": 1376, \"adoptiert\": 1377, \"verlobt\": 1378, \"wurden\": 1379, \"papier\": 1380, \"welches\": 1381, \"summt\": 1382, \"wem\": 1383, \"hineingehen\": 1384, \"scheinen\": 1385, \"anfassen\": 1386, \"selber\": 1387, \"angeln\": 1388, \"park\": 1389, \"golf\": 1390, \"schriftsteller\": 1391, \"onkel\": 1392, \"miteinander\": 1393, \"deinem\": 1394, \"geschenke\": 1395, \"verriet\": 1396, \"kaufte\": 1397, \"gebrochen\": 1398, \"gehalten\": 1399, \"englisch\": 1400, \"ablehnen\": 1401, \"rueber\": 1402, \"danken\": 1403, \"zerstoert\": 1404, \"weihnachten\": 1405, \"zug\": 1406, \"entschuldige\": 1407, \"laufenden\": 1408, \"preis\": 1409, \"besitzt\": 1410, \"bewusstlos\": 1411, \"lacht\": 1412, \"zoegert\": 1413, \"herausbekommen\": 1414, \"entschlossen\": 1415, \"partner\": 1416, \"studenten\": 1417, \"koenntet\": 1418, \"wuerden\": 1419, \"nachhause\": 1420, \"krawatte\": 1421, \"glaubt\": 1422, \"traeumt\": 1423, \"schlechte\": 1424, \"antwort\": 1425, \"furchtbar\": 1426, \"ganzen\": 1427, \"redete\": 1428, \"klang\": 1429, \"rolle\": 1430, \"freue\": 1431, \"hase\": 1432, \"verkaufen\": 1433, \"begeistert\": 1434, \"erneut\": 1435, \"wohin\": 1436, \"verpasst\": 1437, \"telefon\": 1438, \"angefasst\": 1439, \"saft\": 1440, \"vollkommen\": 1441, \"frueher\": 1442, \"alte\": 1443, \"erst\": 1444, \"droge\": 1445, \"wirkte\": 1446, \"unmoeglich\": 1447, \"fantastisch\": 1448, \"entspann\": 1449, \"umarmen\": 1450, \"gerannt\": 1451, \"fasst\": 1452, \"findet\": 1453, \"repariere\": 1454, \"taub\": 1455, \"naechste\": 1456, \"vorsicht\": 1457, \"stirb\": 1458, \"entschuldigung\": 1459, \"legt\": 1460, \"lage\": 1461, \"aufgegeben\": 1462, \"meinst\": 1463, \"kicherte\": 1464, \"traf\": 1465, \"erste\": 1466, \"geschneit\": 1467, \"viertel\": 1468, \"spring\": 1469, \"guck\": 1470, \"schuss\": 1471, \"mach\\'s\": 1472, \"bewegte\": 1473, \"seht\": 1474, \"warteten\": 1475, \"kuemmert\": 1476, \"sterbe\": 1477, \"liege\": 1478, \"suche\": 1479, \"hingegangen\": 1480, \"bewegt\": 1481, \"schrei\": 1482, \"hustete\": 1483, \"zurueckgetreten\": 1484, \"verstecke\": 1485, \"single\": 1486, \"ziehen\": 1487, \"wachsam\": 1488, \"nickerchen\": 1489, \"schmecken\": 1490, \"standen\": 1491, \"stoehnte\": 1492, \"gehorcht\": 1493, \"gebetet\": 1494, \"seufzte\": 1495, \"geschrien\": 1496, \"streng\": 1497, \"strengt\": 1498, \"naechstes\": 1499, \"verlaufen\": 1500, \"gnadenlos\": 1501, \"gedanken\": 1502, \"entlang\": 1503, \"gehasst\": 1504, \"daheim\": 1505, \"verbrannt\": 1506, \"rock\": 1507, \"verschlafen\": 1508, \"lippen\": 1509, \"geirrt\": 1510, \"tanze\": 1511, \"rente\": 1512, \"nichtsnutz\": 1513, \"bedient\": 1514, \"ignoriert\": 1515, \"moeglich\": 1516, \"regnen\": 1517, \"schade\": 1518, \"abgeschlossen\": 1519, \"zweck\": 1520, \"dringend\": 1521, \"versuch\\'s\": 1522, \"teilen\": 1523, \"schaue\": 1524, \"dank\": 1525, \"gutes\": 1526, \"pflanzen\": 1527, \"stell\": 1528, \"schicken\": 1529, \"dieb\": 1530, \"langsamer\": 1531, \"kamen\": 1532, \"laechelten\": 1533, \"blickte\": 1534, \"leidet\": 1535, \"eingebildet\": 1536, \"kniete\": 1537, \"angehalten\": 1538, \"waehle\": 1539, \"fbi\": 1540, \"treten\": 1541, \"herauf\": 1542, \"ok\": 1543, \"trotzdem\": 1544, \"berliner\": 1545, \"super\": 1546, \"toericht\": 1547, \"einfaeltig\": 1548, \"kaese\": 1549, \"schloss\": 1550, \"gefehlt\": 1551, \"schlaf\": 1552, \"dachte\": 1553, \"beweis\": 1554, \"versagen\": 1555, \"hole\": 1556, \"verklagen\": 1557, \"suechtig\": 1558, \"achtzehn\": 1559, \"obdachlos\": 1560, \"heiliger\": 1561, \"stur\": 1562, \"meines\": 1563, \"angefangen\": 1564, \"schweine\": 1565, \"interessiert\": 1566, \"heben\": 1567, \"stelle\": 1568, \"irrt\": 1569, \"verklagt\": 1570, \"gold\": 1571, \"gruselig\": 1572, \"gewitzt\": 1573, \"verschwand\": 1574, \"ausgehen\": 1575, \"scherzen\": 1576, \"amuesieren\": 1577, \"clever\": 1578, \"mitmachen\": 1579, \"ertrunken\": 1580, \"werd\": 1581, \"hinauf\": 1582, \"sogar\": 1583, \"vogel\": 1584, \"blumen\": 1585, \"zahn\": 1586, \"kuss\": 1587, \"kuesste\": 1588, \"erblindete\": 1589, \"schach\": 1590, \"verziehen\": 1591, \"grippe\": 1592, \"ring\": 1593, \"laufe\": 1594, \"abendbrot\": 1595, \"flugzeug\": 1596, \"gemeldet\": 1597, \"meldete\": 1598, \"schaemte\": 1599, \"weckte\": 1600, \"ansehen\": 1601, \"lehrerin\": 1602, \"tourist\": 1603, \"motiviert\": 1604, \"blut\": 1605, \"schlimmer\": 1606, \"geschenk\": 1607, \"falle\": 1608, \"schaden\": 1609, \"befehl\": 1610, \"diesmal\": 1611, \"schwierig\": 1612, \"kontrollieren\": 1613, \"fortfahren\": 1614, \"heisser\": 1615, \"meiner\": 1616, \"kopfweh\": 1617, \"heisse\": 1618, \"fueller\": 1619, \"zuversichtlich\": 1620, \"suppe\": 1621, \"aufgabe\": 1622, \"tasse\": 1623, \"japan\": 1624, \"plaene\": 1625, \"narr\": 1626, \"versteckt\": 1627, \"papa\": 1628, \"reingelegt\": 1629, \"erfolg\": 1630, \"bewundern\": 1631, \"erwischt\": 1632, \"verspaeten\": 1633, \"aerzte\": 1634, \"eltern\": 1635, \"angeschossen\": 1636, \"fastet\": 1637, \"post\": 1638, \"fragst\": 1639, \"solltet\": 1640, \"tiger\": 1641, \"liebst\": 1642, \"versuchung\": 1643, \"fern\": 1644, \"drachen\": 1645, \"amerikaner\": 1646, \"aufgeschlossen\": 1647, \"eindruck\": 1648, \"bereits\": 1649, \"glaubte\": 1650, \"rad\": 1651, \"bein\": 1652, \"schlaganfall\": 1653, \"raetsel\": 1654, \"radio\": 1655, \"kekse\": 1656, \"stuhl\": 1657, \"wiederkommen\": 1658, \"einladen\": 1659, \"gefangene\": 1660, \"fasziniert\": 1661, \"dummkopf\": 1662, \"aufgebracht\": 1663, \"moechten\": 1664, \"unserer\": 1665, \"blond\": 1666, \"erfahren\": 1667, \"tratschen\": 1668, \"wich\": 1669, \"ueberfallen\": 1670, \"hinterhaeltig\": 1671, \"angezogen\": 1672, \"verzweifelt\": 1673, \"sympathisch\": 1674, \"sitzt\": 1675, \"gepflegt\": 1676, \"wache\": 1677, \"besten\": 1678, \"licht\": 1679, \"skifahren\": 1680, \"zustimmen\": 1681, \"furchtlos\": 1682, \"wasch\": 1683, \"mussten\": 1684, \"respektieren\": 1685, \"hilflos\": 1686, \"weggenommen\": 1687, \"weggeraeumt\": 1688, \"entfernt\": 1689, \"beseitigt\": 1690, \"rote\": 1691, \"vorbereitet\": 1692, \"arbeitest\": 1693, \"zaehlt\": 1694, \"zuleide\": 1695, \"daneben\": 1696, \"fahrt\": 1697, \"rasen\": 1698, \"wirkt\": 1699, \"vierzig\": 1700, \"riskieren\": 1701, \"jedes\": 1702, \"hausaufgaben\": 1703, \"geraeusch\": 1704, \"raum\": 1705, \"rotwein\": 1706, \"beine\": 1707, \"spielte\": 1708, \"gitarre\": 1709, \"wuenschte\": 1710, \"abstreiten\": 1711, \"genossen\": 1712, \"atmet\": 1713, \"bloss\": 1714, \"erfreut\": 1715, \"stift\": 1716, \"pfeffer\": 1717, \"seife\": 1718, \"wohnen\": 1719, \"veraengstigt\": 1720, \"bestanden\": 1721, \"fuetterte\": 1722, \"geaendert\": 1723, \"verrueckter\": 1724, \"saenger\": 1725, \"athletisch\": 1726, \"grosszuegig\": 1727, \"hoffnungsloser\": 1728, \"verschwender\": 1729, \"verschwenderisch\": 1730, \"rechthaberisch\": 1731, \"stich\": 1732, \"zuendete\": 1733, \"blick\": 1734, \"angespannt\": 1735, \"abgenommen\": 1736, \"erschreckt\": 1737, \"herausfinden\": 1738, \"darin\": 1739, \"wisst\": 1740, \"trinkst\": 1741, \"zaehne\": 1742, \"bestellung\": 1743, \"schwert\": 1744, \"pferden\": 1745, \"armbanduhr\": 1746, \"erreichen\": 1747, \"machtlos\": 1748, \"wahl\": 1749, \"neue\": 1750, \"bleistift\": 1751, \"kompliziert\": 1752, \"puls\": 1753, \"person\": 1754, \"sturm\": 1755, \"woche\": 1756, \"erfinderisch\": 1757, \"nachlaessig\": 1758, \"blatt\": 1759, \"gespraechig\": 1760, \"euren\": 1761, \"ganze\": 1762, \"bade\": 1763, \"stuerzte\": 1764, \"verpiss\": 1765, \"nachlassen\": 1766, \"schlage\": 1767, \"drueckt\": 1768, \"bin\\'s\": 1769, \"zeig\\'s\": 1770, \"ernsthaft\": 1771, \"hab\\'s\": 1772, \"zurecht\": 1773, \"gesprungen\": 1774, \"rasiert\": 1775, \"gewartet\": 1776, \"satt\": 1777, \"losgehen\": 1778, \"schwamm\": 1779, \"beruhigen\": 1780, \"fangt\": 1781, \"entschuldigen\": 1782, \"dj\": 1783, \"traege\": 1784, \"wachte\": 1785, \"knapp\": 1786, \"nuechtern\": 1787, \"gehoere\": 1788, \"geklappt\": 1789, \"vier\": 1790, \"sand\": 1791, \"behalte\": 1792, \"beweg\": 1793, \"sitz\": 1794, \"uebernimm\": 1795, \"waehlte\": 1796, \"ziel\": 1797, \"hoeher\": 1798, \"antworte\": 1799, \"tatsachen\": 1800, \"folgt\": 1801, \"elegant\": 1802, \"springen\": 1803, \"abgesagt\": 1804, \"ansicht\": 1805, \"repariert\": 1806, \"zugehoert\": 1807, \"ueberlebte\": 1808, \"uebergeben\": 1809, \"pummelig\": 1810, \"ledig\": 1811, \"ignorier\": 1812, \"cd\": 1813, \"jesus\": 1814, \"beten\": 1815, \"schlag\": 1816, \"probleme\": 1817, \"ach\": 1818, \"hebe\": 1819, \"beeile\": 1820, \"ruelpste\": 1821, \"betruegt\": 1822, \"versagt\": 1823, \"schnappte\": 1824, \"cds\": 1825, \"lachten\": 1826, \"gnaedig\": 1827, \"gewappnet\": 1828, \"spezifisch\": 1829, \"teile\": 1830, \"besuch\": 1831, \"setzt\": 1832, \"zaehl\": 1833, \"betruege\": 1834, \"muenze\": 1835, \"davongekommen\": 1836, \"bloedmann\": 1837, \"zwilling\": 1838, \"maeuse\": 1839, \"zoegerte\": 1840, \"stellte\": 1841, \"jazz\": 1842, \"sollst\": 1843, \"ufo\": 1844, \"rieche\": 1845, \"kaufe\": 1846, \"zurechtkommen\": 1847, \"tollpatsch\": 1848, \"krankenschwester\": 1849, \"luegnerin\": 1850, \"bleibe\": 1851, \"fassungslos\": 1852, \"unbewaffnet\": 1853, \"legal\": 1854, \"mitnehmen\": 1855, \"eures\": 1856, \"bringt\": 1857, \"fruehling\": 1858, \"sie\\'s\": 1859, \"loslegen\": 1860, \"genauer\": 1861, \"vielen\": 1862, \"wachsen\": 1863, \"laenger\": 1864, \"probiert\": 1865, \"handelt\": 1866, \"enorm\": 1867, \"schummelte\": 1868, \"entkam\": 1869, \"friert\": 1870, \"dachschaden\": 1871, \"leitung\": 1872, \"aufgeblasen\": 1873, \"bemerkt\": 1874, \"bezahlte\": 1875, \"lehnte\": 1876, \"witzig\": 1877, \"aelter\": 1878, \"wecke\": 1879, \"setzten\": 1880, \"nahe\": 1881, \"zeitig\": 1882, \"stirbt\": 1883, \"polizei\": 1884, \"fuehre\": 1885, \"einzuwenden\": 1886, \"nerv\": 1887, \"nerven\": 1888, \"gewehr\": 1889, \"endlich\": 1890, \"frohe\": 1891, \"dichter\": 1892, \"heldenhaft\": 1893, \"getreten\": 1894, \"maedels\": 1895, \"erbaermlich\": 1896, \"bewundere\": 1897, \"erwarten\": 1898, \"geschnitten\": 1899, \"schwindelig\": 1900, \"blendend\": 1901, \"joggen\": 1902, \"bohnen\": 1903, \"drueckte\": 1904, \"reisen\": 1905, \"klavier\": 1906, \"erschuettert\": 1907, \"kuenstlerisch\": 1908, \"dankbar\": 1909, \"kater\": 1910, \"unverletzt\": 1911, \"gedauert\": 1912, \"pfeife\": 1913, \"voran\": 1914, \"zeigt\": 1915, \"kiefer\": 1916, \"niemanden\": 1917, \"fuchs\": 1918, \"hammer\": 1919, \"suesse\": 1920, \"kontrolle\": 1921, \"gaben\": 1922, \"hoerten\": 1923, \"darauf\": 1924, \"treu\": 1925, \"unordentlich\": 1926, \"vage\": 1927, \"letzter\": 1928, \"niemandem\": 1929, \"nutze\": 1930, \"weck\": 1931, \"gestanden\": 1932, \"mochten\": 1933, \"erbaut\": 1934, \"liegen\": 1935, \"daemlich\": 1936, \"besonders\": 1937, \"tanz\": 1938, \"verstehst\": 1939, \"zeichne\": 1940, \"sekunde\": 1941, \"fuehrt\": 1942, \"ignorierte\": 1943, \"schlittschuh\": 1944, \"menge\": 1945, \"autos\": 1946, \"hereingelegt\": 1947, \"laestig\": 1948, \"oder\": 1949, \"seil\": 1950, \"aufregend\": 1951, \"bewunderte\": 1952, \"moslem\": 1953, \"lerne\": 1954, \"uebertrieben\": 1955, \"gefuettert\": 1956, \"zwiebeln\": 1957, \"loeffel\": 1958, \"zuege\": 1959, \"herbst\": 1960, \"pandas\": 1961, \"heiratete\": 1962, \"beinahe\": 1963, \"spaziergang\": 1964, \"zuhoeren\": 1965, \"nachts\": 1966, \"erlaube\": 1967, \"umbringen\": 1968, \"studentin\": 1969, \"tatverdaechtiger\": 1970, \"uebergewichtig\": 1971, \"unterwegs\": 1972, \"drueben\": 1973, \"unversichert\": 1974, \"ueberaus\": 1975, \"beschaedigt\": 1976, \"eben\": 1977, \"erleichterung\": 1978, \"nervt\": 1979, \"hoffnungslos\": 1980, \"besetzt\": 1981, \"unwahrscheinlich\": 1982, \"haengt\": 1983, \"kontrollier\": 1984, \"kontrolliert\": 1985, \"verschwinden\": 1986, \"kontakt\": 1987, \"eintreten\": 1988, \"fortgehen\": 1989, \"tresor\": 1990, \"mannschaft\": 1991, \"niedlich\": 1992, \"veraendern\": 1993, \"tuere\": 1994, \"einige\": 1995, \"ruehr\": 1996, \"anzugeben\": 1997, \"verschieden\": 1998, \"liebten\": 1999, \"braun\": 2000, \"beifall\": 2001, \"weggehen\": 2002, \"poet\": 2003, \"sparsam\": 2004, \"verliert\": 2005, \"unfreundlich\": 2006, \"erinnert\": 2007, \"genervt\": 2008, \"hinkt\": 2009, \"gewalttaetig\": 2010, \"bitten\": 2011, \"cousins\": 2012, \"feinde\": 2013, \"schockiert\": 2014, \"passierte\": 2015, \"riechst\": 2016, \"huebsch\": 2017, \"benimm\": 2018, \"benutzen\": 2019, \"tod\": 2020, \"sagtest\": 2021, \"salat\": 2022, \"geniessen\": 2023, \"vorfuehrung\": 2024, \"steig\": 2025, \"mitfahren\": 2026, \"glueckwunsch\": 2027, \"schauspieler\": 2028, \"maechtig\": 2029, \"spieler\": 2030, \"kostet\": 2031, \"ihrem\": 2032, \"bekannt\": 2033, \"geglaubt\": 2034, \"kirche\": 2035, \"fieber\": 2036, \"lastwagen\": 2037, \"lkw\": 2038, \"tiere\": 2039, \"bananen\": 2040, \"gebacken\": 2041, \"bar\": 2042, \"verabschiedete\": 2043, \"glas\": 2044, \"gerechtigkeit\": 2045, \"rache\": 2046, \"urlaub\": 2047, \"vergiftet\": 2048, \"polizist\": 2049, \"optimist\": 2050, \"arbeitslos\": 2051, \"verkauf\": 2052, \"versprechen\": 2053, \"wohnung\": 2054, \"ob\": 2055, \"platten\": 2056, \"wird\\'s\": 2057, \"tueren\": 2058, \"heran\": 2059, \"vorueber\": 2060, \"foto\": 2061, \"erfordert\": 2062, \"fix\": 2063, \"verbrechen\": 2064, \"offensichtlich\": 2065, \"quatsch\": 2066, \"logisch\": 2067, \"unsinn\": 2068, \"unverschaemt\": 2069, \"riechen\": 2070, \"idioten\": 2071, \"denkt\": 2072, \"positiv\": 2073, \"loewe\": 2074, \"loch\": 2075, \"fuehlt\": 2076, \"ford\": 2077, \"amuesant\": 2078, \"konzentriert\": 2079, \"durchgedreht\": 2080, \"hilfreich\": 2081, \"geschichte\": 2082, \"liebenswert\": 2083, \"dienst\": 2084, \"anwesend\": 2085, \"zittert\": 2086, \"derjenige\": 2087, \"gescheit\": 2088, \"laerm\": 2089, \"gefuehrt\": 2090, \"gebraucht\": 2091, \"laesst\": 2092, \"risiken\": 2093, \"blutet\": 2094, \"bezaubernd\": 2095, \"harmlos\": 2096, \"boss\": 2097, \"bauch\": 2098, \"sosse\": 2099, \"vertrauten\": 2100, \"fuerchterlich\": 2101, \"land\": 2102, \"welcher\": 2103, \"wofuer\": 2104, \"fuehrung\": 2105, \"wuerdet\": 2106, \"groesste\": 2107, \"deines\": 2108, \"doof\": 2109, \"gefahren\": 2110, \"fallenlassen\": 2111, \"lueg\": 2112, \"vertrau\": 2113, \"hintergangen\": 2114, \"surfen\": 2115, \"fuehlst\": 2116, \"interessant\": 2117, \"sprachlos\": 2118, \"orange\": 2119, \"zunge\": 2120, \"heruntergeladen\": 2121, \"erleichtert\": 2122, \"teppich\": 2123, \"theorie\": 2124, \"haut\": 2125, \"gegend\": 2126, \"baseball\": 2127, \"kartoffeln\": 2128, \"feiere\": 2129, \"boeses\": 2130, \"verstand\": 2131, \"gespielt\": 2132, \"geredet\": 2133, \"entsetzt\": 2134, \"puenktlich\": 2135, \"benachrichtigen\": 2136, \"nichte\": 2137, \"flehe\": 2138, \"beschaemt\": 2139, \"todernst\": 2140, \"giftig\": 2141, \"versalzen\": 2142, \"fluss\": 2143, \"schoener\": 2144, \"ueberraschung\": 2145, \"frisch\": 2146, \"verpack\": 2147, \"wechselgeld\": 2148, \"anprobieren\": 2149, \"anzug\": 2150, \"grau\": 2151, \"flasche\": 2152, \"hierhin\": 2153, \"ohrfeige\": 2154, \"aufgeweckt\": 2155, \"karten\": 2156, \"tabletten\": 2157, \"see\": 2158, \"mond\": 2159, \"soldat\": 2160, \"brunnen\": 2161, \"groessten\": 2162, \"benahm\": 2163, \"angegriffen\": 2164, \"geleistet\": 2165, \"unbehaglich\": 2166, \"gekaempft\": 2167, \"kaninchen\": 2168, \"empoert\": 2169, \"ruecksichtslos\": 2170, \"beunruhigt\": 2171, \"unvoreingenommen\": 2172, \"lebte\": 2173, \"stach\": 2174, \"bad\": 2175, \"wandte\": 2176, \"cousin\": 2177, \"neffe\": 2178, \"brachten\": 2179, \"zoo\": 2180, \"wusstest\": 2181, \"wusstet\": 2182, \"ueberheblich\": 2183, \"seinem\": 2184, \"flexibler\": 2185, \"jemals\": 2186, \"wollt\": 2187, \"moegt\": 2188, \"wohnst\": 2189, \"taeuschen\": 2190, \"erwischen\": 2191, \"sprecht\": 2192, \"erklaert\": 2193, \"treppe\": 2194, \"gegen\": 2195, \"angelt\": 2196, \"gemalt\": 2197, \"spielzeug\": 2198, \"huete\": 2199, \"pruefung\": 2200, \"phantastisch\": 2201, \"halloween\": 2202, \"stifte\": 2203, \"band\": 2204, \"auge\": 2205, \"computer\": 2206, \"weigerte\": 2207, \"bereue\": 2208, \"besuchte\": 2209, \"kampf\": 2210, \"wusch\": 2211, \"bank\": 2212, \"sonntag\": 2213, \"bestraft\": 2214, \"fahrer\": 2215, \"journalist\": 2216, \"mitglied\": 2217, \"total\": 2218, \"schlimmeres\": 2219, \"gefaehrlich\": 2220, \"schneien\": 2221, \"bedeutet\": 2222, \"waschen\": 2223, \"links\": 2224, \"verrichten\": 2225, \"poker\": 2226, \"dose\": 2227, \"behutsam\": 2228, \"kiste\": 2229, \"befoerdert\": 2230, \"groesse\": 2231, \"verraeter\": 2232, \"gefaengnis\": 2233, \"nimmt\": 2234, \"hockey\": 2235, \"bauer\": 2236, \"angewiesen\": 2237, \"welch\": 2238, \"endet\": 2239, \"terminkalender\": 2240, \"billiger\": 2241, \"juenger\": 2242, \"redselig\": 2243, \"nachvollziehen\": 2244, \"anderen\": 2245, \"krankenwagen\": 2246, \"krankenhaus\": 2247, \"ort\": 2248, \"beabsichtigt\": 2249, \"haustier\": 2250, \"tage\": 2251, \"maennern\": 2252, \"kurze\": 2253, \"aufenthalt\": 2254, \"hamburger\": 2255, \"vorwurf\": 2256, \"stil\": 2257, \"verdanke\": 2258, \"kunden\": 2259, \"stopp\": 2260, \"bewegung\": 2261, \"kapiert\": 2262, \"umarme\": 2263, \"zahlte\": 2264, \"helft\": 2265, \"schnarche\": 2266, \"kuesst\": 2267, \"wachen\": 2268, \"reg\": 2269, \"handschellen\": 2270, \"vergnuegen\": 2271, \"feier\": 2272, \"weigere\": 2273, \"rasierte\": 2274, \"gaehnte\": 2275, \"seins\": 2276, \"eintritt\": 2277, \"verboten\": 2278, \"rette\": 2279, \"hervorragend\": 2280, \"sagenhaft\": 2281, \"versuchten\": 2282, \"zielen\": 2283, \"gesundheit\": 2284, \"bellen\": 2285, \"daraus\": 2286, \"knicken\": 2287, \"willen\": 2288, \"fuege\": 2289, \"aufgelegt\": 2290, \"begegnet\": 2291, \"abbrechen\": 2292, \"beduerftig\": 2293, \"stecke\": 2294, \"beachte\": 2295, \"beachten\": 2296, \"halb\": 2297, \"geoeffnet\": 2298, \"locker\": 2299, \"stueck\": 2300, \"natuerlich\": 2301, \"hat\\'s\": 2302, \"o\": 2303, \"doeste\": 2304, \"winkte\": 2305, \"einig\": 2306, \"unterhalten\": 2307, \"stinkt\": 2308, \"stinken\": 2309, \"irgendwen\": 2310, \"nuetzlich\": 2311, \"trag\": 2312, \"pruefe\": 2313, \"fruehzeitig\": 2314, \"grab\": 2315, \"schubsen\": 2316, \"untersuchen\": 2317, \"brennt\": 2318, \"vergib\": 2319, \"ausreichend\": 2320, \"liebenswuerdig\": 2321, \"schaffte\": 2322, \"menschlich\": 2323, \"sieger\": 2324, \"kunst\": 2325, \"geriet\": 2326, \"verwende\": 2327, \"moench\": 2328, \"verliere\": 2329, \"bewege\": 2330, \"hinterlistig\": 2331, \"laune\": 2332, \"nah\": 2333, \"steckt\": 2334, \"windig\": 2335, \"kommentar\": 2336, \"ersetzen\": 2337, \"riech\": 2338, \"schummelt\": 2339, \"vergass\": 2340, \"kaempfte\": 2341, \"gehauen\": 2342, \"aechzte\": 2343, \"malt\": 2344, \"telefonierte\": 2345, \"telefoniert\": 2346, \"betete\": 2347, \"rauchte\": 2348, \"schnarcht\": 2349, \"strengen\": 2350, \"groessere\": 2351, \"holz\": 2352, \"schuldest\": 2353, \"form\": 2354, \"tolerant\": 2355, \"fischen\": 2356, \"lach\": 2357, \"ausbrechen\": 2358, \"starren\": 2359, \"sorge\": 2360, \"werfen\": 2361, \"werft\": 2362, \"mumm\": 2363, \"lenkte\": 2364, \"stockbesoffen\": 2365, \"merkwuerdig\": 2366, \"doesen\": 2367, \"online\": 2368, \"netz\": 2369, \"groesser\": 2370, \"dreihundert\": 2371, \"bargeld\": 2372, \"jazzmusik\": 2373, \"rindfleisch\": 2374, \"erholt\": 2375, \"gesorgt\": 2376, \"benzin\": 2377, \"gelegen\": 2378, \"geruehrt\": 2379, \"teilnehmen\": 2380, \"absagen\": 2381, \"nachsehen\": 2382, \"verwenden\": 2383, \"siebzehn\": 2384, \"eigenbroetler\": 2385, \"krankenpfleger\": 2386, \"angsthase\": 2387, \"summe\": 2388, \"schulden\": 2389, \"selbstsuechtig\": 2390, \"erschrocken\": 2391, \"ignoriere\": 2392, \"naechster\": 2393, \"neblig\": 2394, \"zugelassen\": 2395, \"waer\\'s\": 2396, \"real\": 2397, \"brechen\": 2398, \"yen\": 2399, \"faelschung\": 2400, \"geheim\": 2401, \"drueber\": 2402, \"wir\\'s\": 2403, \"studieren\": 2404, \"wuensch\": 2405, \"schickt\": 2406, \"handeln\": 2407, \"vorbeigekommen\": 2408, \"umarmten\": 2409, \"mist\": 2410, \"blinzelte\": 2411, \"jubelte\": 2412, \"klatschte\": 2413, \"entschieden\": 2414, \"ertrank\": 2415, \"drein\": 2416, \"versteht\": 2417, \"grinste\": 2418, \"deprimiert\": 2419, \"guetig\": 2420, \"eitel\": 2421, \"malte\": 2422, \"abgelehnt\": 2423, \"schwitzte\": 2424, \"geschwitzt\": 2425, \"stolperte\": 2426, \"scharf\": 2427, \"betruebt\": 2428, \"aussteigen\": 2429, \"bescheuert\": 2430, \"unzuverlaessig\": 2431, \"unternehmungslustig\": 2432, \"drehe\": 2433, \"waehlt\": 2434, \"stecken\": 2435, \"gemogelt\": 2436, \"geweckt\": 2437, \"gibt\\'s\": 2438, \"auszugehen\": 2439, \"realistisch\": 2440, \"seh\": 2441, \"sachte\": 2442, \"geister\": 2443, \"ostern\": 2444, \"froehliche\": 2445, \"imbiss\": 2446, \"meidet\": 2447, \"stritt\": 2448, \"sitzenlassen\": 2449, \"franzose\": 2450, \"unleidlich\": 2451, \"hinaus\": 2452, \"laeufer\": 2453, \"unterstuetze\": 2454, \"barbarisch\": 2455, \"romantisch\": 2456, \"entschuldigte\": 2457, \"stoert\": 2458, \"lebendig\": 2459, \"kuli\": 2460, \"improvisierte\": 2461, \"improvisiert\": 2462, \"erfunden\": 2463, \"sputen\": 2464, \"angestrengt\": 2465, \"verspaete\": 2466, \"nachschauen\": 2467, \"jaeger\": 2468, \"purist\": 2469, \"veranlagt\": 2470, \"erwartet\": 2471, \"kaempfe\": 2472, \"verkatert\": 2473, \"heilige\": 2474, \"erbarmen\": 2475, \"erschreckte\": 2476, \"fluch\": 2477, \"skurril\": 2478, \"renn\": 2479, \"ratet\": 2480, \"raten\": 2481, \"aufhoert\": 2482, \"unterbrechen\": 2483, \"taten\": 2484, \"blicke\": 2485, \"heb\": 2486, \"hebt\": 2487, \"schaem\": 2488, \"erschoss\": 2489, \"weilchen\": 2490, \"filmen\": 2491, \"kommando\": 2492, \"heissen\": 2493, \"entkamen\": 2494, \"nahrung\": 2495, \"unseres\": 2496, \"ekelhaft\": 2497, \"schnitt\": 2498, \"grimassen\": 2499, \"schimpfte\": 2500, \"veteran\": 2501, \"ex\": 2502, \"moege\": 2503, \"widersprach\": 2504, \"ausgebrochen\": 2505, \"thomas\": 2506, \"erzaehlte\": 2507, \"verspaetete\": 2508, \"pfiff\": 2509, \"erstaunt\": 2510, \"heult\": 2511, \"traue\": 2512, \"gebrauch\": 2513, \"unheimlich\": 2514, \"assen\": 2515, \"schauten\": 2516, \"sassen\": 2517, \"fuerchten\": 2518, \"vorurteile\": 2519, \"geschlossen\": 2520, \"niete\": 2521, \"faengt\": 2522, \"stirbst\": 2523, \"scharfsinnig\": 2524, \"hinzu\": 2525, \"irgendwelche\": 2526, \"fan\": 2527, \"langweilt\": 2528, \"langweilen\": 2529, \"backen\": 2530, \"artig\": 2531, \"reinigen\": 2532, \"weggegangen\": 2533, \"toete\": 2534, \"hosentraeger\": 2535, \"englaender\": 2536, \"rollschuh\": 2537, \"gefiel\": 2538, \"bekifft\": 2539, \"erblindet\": 2540, \"miesepeter\": 2541, \"tokyo\": 2542, \"blutete\": 2543, \"verspaetet\": 2544, \"huste\": 2545, \"niese\": 2546, \"zusehen\": 2547, \"befehle\": 2548, \"manches\": 2549, \"knoblauch\": 2550, \"filme\": 2551, \"reggae\": 2552, \"lachs\": 2553, \"tulpen\": 2554, \"natur\": 2555, \"veranlasst\": 2556, \"faust\": 2557, \"gekocht\": 2558, \"zubereitet\": 2559, \"wehren\": 2560, \"geige\": 2561, \"violine\": 2562, \"respektiere\": 2563, \"twitter\": 2564, \"besucht\": 2565, \"zumute\": 2566, \"wandern\": 2567, \"gedichte\": 2568, \"gefiele\": 2569, \"zulassen\": 2570, \"verhindern\": 2571, \"patient\": 2572, \"rotschopf\": 2573, \"schuelerin\": 2574, \"geschmeichelt\": 2575, \"wahrhaben\": 2576, \"lama\": 2577, \"ernstes\": 2578, \"peruecke\": 2579, \"latein\": 2580, \"rechtens\": 2581, \"tatsaechlich\": 2582, \"samstag\": 2583, \"trifft\": 2584, \"gelaufen\": 2585, \"ofen\": 2586, \"wunderschoen\": 2587, \"verbessert\": 2588, \"zahle\": 2589, \"befindet\": 2590, \"feger\": 2591, \"rueckenschmerzen\": 2592, \"feuchtes\": 2593, \"eulen\": 2594, \"lest\": 2595, \"wuerfel\": 2596, \"wuerfle\": 2597, \"wuerfele\": 2598, \"wuerfeln\": 2599, \"abserviert\": 2600, \"aktiv\": 2601, \"laeuferin\": 2602, \"fuchsteufelswild\": 2603, \"deutlich\": 2604, \"lasse\": 2605, \"misch\": 2606, \"richte\": 2607, \"kopie\": 2608, \"tatsache\": 2609, \"zeichen\": 2610, \"glocke\": 2611, \"gewannen\": 2612, \"besteht\": 2613, \"verschwanden\": 2614, \"gutgehen\": 2615, \"dvd\": 2616, \"rannten\": 2617, \"gespendet\": 2618, \"gebeichtet\": 2619, \"trainiert\": 2620, \"sportler\": 2621, \"vati\": 2622, \"verrucht\": 2623, \"stuermte\": 2624, \"zeigte\": 2625, \"gezeigt\": 2626, \"angeschrieben\": 2627, \"beaengstigend\": 2628, \"erblasste\": 2629, \"westen\": 2630, \"zoomte\": 2631, \"verunsichert\": 2632, \"humpelt\": 2633, \"packt\": 2634, \"ruht\": 2635, \"prima\": 2636, \"werkzeug\": 2637, \"fasten\": 2638, \"freundinnen\": 2639, \"befreundet\": 2640, \"sinken\": 2641, \"angestellt\": 2642, \"wirkst\": 2643, \"verdorben\": 2644, \"scheinst\": 2645, \"geeignet\": 2646, \"schlaefst\": 2647, \"kaefig\": 2648, \"haelften\": 2649, \"schneiden\": 2650, \"abgeschnitten\": 2651, \"haeltst\": 2652, \"leugnen\": 2653, \"aergere\": 2654, \"kauf\": 2655, \"geniesse\": 2656, \"reihen\": 2657, \"steige\": 2658, \"steigt\": 2659, \"entledigen\": 2660, \"herzlichen\": 2661, \"fuerchtet\": 2662, \"haelt\": 2663, \"respektiert\": 2664, \"gelaehmt\": 2665, \"fanatiker\": 2666, \"faulpelz\": 2667, \"tier\": 2668, \"gesetzloser\": 2669, \"bremse\": 2670, \"eurem\": 2671, \"schuechterner\": 2672, \"hundemuede\": 2673, \"london\": 2674, \"befinde\": 2675, \"banane\": 2676, \"statt\": 2677, \"zaehle\": 2678, \"verachtet\": 2679, \"treibe\": 2680, \"uebers\": 2681, \"fruehaufsteher\": 2682, \"nietenhose\": 2683, \"juristen\": 2684, \"dreizehn\": 2685, \"laster\": 2686, \"nudeln\": 2687, \"jagen\": 2688, \"schildkroeten\": 2689, \"karotten\": 2690, \"hobby\": 2691, \"privatsphaere\": 2692, \"operiert\": 2693, \"schluckauf\": 2694, \"besitze\": 2695, \"bezahle\": 2696, \"koreanisch\": 2697, \"unterrichte\": 2698, \"nannte\": 2699, \"bog\": 2700, \"normalerweise\": 2701, \"gefoltert\": 2702, \"trage\": 2703, \"mitbringen\": 2704, \"erschiessen\": 2705, \"tante\": 2706, \"freier\": 2707, \"reicher\": 2708, \"eilig\": 2709, \"meditiere\": 2710, \"ferien\": 2711, \"ueberarbeitet\": 2712, \"aelteste\": 2713, \"untalentiert\": 2714, \"talent\": 2715, \"laechelt\": 2716, \"lecker\": 2717, \"nagelneu\": 2718, \"riskant\": 2719, \"entschuldigt\": 2720, \"ueberlasse\": 2721, \"ueberlasst\": 2722, \"ueberlassen\": 2723, \"ueben\": 2724, \"starben\": 2725, \"gesetzt\": 2726, \"preise\": 2727, \"robben\": 2728, \"bestellen\": 2729, \"verehrt\": 2730, \"wild\": 2731, \"aergerte\": 2732, \"schwanger\": 2733, \"erzaehle\": 2734, \"waeren\": 2735, \"huhn\": 2736, \"korrekt\": 2737, \"illegal\": 2738, \"lautet\": 2739, \"dach\": 2740, \"haken\": 2741, \"konnten\": 2742, \"gestritten\": 2743, \"erreicht\": 2744, \"denken\": 2745, \"ueberlegen\": 2746, \"ueberlegt\": 2747, \"beschwert\": 2748, \"grub\": 2749, \"geschnappt\": 2750, \"rosen\": 2751, \"schritt\": 2752, \"eingeschritten\": 2753, \"minderjaehrig\": 2754, \"hingebungsvoll\": 2755, \"geizig\": 2756, \"ungezogen\": 2757, \"keucht\": 2758, \"freut\": 2759, \"egoistisch\": 2760, \"besonderes\": 2761, \"verwoehnt\": 2762, \"unbeeindruckt\": 2763, \"unversehrt\": 2764, \"bleich\": 2765, \"innen\": 2766, \"erinnerte\": 2767, \"gruessen\": 2768, \"gestochen\": 2769, \"gestoppt\": 2770, \"heulte\": 2771, \"sanft\": 2772, \"empfindlich\": 2773, \"verhandeln\": 2774, \"eifrig\": 2775, \"verbessern\": 2776, \"gelaunt\": 2777, \"trauert\": 2778, \"mittellos\": 2779, \"labil\": 2780, \"wasche\": 2781, \"passen\": 2782, \"vermaehlt\": 2783, \"anhalten\": 2784, \"brauchten\": 2785, \"ausgetrickst\": 2786, \"haetten\": 2787, \"geldautomaten\": 2788, \"trinkgeld\": 2789, \"widerst\": 2790, \"lernst\": 2791, \"summst\": 2792, \"gewinnst\": 2793, \"eurer\": 2794, \"getraenke\": 2795, \"geist\": 2796, \"honig\": 2797, \"benehmt\": 2798, \"benehmen\": 2799, \"buerste\": 2800, \"aufmachen\": 2801, \"raeum\": 2802, \"kraehen\": 2803, \"zugestimmt\": 2804, \"reagiert\": 2805, \"glaubst\": 2806, \"vertraust\": 2807, \"beleidige\": 2808, \"parken\": 2809, \"wunde\": 2810, \"taschen\": 2811, \"schoene\": 2812, \"froesche\": 2813, \"sachen\": 2814, \"mitleid\": 2815, \"kamera\": 2816, \"reizt\": 2817, \"maler\": 2818, \"uebersinnliche\": 2819, \"erwaehnt\": 2820, \"lernte\": 2821, \"gaertner\": 2822, \"linkshaender\": 2823, \"fotogen\": 2824, \"album\": 2825, \"gekostet\": 2826, \"verabscheue\": 2827, \"tokio\": 2828, \"patsche\": 2829, \"apfelsine\": 2830, \"reserviert\": 2831, \"rauch\": 2832, \"genauso\": 2833, \"einzukaufen\": 2834, \"kaelte\": 2835, \"hochzeiten\": 2836, \"trockene\": 2837, \"eingezogen\": 2838, \"geduscht\": 2839, \"niesen\": 2840, \"lache\": 2841, \"interesse\": 2842, \"wiedergesehen\": 2843, \"eingeschaetzt\": 2844, \"armee\": 2845, \"leiter\": 2846, \"rasieren\": 2847, \"schuettelte\": 2848, \"roch\": 2849, \"speck\": 2850, \"vitamine\": 2851, \"gestimmt\": 2852, \"gleiche\": 2853, \"zeuge\": 2854, \"geboren\": 2855, \"skeptisch\": 2856, \"gabel\": 2857, \"verteidigen\": 2858, \"kooperieren\": 2859, \"mitarbeiten\": 2860, \"gast\": 2861, \"rivale\": 2862, \"detektiv\": 2863, \"schuetze\": 2864, \"hausfrau\": 2865, \"professor\": 2866, \"professorin\": 2867, \"bereich\": 2868, \"streite\": 2869, \"beharrlich\": 2870, \"peinlich\": 2871, \"autistisch\": 2872, \"blufft\": 2873, \"kaempft\": 2874, \"gutaussehend\": 2875, \"freitag\": 2876, \"notwendig\": 2877, \"abkuerzung\": 2878, \"wetter\": 2879, \"laecherlich\": 2880, \"rest\": 2881, \"betrachte\": 2882, \"serviert\": 2883, \"angenehm\": 2884, \"aendert\": 2885, \"aufgegangen\": 2886, \"feiern\": 2887, \"setze\": 2888, \"drogen\": 2889, \"worauf\": 2890, \"saengerin\": 2891, \"ohrfeigte\": 2892, \"erstochen\": 2893, \"langgeht\": 2894, \"buchstabieren\": 2895, \"glatt\": 2896, \"kindisch\": 2897, \"kleid\": 2898, \"persoenlich\": 2899, \"stank\": 2900, \"bezahlung\": 2901, \"strom\": 2902, \"trocken\": 2903, \"melonen\": 2904, \"verdienen\": 2905, \"fuhren\": 2906, \"ignorierten\": 2907, \"russen\": 2908, \"streiten\": 2909, \"hotel\": 2910, \"jene\": 2911, \"zeiten\": 2912, \"jedem\": 2913, \"backte\": 2914, \"stumm\": 2915, \"verursacht\": 2916, \"leistete\": 2917, \"beitrag\": 2918, \"bestritten\": 2919, \"ruehrte\": 2920, \"geniesst\": 2921, \"erregt\": 2922, \"gesellschaft\": 2923, \"geheimnisse\": 2924, \"vorschriften\": 2925, \"inspiriert\": 2926, \"einsiedler\": 2927, \"prinz\": 2928, \"rassist\": 2929, \"raucher\": 2930, \"komischer\": 2931, \"barfuss\": 2932, \"sorglos\": 2933, \"charmant\": 2934, \"froehlich\": 2935, \"ahnungslos\": 2936, \"ausschlaggebend\": 2937, \"ertrinkt\": 2938, \"flexibel\": 2939, \"unbeweglich\": 2940, \"schock\": 2941, \"kniet\": 2942, \"gehorsam\": 2943, \"einkaufen\": 2944, \"angewidert\": 2945, \"unruhig\": 2946, \"kontaktfreudig\": 2947, \"verhungert\": 2948, \"starrkoepfig\": 2949, \"selbstmordgefaehrdet\": 2950, \"taff\": 2951, \"sprang\": 2952, \"toetete\": 2953, \"beugte\": 2954, \"gewohnt\": 2955, \"toller\": 2956, \"baeren\": 2957, \"bremste\": 2958, \"ergeben\": 2959, \"beleidigend\": 2960, \"alarmiert\": 2961, \"fliehen\": 2962, \"charmeur\": 2963, \"genial\": 2964, \"aufzuhalten\": 2965, \"verhafteten\": 2966, \"verhaftet\": 2967, \"nahmen\": 2968, \"umgezogen\": 2969, \"getrennt\": 2970, \"seelenverwandt\": 2971, \"hattest\": 2972, \"sagst\": 2973, \"kumpel\": 2974, \"kamm\": 2975, \"beitraege\": 2976, \"weshalb\": 2977, \"erholen\": 2978, \"leidtun\": 2979, \"traeumst\": 2980, \"spielst\": 2981, \"ans\": 2982, \"katholisch\": 2983, \"studierst\": 2984, \"irgendwas\": 2985, \"aufpassen\": 2986, \"atmen\": 2987, \"zwinge\": 2988, \"bekennen\": 2989, \"bedacht\": 2990, \"unterricht\": 2991, \"spiegel\": 2992, \"konzentriere\": 2993, \"beherrsche\": 2994, \"reiss\": 2995, \"normales\": 2996, \"etwa\": 2997, \"lebst\": 2998, \"stoere\": 2999, \"taeusche\": 3000, \"verpetzt\": 3001, \"blieben\": 3002, \"gemerkt\": 3003, \"erklaere\": 3004, \"tank\": 3005, \"getraenk\": 3006, \"schirm\": 3007, \"muffins\": 3008, \"buk\": 3009, \"verhalten\": 3010, \"jagt\": 3011, \"alkohol\": 3012, \"freigesprochen\": 3013, \"frankreich\": 3014, \"gentleman\": 3015, \"historiker\": 3016, \"geschichtswissenschaftler\": 3017, \"intelligent\": 3018, \"hiess\": 3019, \"seiner\": 3020, \"gewalt\": 3021, \"auswaerts\": 3022, \"scheiss\": 3023, \"schwitzen\": 3024, \"beklagen\": 3025, \"ertragen\": 3026, \"comics\": 3027, \"gestellt\": 3028, \"keines\": 3029, \"schmerz\": 3030, \"muetze\": 3031, \"schaetze\": 3032, \"schlimme\": 3033, \"chemie\": 3034, \"pest\": 3035, \"quittung\": 3036, \"video\": 3037, \"home\": 3038, \"run\": 3039, \"vornamen\": 3040, \"australien\": 3041, \"sprachen\": 3042, \"strand\": 3043, \"portemonnaie\": 3044, \"abenteuer\": 3045, \"klempner\": 3046, \"hose\": 3047, \"bestellte\": 3048, \"heimgehen\": 3049, \"beschuetzen\": 3050, \"uebersetzerin\": 3051, \"uebersetzer\": 3052, \"backe\": 3053, \"unzufrieden\": 3054, \"amerika\": 3055, \"lade\": 3056, \"rechtshaenderin\": 3057, \"hochzufrieden\": 3058, \"eignet\": 3059, \"bissig\": 3060, \"zappenduster\": 3061, \"stockfinster\": 3062, \"bestimmt\": 3063, \"bequem\": 3064, \"verrichte\": 3065, \"triff\": 3066, \"planet\": 3067, \"deutsches\": 3068, \"juckt\": 3069, \"kennenzulernen\": 3070, \"fleiss\": 3071, \"schweiss\": 3072, \"stehengeblieben\": 3073, \"zuruecktreten\": 3074, \"reifen\": 3075, \"artikel\": 3076, \"tuberkulose\": 3077, \"scheiden\": 3078, \"bmw\": 3079, \"eigensinnig\": 3080, \"abgekommen\": 3081, \"kamel\": 3082, \"ueberraschte\": 3083, \"verspaetung\": 3084, \"schluck\": 3085, \"duftet\": 3086, \"vorhang\": 3087, \"klingel\": 3088, \"nennt\": 3089, \"verfolgen\": 3090, \"pathetisch\": 3091, \"pathos\": 3092, \"bewundert\": 3093, \"schlug\": 3094, \"warf\": 3095, \"erhielt\": 3096, \"aengstlich\": 3097, \"aufgewachsen\": 3098, \"ehrgeiz\": 3099, \"immunitaet\": 3100, \"oliven\": 3101, \"schwarze\": 3102, \"boeser\": 3103, \"hellseher\": 3104, \"engagiert\": 3105, \"kompetent\": 3106, \"gestoert\": 3107, \"impulsiv\": 3108, \"unausstehlich\": 3109, \"widerspenstig\": 3110, \"schwaecher\": 3111, \"kauft\": 3112, \"schob\": 3113, \"arbeitsplatz\": 3114, \"schalt\": 3115, \"schlurfte\": 3116, \"studierte\": 3117, \"eingeaeschert\": 3118, \"eingesperrt\": 3119, \"ermordet\": 3120, \"trophaee\": 3121, \"stellt\": 3122, \"ebenfalls\": 3123, \"fruehstueck\": 3124, \"meditieren\": 3125, \"albtraum\": 3126, \"alptraum\": 3127, \"ausgang\": 3128, \"hamlet\": 3129, \"wessen\": 3130, \"zitieren\": 3131, \"therapie\": 3132, \"rotes\": 3133, \"hosenstall\": 3134, \"kerzen\": 3135, \"hierhergekommen\": 3136, \"beschaeftigten\": 3137, \"maisgruetze\": 3138, \"enttaeusch\": 3139, \"enttaeuschen\": 3140, \"fehle\": 3141, \"schrien\": 3142, \"irgendwo\": 3143, \"braune\": 3144, \"braunes\": 3145, \"kurzes\": 3146, \"kleine\": 3147, \"verdrehte\": 3148, \"gleichen\": 3149, \"verlange\": 3150, \"sauerkraut\": 3151, \"gemocht\": 3152, \"zurueckgelassen\": 3153, \"schwebe\": 3154, \"gruess\": 3155, \"potzdonner\": 3156, \"donnerwetter\": 3157, \"huelf\": 3158, \"aha\": 3159, \"stehenbleiben\": 3160, \"hingefallen\": 3161, \"gestuerzt\": 3162, \"ausgeschlossen\": 3163, \"keinster\": 3164, \"leb\": 3165, \"tschuess\": 3166, \"schlagt\": 3167, \"druecken\": 3168, \"halt\\'s\": 3169, \"maul\": 3170, \"laeufst\": 3171, \"beheben\": 3172, \"behebe\": 3173, \"hinlegen\": 3174, \"greif\": 3175, \"runden\": 3176, \"trete\": 3177, \"dageblieben\": 3178, \"gegaehnt\": 3179, \"glatzkoepfig\": 3180, \"zutritt\": 3181, \"kuesse\": 3182, \"heirate\": 3183, \"rettet\": 3184, \"gezahlt\": 3185, \"warne\": 3186, \"ausgeschieden\": 3187, \"fange\": 3188, \"fuehl\": 3189, \"hol\\'s\": 3190, \"plattenaufleger\": 3191, \"versprech\\'s\": 3192, \"verspreche\": 3193, \"kasse\": 3194, \"geheilt\": 3195, \"brannte\": 3196, \"verbrannte\": 3197, \"fuenfundvierzig\": 3198, \"neun\": 3199, \"kuehl\": 3200, \"unsers\": 3201, \"lieg\": 3202, \"hinten\": 3203, \"rutsch\": 3204, \"selbstverstaendlich\": 3205, \"ah\": 3206, \"siehe\": 3207, \"unterschreibe\": 3208, \"unterschreib\": 3209, \"harre\": 3210, \"uebernehmt\": 3211, \"k\": 3212, \"war\\'s\": 3213, \"fielen\": 3214, \"stuerzten\": 3215, \"schwammen\": 3216, \"verneigte\": 3217, \"erstarrte\": 3218, \"strickt\": 3219, \"entsperr\": 3220, \"stimmten\": 3221, \"herrlich\": 3222, \"faehrst\": 3223, \"faengst\": 3224, \"stinkst\": 3225, \"hast\\'s\": 3226, \"zielt\": 3227, \"antwortet\": 3228, \"obacht\": 3229, \"pruefen\": 3230, \"volltanken\": 3231, \"existiert\": 3232, \"fies\": 3233, \"schweizer\": 3234, \"absurd\": 3235, \"tragisch\": 3236, \"geb\": 3237, \"kaue\": 3238, \"kaugummi\": 3239, \"getrunkten\": 3240, \"vernommen\": 3241, \"gefaellst\": 3242, \"tust\": 3243, \"gekotzt\": 3244, \"erbrochen\": 3245, \"ruppig\": 3246, \"reingehen\": 3247, \"blutarmut\": 3248, \"mollig\": 3249, \"immun\": 3250, \"reif\": 3251, \"ausgeruht\": 3252, \"modeerscheinung\": 3253, \"voruebergehende\": 3254, \"sperrig\": 3255, \"unhandlich\": 3256, \"glaenzt\": 3257, \"lasset\": 3258, \"abstimmen\": 3259, \"vorausschauend\": 3260, \"kuck\": 3261, \"draus\": 3262, \"beruhigt\": 3263, \"ersetze\": 3264, \"tausche\": 3265, \"tauschen\": 3266, \"ersetzt\": 3267, \"tauscht\": 3268, \"beginne\": 3269, \"lern\": 3270, \"schmeck\": 3271, \"betrueblich\": 3272, \"mogeln\": 3273, \"schummeln\": 3274, \"betruegen\": 3275, \"schliefen\": 3276, \"abgestimmt\": 3277, \"genuegen\": 3278, \"stiess\": 3279, \"mogelt\": 3280, \"tanzte\": 3281, \"versagte\": 3282, \"japste\": 3283, \"dummen\": 3284, \"gehorchte\": 3285, \"fuegte\": 3286, \"gefuegt\": 3287, \"inne\": 3288, \"geraucht\": 3289, \"heulen\": 3290, \"abbiegen\": 3291, \"wart\\'\": 3292, \"unseren\": 3293, \"rasteten\": 3294, \"quitt\": 3295, \"bestimmst\": 3296, \"troeste\": 3297, \"troestet\": 3298, \"troesten\": 3299, \"streitet\": 3300, \"starr\": 3301, \"starrt\": 3302, \"vergebt\": 3303, \"verhasst\": 3304, \"stinkreich\": 3305, \"stockbetrunken\": 3306, \"steht\\'s\": 3307, \"geschwaenzt\": 3308, \"gezoegert\": 3309, \"beides\": 3310, \"kleber\": 3311, \"fliegende\": 3312, \"untertasse\": 3313, \"ergebe\": 3314, \"bares\": 3315, \"langweilte\": 3316, \"einsteigen\": 3317, \"baecker\": 3318, \"faste\": 3319, \"verschuldet\": 3320, \"hinweg\": 3321, \"pappsatt\": 3322, \"ignorieren\": 3323, \"gesetzlich\": 3324, \"schmeckt\\'s\": 3325, \"nebel\": 3326, \"fuenfzig\": 3327, \"bewoelkt\": 3328, \"gift\": 3329, \"eilt\": 3330, \"dringlich\": 3331, \"hinueber\": 3332, \"nachpruefen\": 3333, \"angriff\": 3334, \"hochgehen\": 3335, \"praeg\": 3336, \"praegt\": 3337, \"praegen\": 3338, \"regiert\": 3339, \"timing\": 3340, \"schiesst\": 3341, \"verabschiede\": 3342, \"verabschiedet\": 3343, \"erroetete\": 3344, \"beiss\": 3345, \"handele\": 3346, \"geil\": 3347, \"gratis\": 3348, \"brannten\": 3349, \"riefen\": 3350, \"tanzten\": 3351, \"drueckten\": 3352, \"kuessten\": 3353, \"veraenderte\": 3354, \"atmete\": 3355, \"runzelte\": 3356, \"stirn\": 3357, \"finster\": 3358, \"freute\": 3359, \"haemisch\": 3360, \"zwaengen\": 3361, \"zwangserkrankung\": 3362, \"eingeatmet\": 3363, \"schallplattenunterhalter\": 3364, \"kahl\": 3365, \"hammertyp\": 3366, \"ruepel\": 3367, \"weggelaufen\": 3368, \"entspannte\": 3369, \"rutschte\": 3370, \"ausgerutscht\": 3371, \"nieste\": 3372, \"gestolpert\": 3373, \"angesagt\": 3374, \"cnn\": 3375, \"hoelle\": 3376, \"drecksloch\": 3377, \"verlust\": 3378, \"team\": 3379, \"ego\": 3380, \"gejubelt\": 3381, \"zubereiten\": 3382, \"woran\": 3383, \"gehoerst\": 3384, \"melde\": 3385, \"meldet\": 3386, \"tretet\": 3387, \"melden\": 3388, \"beschreibe\": 3389, \"unterschrieben\": 3390, \"rauchst\": 3391, \"lehrst\": 3392, \"merkt\": 3393, \"graeme\": 3394, \"porzellankiste\": 3395, \"holt\": 3396, \"existieren\": 3397, \"drumrum\": 3398, \"haendige\": 3399, \"schneidet\": 3400, \"stinkig\": 3401, \"speist\": 3402, \"soeben\": 3403, \"treuherzig\": 3404, \"religioeser\": 3405, \"eiferer\": 3406, \"unterstuetzen\": 3407, \"unterstuetzt\": 3408, \"ehrlichkeit\": 3409, \"zahlt\": 3410, \"beruehrend\": 3411, \"chinese\": 3412, \"chinesin\": 3413, \"bete\": 3414, \"kaviar\": 3415, \"ruelpse\": 3416, \"zeichnen\": 3417, \"verdiene\": 3418, \"tests\": 3419, \"nesselsucht\": 3420, \"umarmung\": 3421, \"loewen\": 3422, \"stern\": 3423, \"vorbeikommen\": 3424, \"kriege\": 3425, \"verfallen\": 3426, \"blute\": 3427, \"bluffe\": 3428, \"einigermassen\": 3429, \"ertrinke\": 3430, \"ertrinken\": 3431, \"legastheniker\": 3432, \"legasthenikerin\": 3433, \"friere\": 3434, \"hausarrest\": 3435, \"perth\": 3436, \"stau\": 3437, \"aufstaendischer\": 3438, \"aufstaendische\": 3439, \"ruhelos\": 3440, \"schiesse\": 3441, \"untroestlich\": 3442, \"kitzlig\": 3443, \"nachgeschaut\": 3444, \"spinne\": 3445, \"eisen\": 3446, \"hirsch\": 3447, \"wolf\": 3448, \"begonnen\": 3449, \"frucht\": 3450, \"pflanze\": 3451, \"schnaeppchen\": 3452, \"fuers\": 3453, \"hagelt\": 3454, \"geruecht\": 3455, \"niedrig\": 3456, \"rauskommst\": 3457, \"red\": 3458, \"dazwischengehen\": 3459, \"huefte\": 3460, \"scherte\": 3461, \"enspannt\": 3462, \"enspann\": 3463, \"fassung\": 3464, \"glotzen\": 3465, \"traeum\": 3466, \"nimm\\'s\": 3467, \"jubelten\": 3468, \"weigerten\": 3469, \"entspannten\": 3470, \"erholten\": 3471, \"hielten\": 3472, \"schwitzten\": 3473, \"merken\": 3474, \"mitkriegen\": 3475, \"gefaelscht\": 3476, \"grauslich\": 3477, \"klappen\": 3478, \"billigt\": 3479, \"eingebrochen\": 3480, \"baute\": 3481, \"gluckste\": 3482, \"anwerben\": 3483, \"verirrte\": 3484, \"grimassierte\": 3485, \"verzog\": 3486, \"murrte\": 3487, \"maulte\": 3488, \"motzte\": 3489, \"akne\": 3490, \"beharrte\": 3491, \"bestand\": 3492, \"brutal\": 3493, \"gebrechlich\": 3494, \"beglueckt\": 3495, \"fettleibig\": 3496, \"pfiffig\": 3497, \"albern\": 3498, \"veganer\": 3499, \"weisser\": 3500, \"erhob\": 3501, \"einspruch\": 3502, \"versprach\": 3503, \"eingelenkt\": 3504, \"nachgegeben\": 3505, \"zitterte\": 3506, \"zuckte\": 3507, \"achseln\": 3508, \"geblinzelt\": 3509, \"stottert\": 3510, \"keinem\": 3511, \"abwarten\": 3512, \"araber\": 3513, \"bereiteten\": 3514, \"blickten\": 3515, \"trauen\": 3516, \"greifen\": 3517, \"angreifen\": 3518, \"null\": 3519, \"schande\": 3520, \"dankst\": 3521, \"daumen\": 3522, \"vergingen\": 3523, \"amuesierst\": 3524, \"mitkommen\": 3525, \"erhitzt\": 3526, \"beaengstigst\": 3527, \"beaengstigen\": 3528, \"bleibst\": 3529, \"liegst\": 3530, \"eklig\": 3531, \"durchtrieben\": 3532, \"drueckst\": 3533, \"angefahren\": 3534, \"langweilst\": 3535, \"untergliedere\": 3536, \"abreissen\": 3537, \"detailliere\": 3538, \"buchstabier\": 3539, \"skaten\": 3540, \"kapierst\": 3541, \"beachtet\": 3542, \"schubs\": 3543, \"schubst\": 3544, \"reagier\": 3545, \"hetz\": 3546, \"kreis\": 3547, \"spuel\": 3548, \"erbsen\": 3549, \"ausatmen\": 3550, \"fuettere\": 3551, \"fuettert\": 3552, \"bluehen\": 3553, \"spiegelei\": 3554, \"ruhen\": 3555, \"verzisch\": 3556, \"segne\": 3557, \"augenblickchen\": 3558, \"schinken\": 3559, \"beraet\": 3560, \"netztagebuch\": 3561, \"zahnspange\": 3562, \"skateboard\": 3563, \"skatet\": 3564, \"vorzeitig\": 3565, \"belogen\": 3566, \"fortgeschickt\": 3567, \"bemueht\": 3568, \"gesteinigt\": 3569, \"oesterreicher\": 3570, \"noergler\": 3571, \"meckerfritze\": 3572, \"jesuit\": 3573, \"autist\": 3574, \"bedien\": 3575, \"bedienen\": 3576, \"hieressen\": 3577, \"amerikanerin\": 3578, \"spueren\": 3579, \"herbeigefuehrt\": 3580, \"beigetragen\": 3581, \"verachte\": 3582, \"hingesehen\": 3583, \"spuere\": 3584, \"flau\": 3585, \"schlechtes\": 3586, \"gewissen\": 3587, \"ausgeflippt\": 3588, \"ausgerastet\": 3589, \"sellerie\": 3590, \"schnupfen\": 3591, \"leide\": 3592, \"verabredung\": 3593, \"visum\": 3594, \"gesuendigt\": 3595, \"franzoesische\": 3596, \"uhren\": 3597, \"kamele\": 3598, \"spielfilme\": 3599, \"aufgegossen\": 3600, \"rausgehen\": 3601, \"weigern\": 3602, \"ankaempfen\": 3603, \"kredit\": 3604, \"briefmarken\": 3605, \"zurueckgetan\": 3606, \"bedankte\": 3607, \"krone\": 3608, \"kann\\'s\": 3609, \"pferdchen\": 3610, \"pony\": 3611, \"schwimmbecken\": 3612, \"geschaemt\": 3613, \"zugesehen\": 3614, \"lieder\": 3615, \"ausrufen\": 3616, \"uebernehme\": 3617, \"sag\\'s\": 3618, \"krueppel\": 3619, \"patientin\": 3620, \"suechtiger\": 3621, \"waisenkind\": 3622, \"depressiv\": 3623, \"gang\": 3624, \"fledermaus\": 3625, \"auseinander\": 3626, \"ueblen\": 3627, \"geruch\": 3628, \"frostig\": 3629, \"wehtun\": 3630, \"abends\": 3631, \"pilz\": 3632, \"unmenschlich\": 3633, \"mitternacht\": 3634, \"veraltet\": 3635, \"bullen\": 3636, \"schiech\": 3637, \"entsperrt\": 3638, \"freigeschaltet\": 3639, \"kontrollier\\'s\": 3640, \"kontrolliert\\'s\": 3641, \"verzieht\": 3642, \"verschwindet\": 3643, \"beschaeftige\": 3644, \"trab\": 3645, \"klettere\": 3646, \"klettern\": 3647, \"klettert\": 3648, \"fasse\": 3649, \"paddel\": 3650, \"paddeln\": 3651, \"belassen\": 3652, \"sterblich\": 3653, \"kreischte\": 3654, \"gefressen\": 3655, \"nacken\": 3656, \"nackenschmerzen\": 3657, \"oh\": 3658, \"beliebige\": 3659, \"bademantel\": 3660, \"schinden\": 3661, \"wiederschauen\": 3662, \"bueckte\": 3663, \"verabscheute\": 3664, \"falsche\": 3665, \"hoffnungen\": 3666, \"vorgemacht\": 3667, \"hoerig\": 3668, \"schnelle\": 3669, \"wut\": 3670, \"blauaeugig\": 3671, \"ruehrt\": 3672, \"zusammenbleiben\": 3673, \"feg\": 3674, \"duschen\": 3675, \"abfuehren\": 3676, \"geschmaecker\": 3677, \"unsres\": 3678, \"unsrer\": 3679, \"unsre\": 3680, \"saturn\": 3681, \"faktum\": 3682, \"mythos\": 3683, \"baum\": 3684, \"machbar\": 3685, \"laeutete\": 3686, \"zerbrach\": 3687, \"siegten\": 3688, \"gesiegt\": 3689, \"kuendigten\": 3690, \"asiaten\": 3691, \"zornig\": 3692, \"dummkoepfe\": 3693, \"spione\": 3694, \"wortspiel\": 3695, \"wahnsinn\": 3696, \"himmelt\": 3697, \"applaudierte\": 3698, \"spendete\": 3699, \"geklatscht\": 3700, \"applaudiert\": 3701, \"gestand\": 3702, \"beichtete\": 3703, \"ertuechtigte\": 3704, \"ertuechtigt\": 3705, \"hochschule\": 3706, \"abschluss\": 3707, \"geknuddelt\": 3708, \"chaot\": 3709, \"weichei\": 3710, \"parteiisch\": 3711, \"pummel\": 3712, \"gerissen\": 3713, \"doest\": 3714, \"schlummert\": 3715, \"witzelt\": 3716, \"liebevoll\": 3717, \"raffiniert\": 3718, \"gesellte\": 3719, \"protestierte\": 3720, \"schubste\": 3721, \"aufgezogen\": 3722, \"wankte\": 3723, \"davor\": 3724, \"achtzig\": 3725, \"aufdringlich\": 3726, \"wortkarg\": 3727, \"angetrunken\": 3728, \"gen\": 3729, \"durchfallen\": 3730, \"erstaunlich\": 3731, \"erstickt\": 3732, \"wuergen\": 3733, \"fuessen\": 3734, \"geschnarcht\": 3735, \"rueckendeckung\": 3736, \"bohnere\": 3737, \"fussboden\": 3738, \"haben\\'s\": 3739, \"halfen\": 3740, \"einziehen\": 3741, \"werden\\'s\": 3742, \"schaemen\": 3743, \"rechtsanwaelte\": 3744, \"stocken\": 3745, \"gewinner\": 3746, \"wurdest\": 3747, \"zirkus\": 3748, \"zugetragen\": 3749, \"uebriggeblieben\": 3750, \"uebrig\": 3751, \"zuschieben\": 3752, \"hilfst\": 3753, \"irrst\": 3754, \"aussichtslos\": 3755, \"schaust\": 3756, \"scheitern\": 3757, \"befangen\": 3758, \"beliebst\": 3759, \"belieben\": 3760, \"verlierst\": 3761, \"bezahlst\": 3762, \"niedertraechtig\": 3763, \"cola\": 3764, \"kleinen\": 3765, \"gestatten\": 3766, \"junggeselle\": 3767, \"voegeln\": 3768, \"boote\": 3769, \"untergehen\": 3770, \"bereiten\": 3771, \"behilflich\": 3772, \"gesellen\": 3773, \"reinige\": 3774, \"gras\": 3775, \"mitten\": 3776, \"halbiere\": 3777, \"entzwei\": 3778, \"sagtet\": 3779, \"mach\\'\": 3780, \"erledige\": 3781, \"schnurren\": 3782, \"leugnest\": 3783, \"betreibst\": 3784, \"betreibt\": 3785, \"betreiben\": 3786, \"recyceln\": 3787, \"recycelst\": 3788, \"recycelt\": 3789, \"aergern\": 3790, \"beschwer\": 3791, \"kuemmer\": 3792, \"gehorch\": 3793, \"fuehren\": 3794, \"bezahlten\": 3795, \"bildet\": 3796, \"bilden\": 3797, \"federn\": 3798, \"entledige\": 3799, \"ran\": 3800, \"leih\": 3801, \"helfende\": 3802, \"kuess\": 3803, \"frohes\": 3804, \"glueckliches\": 3805, \"geburtstag\": 3806, \"feiertage\": 3807, \"gebeten\": 3808, \"kandidiert\": 3809, \"zwoelf\": 3810, \"zierlich\": 3811, \"rasch\": 3812, \"fleischhauer\": 3813, \"samurai\": 3814, \"jasager\": 3815, \"autor\": 3816, \"exknacki\": 3817, \"pantoffelheld\": 3818, \"schlichtweg\": 3819, \"versteck\": 3820, \"hoehe\": 3821, \"vergeht\": 3822, \"breit\": 3823, \"entgegen\": 3824, \"geheult\": 3825, \"ungar\": 3826, \"ungarin\": 3827, \"leihe\": 3828, \"deinetwegen\": 3829, \"verwendung\": 3830, \"gebrauchen\": 3831, \"durchgefallen\": 3832, \"gluecksspiel\": 3833, \"kapier\": 3834, \"tomaten\": 3835, \"folgte\": 3836, \"garantiere\": 3837, \"herbeigewinkt\": 3838, \"herbeigewunken\": 3839, \"montage\": 3840, \"absolut\": 3841, \"buegeln\": 3842, \"karaoke\": 3843, \"spinat\": 3844, \"pick\": 3845, \"up\": 3846, \"camion\": 3847, \"gedaechtnis\": 3848, \"gedaechtnisverlust\": 3849, \"ehefrau\": 3850, \"schloesser\": 3851, \"angle\": 3852, \"ketchup\": 3853, \"mahjong\": 3854, \"mahjongg\": 3855, \"austern\": 3856, \"saschimi\": 3857, \"meeresfruechte\": 3858, \"geschichten\": 3859, \"unterhalte\": 3860, \"sonne\": 3861, \"angel\": 3862, \"harvard\": 3863, \"mandeln\": 3864, \"nachtisch\": 3865, \"lasagne\": 3866, \"ipod\": 3867, \"partys\": 3868, \"puzzles\": 3869, \"sonnenuntergaenge\": 3870, \"universitaet\": 3871, \"zigarette\": 3872, \"briefmarke\": 3873, \"unterstuetzung\": 3874, \"hickse\": 3875, \"bekenne\": 3876, \"zuechte\": 3877, \"vieh\": 3878, \"rauskommt\": 3879, \"koechin\": 3880, \"verkaufe\": 3881, \"diene\": 3882, \"franzoesischunterricht\": 3883, \"gepaeck\": 3884, \"hundewelpen\": 3885, \"gehaltserhoehung\": 3886, \"popcorn\": 3887, \"ventilator\": 3888, \"kuendigen\": 3889, \"angeheuert\": 3890, \"brillentraeger\": 3891, \"anzeigen\": 3892, \"runterkommen\": 3893, \"hinfahren\": 3894, \"schimpfen\": 3895, \"unterrichten\": 3896, \"anstrengen\": 3897, \"anfaengerin\": 3898, \"anfaenger\": 3899, \"botaniker\": 3900, \"botanikerin\": 3901, \"diabetikerin\": 3902, \"musiker\": 3903, \"musikerin\": 3904, \"netter\": 3905, \"pazifist\": 3906, \"pazifistin\": 3907, \"strafgefangener\": 3908, \"strafgefangene\": 3909, \"gefangener\": 3910, \"verkaeufer\": 3911, \"handelsvertreter\": 3912, \"vertreter\": 3913, \"teenager\": 3914, \"leider\": 3915, \"atheist\": 3916, \"offizier\": 3917, \"todmuede\": 3918, \"weitsichtig\": 3919, \"amuesiere\": 3920, \"analphabet\": 3921, \"analphabetin\": 3922, \"bereite\": 3923, \"aufgibt\": 3924, \"optimistisch\": 3925, \"uebergewicht\": 3926, \"eintopf\": 3927, \"baer\": 3928, \"wink\": 3929, \"becher\": 3930, \"gebuehr\": 3931, \"absicht\": 3932, \"schneite\": 3933, \"bestens\": 3934, \"mittwoch\": 3935, \"abgemacht\": 3936, \"klassiker\": 3937, \"neuer\": 3938, \"bewundernswert\": 3939, \"ueberfall\": 3940, \"hinterhalt\": 3941, \"beleidigung\": 3942, \"brandneu\": 3943, \"koestlich\": 3944, \"anderes\": 3945, \"inkorrekt\": 3946, \"sinnlos\": 3947, \"ueberfluessig\": 3948, \"hauptverkehrszeit\": 3949, \"hauptgeschaeftszeit\": 3950, \"stosszeit\": 3951, \"entscheidung\": 3952, \"geschieht\": 3953, \"knaben\": 3954, \"vorangehen\": 3955, \"anschliessen\": 3956, \"dazusetzen\": 3957, \"hinsetzen\": 3958, \"habgierig\": 3959, \"doofkoepfe\": 3960, \"schlicht\": 3961, \"brust\": 3962, \"gelenke\": 3963, \"handgelenk\": 3964, \"bruellte\": 3965, \"kenntnis\": 3966, \"begreifst\": 3967, \"begreift\": 3968, \"begreifen\": 3969, \"schmoll\": 3970, \"zeug\": 3971, \"melodie\": 3972, \"entferne\": 3973, \"weitergehen\": 3974, \"unterlassen\": 3975, \"gestiegen\": 3976, \"wissenschaft\": 3977, \"ernaehren\": 3978, \"hinreissend\": 3979, \"schwaermt\": 3980, \"erwuergt\": 3981, \"genarrt\": 3982, \"krankenpflegerin\": 3983, \"unbeholfen\": 3984, \"bach\": 3985, \"tippt\": 3986, \"schaedlich\": 3987, \"murren\": 3988, \"schnueffeln\": 3989, \"sprache\": 3990, \"ideal\": 3991, \"zauberhaft\": 3992, \"selbstverstaendlichkeit\": 3993, \"turm\": 3994, \"satz\": 3995, \"plastik\": 3996, \"typisch\": 3997, \"bellte\": 3998, \"stieg\": 3999, \"leckt\": 4000, \"abgefahren\": 4001, \"applaudierten\": 4002, \"spendeten\": 4003, \"hassten\": 4004, \"ruinierten\": 4005, \"tuechtig\": 4006, \"defekt\": 4007, \"trost\": 4008, \"ueberleg\": 4009, \"aergert\": 4010, \"beisst\": 4011, \"bissiger\": 4012, \"test\": 4013, \"haarstraeubend\": 4014, \"aufzustehen\": 4015, \"naeherte\": 4016, \"zusammengeschlagen\": 4017, \"radelte\": 4018, \"zusammengebrochen\": 4019, \"notruf\": 4020, \"beklagt\": 4021, \"beklagte\": 4022, \"unterbrochen\": 4023, \"zeichnet\": 4024, \"gegraben\": 4025, \"muehelos\": 4026, \"anruf\": 4027, \"dicker\": 4028, \"gehackt\": 4029, \"zuechtete\": 4030, \"baut\": 4031, \"dr\": 4032, \"phil\": 4033, \"asthma\": 4034, \"skorbut\": 4035, \"ratten\": 4036, \"reh\": 4037, \"beachtete\": 4038, \"radfahrer\": 4039, \"motorradfahrer\": 4040, \"trinker\": 4041, \"zwerg\": 4042, \"waechter\": 4043, \"wachmann\": 4044, \"verlierer\": 4045, \"bergmann\": 4046, \"minenarbeiter\": 4047, \"pilot\": 4048, \"rabbi\": 4049, \"schaemt\": 4050, \"durchschnittlich\": 4051, \"ungelenk\": 4052, \"gefuehllos\": 4053, \"vielschichtig\": 4054, \"zynisch\": 4055, \"fragwuerdig\": 4056, \"staubt\": 4057, \"schnappt\": 4058, \"griesgram\": 4059, \"abscheulich\": 4060, \"intensiv\": 4061, \"idol\": 4062, \"neutral\": 4063, \"nickt\": 4064, \"obszoen\": 4065, \"praezise\": 4066, \"uebersinnlich\": 4067, \"radikal\": 4068, \"oberflaechlich\": 4069, \"aehnlich\": 4070, \"klueger\": 4071, \"schluchzt\": 4072, \"vollgegessen\": 4073, \"taktvoll\": 4074, \"neckisch\": 4075, \"beruehrt\": 4076, \"unbewegt\": 4077, \"boesartig\": 4078, \"jammert\": 4079, \"willig\": 4080, \"gaehnt\": 4081, \"pistolen\": 4082, \"nuesse\": 4083, \"thunfisch\": 4084, \"ueberblick\": 4085, \"weggezogen\": 4086, \"gezwickt\": 4087, \"umgeschrieben\": 4088, \"anscheinend\": 4089, \"netten\": 4090, \"verschlief\": 4091, \"gerochen\": 4092, \"gestartet\": 4093, \"tatenlos\": 4094, \"hintergrund\": 4095, \"zurueckgehalten\": 4096, \"notizen\": 4097, \"hinters\": 4098, \"abwesend\": 4099, \"flennte\": 4100, \"muerrisch\": 4101, \"zweiter\": 4102, \"naehen\": 4103, \"naehte\": 4104, \"spiesser\": 4105, \"beissen\": 4106, \"grinsen\": 4107, \"bauchgefuehl\": 4108, \"suessigkeit\": 4109, \"charme\": 4110, \"ewig\": 4111, \"zogen\": 4112, \"mordsspass\": 4113, \"streit\": 4114, \"bauernhof\": 4115, \"gaeste\": 4116, \"helden\": 4117, \"kapitulierten\": 4118, \"meldeten\": 4119, \"schi\": 4120, \"sternhagelvoll\": 4121, \"begraben\": 4122, \"anmalen\": 4123, \"genies\": 4124, \"gedanke\": 4125, \"passieren\": 4126, \"nuetzt\": 4127, \"verletzen\": 4128, \"beisammen\": 4129, \"wisch\": 4130, \"wischen\": 4131, \"widern\": 4132, \"schmeichelst\": 4133, \"verstoert\": 4134, \"wirds\": 4135, \"schaffst\": 4136, \"feiges\": 4137, \"fit\": 4138, \"nichtsnutze\": 4139, \"fuenfzehn\": 4140, \"kenterte\": 4141, \"guckst\": 4142, \"rentner\": 4143, \"laechelst\": 4144, \"stattdessen\": 4145, \"baelle\": 4146, \"rund\": 4147, \"bienen\": 4148, \"ehemann\": 4149, \"tuete\": 4150, \"anschaffen\": 4151, \"beteiligen\": 4152, \"danach\": 4153, \"auslassen\": 4154, \"du\\'s\": 4155, \"kartons\": 4156, \"klatsche\": 4157, \"klapp\": 4158, \"grunde\": 4159, \"protestiert\": 4160, \"gemundet\": 4161, \"liebtest\": 4162, \"meintest\": 4163, \"meinten\": 4164, \"grabe\": 4165, \"tiefes\": 4166, \"rap\": 4167, \"erinnerst\": 4168, \"moechtet\": 4169, \"snob\": 4170, \"knausrig\": 4171, \"flipp\": 4172, \"betrink\": 4173, \"beleidigen\": 4174, \"unterbrich\": 4175, \"uebertreib\": 4176, \"widersetze\": 4177, \"streu\": 4178, \"erschiesse\": 4179, \"necke\": 4180, \"schaf\": 4181, \"sich\\'s\": 4182, \"beteten\": 4183, \"werkzeugkiste\": 4184, \"goenne\": 4185, \"goennen\": 4186, \"goennt\": 4187, \"fackelt\": 4188, \"morgengrauen\": 4189, \"erfuellte\": 4190, \"holte\": 4191, \"strebsam\": 4192, \"aethiopier\": 4193, \"unmoeglicher\": 4194, \"traeumer\": 4195, \"medium\": 4196, \"geisteskraefte\": 4197, \"kraefte\": 4198, \"schlauer\": 4199, \"fussballfreund\": 4200, \"vertreibt\": 4201, \"radios\": 4202, \"whisky\": 4203, \"zugewinkt\": 4204, \"wellenreiten\": 4205, \"komoediant\": 4206, \"studentenverbindung\": 4207, \"verbindungsstudent\": 4208, \"unsozial\": 4209, \"bekommt\": 4210, \"querschnittsgelaehmt\": 4211, \"helium\": 4212, \"hellte\": 4213, \"heiterer\": 4214, \"ausweis\": 4215, \"getuerkt\": 4216, \"hisst\": 4217, \"segel\": 4218, \"dreiviertel\": 4219, \"gewagt\": 4220, \"fuehlen\": 4221, \"enden\": 4222, \"totmuede\": 4223, \"einzudoesen\": 4224, \"spanien\": 4225, \"sitze\": 4226, \"entkleide\": 4227, \"schaetzen\": 4228, \"geruelpst\": 4229, \"verleugnen\": 4230, \"zurueckkehren\": 4231, \"ungeschehen\": 4232, \"beriet\": 4233, \"kontaktiert\": 4234, \"tode\": 4235, \"schippe\": 4236, \"fiebrig\": 4237, \"isoliert\": 4238, \"uebergangen\": 4239, \"aussen\": 4240, \"gefuehlt\": 4241, \"erhalten\": 4242, \"beerdigungen\": 4243, \"politik\": 4244, \"waschbaeren\": 4245, \"reptilien\": 4246, \"kriechtiere\": 4247, \"esel\": 4248, \"laptop\": 4249, \"trommel\": 4250, \"ellbogen\": 4251, \"grad\": 4252, \"gespieben\": 4253, \"andauernd\": 4254, \"typen\": 4255, \"gelernt\": 4256, \"cartoons\": 4257, \"zeichentrickfilme\": 4258, \"auberginen\": 4259, \"broccoli\": 4260, \"komoedien\": 4261, \"western\": 4262, \"zufuegen\": 4263, \"eventuell\": 4264, \"unbedingt\": 4265, \"internet\": 4266, \"brauch\": 4267, \"eimer\": 4268, \"taschentuch\": 4269, \"koffein\": 4270, \"konzentrieren\": 4271, \"treffe\": 4272, \"rechnungen\": 4273, \"bevorzuge\": 4274, \"aufgesetzt\": 4275, \"ausgelesen\": 4276, \"empfehle\": 4277, \"geahnt\": 4278, \"ahnte\": 4279, \"giraffe\": 4280, \"muster\": 4281, \"schwedisch\": 4282, \"unterstuetzte\": 4283, \"duschbad\": 4284, \"duschte\": 4285, \"dasselbe\": 4286, \"zuschauen\": 4287, \"gedemuetigt\": 4288, \"gingest\": 4289, \"dauern\": 4290, \"nachgeben\": 4291, \"einlenken\": 4292, \"notiert\": 4293, \"aufgeschrieben\": 4294, \"limonade\": 4295, \"ausprobieren\": 4296, \"bliebe\": 4297, \"umhoeren\": 4298, \"ruf\\'\": 4299, \"begleite\": 4300, \"informieren\": 4301, \"nachschlagen\": 4302, \"erwaehnen\": 4303, \"bestelle\": 4304, \"jackson\": 4305, \"tv\": 4306, \"fernsehsuechtig\": 4307, \"zimmermann\": 4308, \"schreiner\": 4309, \"tischler\": 4310, \"chauffeur\": 4311, \"stadtmaedchen\": 4312, \"kommunistin\": 4313, \"gluecklicher\": 4314, \"masochist\": 4315, \"nachteule\": 4316, \"nachtmensch\": 4317, \"nachtschwaermer\": 4318, \"risikofreudig\": 4319, \"abenteuerlustig\": 4320, \"sternzeichen\": 4321, \"wassermann\": 4322, \"ingenieur\": 4323, \"optimistin\": 4324, \"langerweile\": 4325, \"farbenblind\": 4326, \"farbenfehlsichtig\": 4327, \"verstopfung\": 4328, \"kooperiere\": 4329, \"tagtraeumen\": 4330, \"altere\": 4331, \"eigener\": 4332, \"kurzsichtig\": 4333, \"schlitzohr\": 4334, \"diebin\": 4335, \"schreie\": 4336, \"ersetzbar\": 4337, \"spontan\": 4338, \"copilot\": 4339, \"gucke\": 4340, \"kellner\": 4341, \"faxen\": 4342, \"dicke\": 4343, \"plappert\": 4344, \"infiziert\": 4345, \"aerztin\": 4346, \"zebra\": 4347, \"erlaubt\": 4348, \"cafe\": 4349, \"ethisch\": 4350, \"umgehauen\": 4351, \"kaputtgegangen\": 4352, \"eigenartig\": 4353, \"erscheinen\": 4354, \"schmeckte\": 4355, \"suessen\": 4356, \"geschmack\": 4357, \"herrschte\": 4358, \"frost\": 4359, \"schmerzlos\": 4360, \"gelohnt\": 4361, \"spassig\": 4362, \"\\'ne\": 4363, \"arge\": 4364, \"sackgasse\": 4365, \"fasan\": 4366, \"akzeptabel\": 4367, \"annehmbar\": 4368, \"spottbillig\": 4369, \"verdientes\": 4370, \"schoenes\": 4371, \"unpassend\": 4372, \"irrelevant\": 4373, \"belanglos\": 4374, \"belang\": 4375, \"zauberei\": 4376, \"irrefuehrend\": 4377, \"bombe\": 4378, \"langt\": 4379, \"erschreckend\": 4380, \"uebe\": 4381, \"uebt\": 4382, \"bewahren\": 4383, \"knete\": 4384, \"teig\": 4385, \"blei\": 4386, \"metall\": 4387, \"hinterlasse\": 4388, \"hinterlassen\": 4389, \"verlasst\": 4390, \"zitronen\": 4391, \"vortritt\": 4392, \"saufen\": 4393, \"betrinken\": 4394, \"giessen\": 4395, \"improvisieren\": 4396, \"zuckerschlecken\": 4397, \"ponyhof\": 4398, \"entscheide\": 4399, \"verkleinere\": 4400, \"kleiner\": 4401, \"verwitwet\": 4402, \"unvermeidlich\": 4403, \"benoetigt\": 4404, \"jeans\": 4405, \"eingelaufen\": 4406, \"quietschen\": 4407, \"erkennen\": 4408, \"oktober\": 4409, \"streiche\": 4410, \"zaun\": 4411, \"schael\": 4412, \"druecke\": 4413, \"druckknopf\": 4414, \"puzzlespielen\": 4415, \"zurueckweisung\": 4416, \"donut\": 4417, \"naturwissenschaften\": 4418, \"sichere\": 4419, \"hinauswill\": 4420, \"schicke\": 4421, \"haie\": 4422, \"vergab\": 4423, \"huebsche\": 4424, \"botengaenge\": 4425, \"sturkopf\": 4426, \"gekniffen\": 4427, \"erstach\": 4428, \"fuehrte\": 4429, \"fesselte\": 4430, \"gefesselt\": 4431, \"weisse\": 4432, \"durchsetzungsvermoegen\": 4433, \"aufrecht\": 4434, \"spanisch\": 4435, \"stiehl\": 4436, \"unterlasse\": 4437, \"wimmern\": 4438, \"aspirin\": 4439, \"geschichtchen\": 4440, \"freiheraus\": 4441, \"kostete\": 4442, \"pagode\": 4443, \"betrug\": 4444, \"bezweifeln\": 4445, \"zweifelhaft\": 4446, \"gewiss\": 4447, \"zeugs\": 4448, \"feucht\": 4449, \"knurrte\": 4450, \"erstarb\": 4451, \"blaetter\": 4452, \"eroetete\": 4453, \"meer\": 4454, \"wind\": 4455, \"keinerlei\": 4456, \"redeten\": 4457, \"piloten\": 4458, \"scheren\": 4459, \"vermissten\": 4460, \"fehlte\": 4461, \"besuchten\": 4462, \"dreckig\": 4463, \"lagen\": 4464, \"denen\": 4465, \"vettern\": 4466, \"praktikanten\": 4467, \"assistenzaerzte\": 4468, \"pfirsich\": 4469, \"schicksal\": 4470, \"stumpfsinnig\": 4471, \"unnuetz\": 4472, \"neuigkeit\": 4473, \"beschleunigte\": 4474, \"beschleunigt\": 4475, \"handelte\": 4476, \"betrunkener\": 4477, \"dazugegeben\": 4478, \"zugegeben\": 4479, \"ums\": 4480, \"genehmigt\": 4481, \"lippe\": 4482, \"malen\": 4483, \"verfolgte\": 4484, \"ausgecheckt\": 4485, \"hinterging\": 4486, \"entworfen\": 4487, \"gejagt\": 4488, \"ekelt\": 4489, \"duckte\": 4490, \"uebertrieb\": 4491, \"uebertreibt\": 4492, \"verstummte\": 4493, \"ungutes\": 4494, \"gefuehl\": 4495, \"narren\": 4496, \"wehrte\": 4497, \"flippte\": 4498, \"geaergert\": 4499, \"panisch\": 4500, \"husten\": 4501, \"buckel\": 4502, \"gewisser\": 4503, \"hicks\": 4504, \"ausgesorgt\": 4505, \"mehrere\": 4506, \"moeglichkeiten\": 4507, \"durchhaltevermoegen\": 4508, \"oper\": 4509, \"barbier\": 4510, \"eremit\": 4511, \"legende\": 4512, \"pirat\": 4513, \"toepfer\": 4514, \"priester\": 4515, \"wahnsinniger\": 4516, \"rapper\": 4517, \"einsteiger\": 4518, \"seemann\": 4519, \"senior\": 4520, \"wellenreiter\": 4521, \"schneider\": 4522, \"kauz\": 4523, \"schraeger\": 4524, \"agnostisch\": 4525, \"magersuechtig\": 4526, \"hustet\": 4527, \"glaubwuerdig\": 4528, \"kultiviert\": 4529, \"geistesgestoert\": 4530, \"untreu\": 4531, \"umstaenden\": 4532, \"entsprechend\": 4533, \"unschluessig\": 4534, \"durchnaesst\": 4535, \"gebildet\": 4536, \"beredt\": 4537, \"ueberzeugend\": 4538, \"flieht\": 4539, \"ausgehungert\": 4540, \"kraftvoll\": 4541, \"kichert\": 4542, \"grinst\": 4543, \"stoehnt\": 4544, \"beinen\": 4545, \"heimwehkrank\": 4546, \"humorvoll\": 4547, \"unreif\": 4548, \"involviert\": 4549, \"klopft\": 4550, \"verwaltet\": 4551, \"barmherzig\": 4552, \"neurotisch\": 4553, \"pervers\": 4554, \"rational\": 4555, \"reformiert\": 4556, \"rastlos\": 4557, \"verrichtet\": 4558, \"einkaeufe\": 4559, \"uebermuetig\": 4560, \"aufgekratzt\": 4561, \"niest\": 4562, \"temperamentvoll\": 4563, \"schwitzt\": 4564, \"taktlos\": 4565, \"talentiert\": 4566, \"endstadium\": 4567, \"kitzelig\": 4568, \"unermuedlich\": 4569, \"entnervt\": 4570, \"kleinlich\": 4571, \"smart\": 4572, \"erschien\": 4573, \"freilassung\": 4574, \"kaution\": 4575, \"gerichtsverhandlung\": 4576, \"guckte\": 4577, \"weitergegessen\": 4578, \"weiterbewegt\": 4579, \"weiterversucht\": 4580, \"blues\": 4581, \"salsa\": 4582, \"streichholz\": 4583, \"kaltem\": 4584, \"verfroren\": 4585, \"flott\": 4586, \"festgefahren\": 4587, \"chili\": 4588, \"supergerne\": 4589, \"aussagen\": 4590, \"moeglicherweise\": 4591, \"vermisste\": 4592, \"ausserhalb\": 4593, \"ueberreagiert\": 4594, \"verschied\": 4595, \"rugby\": 4596, \"aufgenommen\": 4597, \"bereitwillig\": 4598, \"stoisch\": 4599, \"tenor\": 4600, \"schlueckchen\": 4601, \"bewahrte\": 4602, \"badete\": 4603, \"fotos\": 4604, \"dressiert\": 4605, \"warnte\": 4606, \"unnachgiebig\": 4607, \"geblendet\": 4608, \"gemobbt\": 4609, \"niedergeschmettert\": 4610, \"trotzig\": 4611, \"bedenken\": 4612, \"betagt\": 4613, \"ausweichend\": 4614, \"nachsichtig\": 4615, \"unartig\": 4616, \"keuchte\": 4617, \"schluchzte\": 4618, \"niedergestochen\": 4619, \"taser\": 4620, \"beschossen\": 4621, \"begleitete\": 4622, \"empfaengt\": 4623, \"benuetzen\": 4624, \"medaille\": 4625, \"einwendungen\": 4626, \"ruehren\": 4627, \"handschuhe\": 4628, \"experte\": 4629, \"sank\": 4630, \"gesunken\": 4631, \"saukomisch\": 4632, \"verantwortlich\": 4633, \"abstossend\": 4634, \"gaehnen\": 4635, \"schaltet\": 4636, \"schalten\": 4637, \"waende\": 4638, \"hintrittst\": 4639, \"zehen\": 4640, \"nennen\": 4641, \"machten\": 4642, \"erklaerten\": 4643, \"rohen\": 4644, \"picknicks\": 4645, \"waffeln\": 4646, \"fachleute\": 4647, \"duschten\": 4648, \"zurueckhaben\": 4649, \"wiederhaben\": 4650, \"lager\": 4651, \"aufschlagen\": 4652, \"kampieren\": 4653, \"kooperativ\": 4654, \"hinkommen\": 4655, \"angler\": 4656, \"stammen\": 4657, \"nachbarn\": 4658, \"optimisten\": 4659, \"verwandte\": 4660, \"gefuerchtet\": 4661, \"riesiger\": 4662, \"schlips\": 4663, \"grober\": 4664, \"motivation\": 4665, \"wieviel\": 4666, \"schiefgelaufen\": 4667, \"worum\": 4668, \"gewinn\": 4669, \"beruflich\": 4670, \"ruder\": 4671, \"beschimpft\": 4672, \"ergab\": 4673, \"fragten\": 4674, \"waerest\": 4675, \"betreffende\": 4676, \"versteckst\": 4677, \"dahinter\": 4678, \"schoenheit\": 4679, \"sexist\": 4680, \"stoerst\": 4681, \"nervst\": 4682, \"enervierend\": 4683, \"blutest\": 4684, \"bluten\": 4685, \"taeuschst\": 4686, \"betruegst\": 4687, \"schummelst\": 4688, \"partnerin\": 4689, \"bemitleidenswert\": 4690, \"abgelaufen\": 4691, \"weniger\": 4692, \"bellt\": 4693, \"des\": 4694, \"wegs\": 4695, \"sicherung\": 4696, \"durchgebrannt\": 4697, \"unsichtbar\": 4698, \"zauberer\": 4699, \"sportlich\": 4700, \"erroetest\": 4701, \"erroeten\": 4702, \"erroetet\": 4703, \"interessiert\\'s\": 4704, \"atlantis\": 4705, \"achtung\": 4706, \"fluegel\": 4707, \"zuegele\": 4708, \"atme\": 4709, \"putzt\": 4710, \"putzen\": 4711, \"fordere\": 4712, \"irgendwann\": 4713, \"leihen\": 4714, \"irgendjemand\": 4715, \"erlauben\": 4716, \"kirschen\": 4717, \"schliesst\": 4718, \"graben\": 4719, \"grabt\": 4720, \"riemen\": 4721, \"ueberquere\": 4722, \"gedraengt\": 4723, \"gebellt\": 4724, \"je\": 4725, \"kanntest\": 4726, \"riech\\'\": 4727, \"weinst\": 4728, \"lehnst\": 4729, \"pasta\": 4730, \"ruhst\": 4731, \"tofu\": 4732, \"besitzen\": 4733, \"solch\": 4734, \"unbesorgt\": 4735, \"taeuscht\": 4736, \"stoer\": 4737, \"rase\": 4738, \"belaestige\": 4739, \"weitermachst\": 4740, \"laerme\": 4741, \"treib\": 4742, \"spielchen\": 4743, \"bescheiss\": 4744, \"verpetz\": 4745, \"verpetzen\": 4746, \"linie\": 4747, \"erfuellung\": 4748, \"eiweis\": 4749, \"sprangen\": 4750, \"merkten\": 4751, \"aufgefallen\": 4752, \"fuell\": 4753, \"beende\": 4754, \"befolge\": 4755, \"welchem\": 4756, \"weiche\": 4757, \"zurueckgekehrt\": 4758, \"wunderschoenen\": 4759, \"aufgegessen\": 4760, \"verstiess\": 4761, \"fremdgegangen\": 4762, \"mittags\": 4763, \"kurzem\": 4764, \"erfuellt\": 4765, \"faszinierte\": 4766, \"rueckwaerts\": 4767, \"reparierte\": 4768, \"flog\": 4769, \"graues\": 4770, \"picasso\": 4771, \"langes\": 4772, \"verabscheut\": 4773, \"hoeflicher\": 4774, \"bub\": 4775, \"aggressiv\": 4776, \"italiener\": 4777, \"ungesellig\": 4778, \"heimgekommen\": 4779, \"tagebuch\": 4780, \"diesbezueglich\": 4781, \"orangen\": 4782, \"tierlieb\": 4783, \"fischt\": 4784, \"hisste\": 4785, \"flagge\": 4786, \"geschuettelt\": 4787, \"stunde\": 4788, \"geworfen\": 4789, \"belog\": 4790, \"wendete\": 4791, \"schlafanzug\": 4792, \"sonntags\": 4793, \"erwachsener\": 4794, \"rettungsschwimmer\": 4795, \"nichtraucher\": 4796, \"kluger\": 4797, \"gespannt\": 4798, \"senil\": 4799, \"klasse\": 4800, \"knauserig\": 4801, \"brieftasche\": 4802, \"plaedieren\": 4803, \"sonderbar\": 4804, \"ungemein\": 4805, \"verkuehlung\": 4806, \"katarrh\": 4807, \"pflichte\": 4808, \"runtergehauen\": 4809, \"auslaender\": 4810, \"brasilien\": 4811, \"norwegen\": 4812, \"brate\": 4813, \"hexe\": 4814, \"verbeugte\": 4815, \"erretten\": 4816, \"behaupten\": 4817, \"bunt\": 4818, \"zurueckhalten\": 4819, \"eingefangen\": 4820, \"sammle\": 4821, \"entgegengetreten\": 4822, \"erwaegung\": 4823, \"gezogen\": 4824, \"pizzalieferant\": 4825, \"pizzalieferantin\": 4826, \"akzeptiere\": 4827, \"keins\": 4828, \"fremd\": 4829, \"allesesser\": 4830, \"gebauchpinselt\": 4831, \"beschuetzt\": 4832, \"erquickt\": 4833, \"beruf\": 4834, \"geholt\": 4835, \"impfen\": 4836, \"gruende\": 4837, \"rechner\": 4838, \"heuchelei\": 4839, \"granate\": 4840, \"roller\": 4841, \"wenige\": 4842, \"heuschnupfen\": 4843, \"sodbrennen\": 4844, \"anweisungen\": 4845, \"zukunft\": 4846, \"lungenentzuendung\": 4847, \"zwanzig\": 4848, \"erzielt\": 4849, \"erzielte\": 4850, \"muehsam\": 4851, \"rechte\": 4852, \"uebung\": 4853, \"erlaubte\": 4854, \"hereinzukommen\": 4855, \"samstage\": 4856, \"astrologie\": 4857, \"schokolade\": 4858, \"elefanten\": 4859, \"frische\": 4860, \"frischen\": 4861, \"roman\": 4862, \"popmusik\": 4863, \"ueberraschungen\": 4864, \"achte\": 4865, \"suchte\": 4866, \"pfund\": 4867, \"fotoapparat\": 4868, \"astronomie\": 4869, \"sternenkunde\": 4870, \"dinosaurier\": 4871, \"gartenarbeit\": 4872, \"eiscreme\": 4873, \"afroamerikanische\": 4874, \"kueche\": 4875, \"seelennahrung\": 4876, \"wald\": 4877, \"weggeschickt\": 4878, \"begangen\": 4879, \"angefertigt\": 4880, \"kochte\": 4881, \"spaghetti\": 4882, \"brechstange\": 4883, \"brecheisen\": 4884, \"umschlaege\": 4885, \"ueberlistet\": 4886, \"passte\": 4887, \"schlagzeug\": 4888, \"sprit\": 4889, \"tinte\": 4890, \"times\": 4891, \"etikett\": 4892, \"hoffen\": 4893, \"erkannte\": 4894, \"erkannt\": 4895, \"rieb\": 4896, \"ausgegeben\": 4897, \"regelmaessig\": 4898, \"selbstgespraeche\": 4899, \"scheidung\": 4900, \"i\": 4901, \"martini\": 4902, \"aufessen\": 4903, \"frustriert\": 4904, \"damals\": 4905, \"erniedrigt\": 4906, \"siegreich\": 4907, \"uebersetzen\": 4908, \"freuen\": 4909, \"hierbleiben\": 4910, \"bestrafen\": 4911, \"allem\": 4912, \"verzeihen\": 4913, \"langgehen\": 4914, \"abnehmen\": 4915, \"abwasch\": 4916, \"fuenfundzwanzig\": 4917, \"mentor\": 4918, \"buerger\": 4919, \"vereinigten\": 4920, \"staaten\": 4921, \"groggy\": 4922, \"langschlaefer\": 4923, \"fotonarr\": 4924, \"hobbyfotograf\": 4925, \"alleinerziehende\": 4926, \"verdrossen\": 4927, \"beidhaenderin\": 4928, \"beidhaender\": 4929, \"haenden\": 4930, \"gleichermassen\": 4931, \"ehemaliger\": 4932, \"marinesoldat\": 4933, \"vermeide\": 4934, \"uebertreibe\": 4935, \"high\": 4936, \"werd\\'\": 4937, \"dicht\": 4938, \"dachboden\": 4939, \"lobby\": 4940, \"foyer\": 4941, \"quicklebendig\": 4942, \"ueberdrehe\": 4943, \"stolz\": 4944, \"komplett\": 4945, \"bankrott\": 4946, \"pensioniert\": 4947, \"gestresst\": 4948, \"vorurteilsfrei\": 4949, \"riesendurst\": 4950, \"diener\": 4951, \"ausfindig\": 4952, \"verfuegbar\": 4953, \"selbstsicher\": 4954, \"erreichbar\": 4955, \"ansteckend\": 4956, \"blume\": 4957, \"verkaeuflich\": 4958, \"euro\": 4959, \"interessierte\": 4960, \"stockdunkel\": 4961, \"springt\": 4962, \"bedeutung\": 4963, \"erscheint\": 4964, \"warmer\": 4965, \"dauert\": 4966, \"gruppe\": 4967, \"handy\": 4968, \"angewohnheit\": 4969, \"messe\": 4970, \"traumjob\": 4971, \"vollmond\": 4972, \"verrueckte\": 4973, \"sonnenblume\": 4974, \"sonniger\": 4975, \"windiger\": 4976, \"illusion\": 4977, \"mild\": 4978, \"bitterkalt\": 4979, \"klart\": 4980, \"denkbar\": 4981, \"hergeholt\": 4982, \"gefroren\": 4983, \"reine\": 4984, \"glueckssache\": 4985, \"waschtag\": 4986, \"affenfleisch\": 4987, \"trick\": 4988, \"gesetzeswidrig\": 4989, \"sofa\": 4990, \"regnerisch\": 4991, \"bedauerlich\": 4992, \"deren\": 4993, \"transparent\": 4994, \"unnoetig\": 4995, \"bitter\": 4996, \"klebrig\": 4997, \"schwuel\": 4998, \"stickig\": 4999, \"privatvergnuegen\": 5000, \"asien\": 5001, \"nenn\": 5002, \"nenne\": 5003, \"werk\": 5004, \"kuehlen\": 5005, \"ruebergehen\": 5006, \"lass\\'\": 5007, \"steck\": 5008, \"zuende\": 5009, \"unsterblich\": 5010, \"senke\": 5011, \"senken\": 5012, \"leiser\": 5013, \"sende\": 5014, \"mars\": 5015, \"wildfang\": 5016, \"verpasste\": 5017, \"nachher\": 5018, \"deutschen\": 5019, \"floehe\": 5020, \"entzuendet\": 5021, \"zuckt\": 5022, \"goldfisch\": 5023, \"winzig\": 5024, \"posteingang\": 5025, \"langweilige\": 5026, \"socken\": 5027, \"bauchschmerzen\": 5028, \"magenschmerzen\": 5029, \"geldbeutel\": 5030, \"schlaegt\": 5031, \"interessieren\": 5032, \"unterrichtete\": 5033, \"nix\": 5034, \"gehorche\": 5035, \"wenden\": 5036, \"pumpen\": 5037, \"pump\": 5038, \"beschweren\": 5039, \"begrabbeln\": 5040, \"eher\": 5041, \"wirklichkeit\": 5042, \"rom\": 5043, \"italien\": 5044, \"griff\": 5045, \"angelaufen\": 5046, \"bezwungen\": 5047, \"bezwang\": 5048, \"verachtete\": 5049, \"trockenes\": 5050, \"vergoetterte\": 5051, \"vergoettert\": 5052, \"beleidigte\": 5053, \"pianistin\": 5054, \"laessig\": 5055, \"hartnaeckig\": 5056, \"angeschaut\": 5057, \"zurueckgewiesen\": 5058, \"geritten\": 5059, \"ritt\": 5060, \"lebewohl\": 5061, \"angelaechelt\": 5062, \"wucht\": 5063, \"haeuschen\": 5064, \"schlangen\": 5065, \"deswegen\": 5066, \"starte\": 5067, \"meckern\": 5068, \"unterlass\": 5069, \"tagtraeumerei\": 5070, \"hauen\": 5071, \"einzumischen\": 5072, \"anzuluegen\": 5073, \"beluegen\": 5074, \"erschrecken\": 5075, \"prahlen\": 5076, \"sekkieren\": 5077, \"supermann\": 5078, \"pille\": 5079, \"vorkehrungen\": 5080, \"vorsichtsmassnahmen\": 5081, \"trefft\": 5082, \"sicherheitsvorkehrungen\": 5083, \"jemandem\": 5084, \"neuigkeiten\": 5085, \"hingehauen\": 5086, \"ergibt\": 5087, \"ungeschickt\": 5088, \"vermeiden\": 5089, \"umgehen\": 5090, \"ueberfragt\": 5091, \"freudige\": 5092, \"irrsinnig\": 5093, \"eitles\": 5094, \"geschwaetz\": 5095, \"unheilbar\": 5096, \"lachhaft\": 5097, \"angelegenheit\": 5098, \"weder\": 5099, \"punkt\": 5100, \"aergerlich\": 5101, \"schaedel\": 5102, \"zweiundvierzig\": 5103, \"batterie\": 5104, \"beule\": 5105, \"riesig\": 5106, \"gequietscht\": 5107, \"ziege\": 5108, \"meckerte\": 5109, \"loeste\": 5110, \"gilt\": 5111, \"mikrophon\": 5112, \"untergegangen\": 5113, \"party\": 5114, \"fete\": 5115, \"beendet\": 5116, \"vereist\": 5117, \"rau\": 5118, \"stuermisch\": 5119, \"schalter\": 5120, \"zwillinge\": 5121, \"ertoente\": 5122, \"verheilte\": 5123, \"ausgehoben\": 5124, \"achten\": 5125, \"entdeckt\": 5126, \"gedankt\": 5127, \"verschlossen\": 5128, \"wiederkehren\": 5129, \"klatschnass\": 5130, \"knabe\": 5131, \"kritisch\": 5132, \"trainer\": 5133, \"schwachsinn\": 5134, \"sabotage\": 5135, \"tom\\'s\": 5136, \"stoppte\": 5137, \"ereignen\": 5138, \"schluchzen\": 5139, \"broetchen\": 5140, \"tagesanbruch\": 5141, \"hervor\": 5142, \"angerannt\": 5143, \"gewechselt\": 5144, \"eindeutig\": 5145, \"kletterte\": 5146, \"konzentrierte\": 5147, \"berichtigte\": 5148, \"verbesserte\": 5149, \"korrigierte\": 5150, \"erschaffen\": 5151, \"dekoriert\": 5152, \"einwaende\": 5153, \"h\": 5154, \"kleidet\": 5155, \"weiteten\": 5156, \"verliebte\": 5157, \"behandelt\": 5158, \"verzeiht\": 5159, \"vergibt\": 5160, \"briet\": 5161, \"taetowieren\": 5162, \"vision\": 5163, \"alibi\": 5164, \"hausdiener\": 5165, \"geschwuer\": 5166, \"charisma\": 5167, \"huehner\": 5168, \"fertiggemacht\": 5169, \"sommersprossen\": 5170, \"schlafstoerungen\": 5171, \"leukaemie\": 5172, \"trunkenheit\": 5173, \"steuer\": 5174, \"belangt\": 5175, \"sueden\": 5176, \"sirenen\": 5177, \"hoffte\": 5178, \"summte\": 5179, \"verletzte\": 5180, \"beeindruckte\": 5181, \"marie\": 5182, \"marys\": 5183, \"hochstapler\": 5184, \"schlagzeuger\": 5185, \"schlagzeugspieler\": 5186, \"faschist\": 5187, \"turner\": 5188, \"pianist\": 5189, \"installateur\": 5190, \"realist\": 5191, \"makler\": 5192, \"immobilienmakler\": 5193, \"fluechtling\": 5194, \"lastwagenfahrer\": 5195, \"lasterfahrer\": 5196, \"sager\": 5197, \"jodler\": 5198, \"anpassungsfaehig\": 5199, \"selbstbewusst\": 5200, \"abkoemmlich\": 5201, \"bartlos\": 5202, \"bilingual\": 5203, \"verpflichtet\": 5204, \"zuvorkommend\": 5205, \"betruegerisch\": 5206, \"defensiv\": 5207, \"delirium\": 5208, \"anspruchsvoll\": 5209, \"unehrlich\": 5210, \"exzentrisch\": 5211, \"effektiv\": 5212, \"effizient\": 5213, \"woanders\": 5214, \"emotional\": 5215, \"energisch\": 5216, \"ausgezeichnet\": 5217, \"ueberschwaenglich\": 5218, \"fanatisch\": 5219, \"tollkuehn\": 5220, \"grotesk\": 5221, \"murrt\": 5222, \"urkomisch\": 5223, \"ehrenhaft\": 5224, \"hitzkoepfig\": 5225, \"unlogisch\": 5226, \"unparteiisch\": 5227, \"teilnahmslos\": 5228, \"fortschritte\": 5229, \"bande\": 5230, \"unaufrichtig\": 5231, \"luestern\": 5232, \"legendaer\": 5233, \"unbarmherzig\": 5234, \"miserabel\": 5235, \"murmelt\": 5236, \"obsessiv\": 5237, \"organisiert\": 5238, \"fuehrer\": 5239, \"freimuetig\": 5240, \"uebergluecklich\": 5241, \"perplex\": 5242, \"besessen\": 5243, \"praktisch\": 5244, \"bedauert\": 5245, \"zurueckhaltend\": 5246, \"serioes\": 5247, \"belastbar\": 5248, \"sarkastisch\": 5249, \"geheimnisvoll\": 5250, \"sensibel\": 5251, \"schamlos\": 5252, \"hemdlos\": 5253, \"skizziert\": 5254, \"hockt\": 5255, \"suspendiert\": 5256, \"unentschieden\": 5257, \"alleinstehend\": 5258, \"unbeliebt\": 5259, \"begriff\": 5260, \"wacht\": 5261, \"pfeift\": 5262, \"jude\": 5263, \"langweiler\": 5264, \"familienmitglied\": 5265, \"aufgefuehrt\": 5266, \"stabil\": 5267, \"drogeneinfluss\": 5268, \"geniest\": 5269, \"zugeschaut\": 5270, \"wuehlte\": 5271, \"packte\": 5272, \"weitergesungen\": 5273, \"textete\": 5274, \"menschenkenntnis\": 5275, \"naturfreund\": 5276, \"ponys\": 5277, \"boxt\": 5278, \"vorn\": 5279, \"angesehen\": 5280, \"geistreich\": 5281, \"wackelig\": 5282, \"anmerken\": 5283, \"genickt\": 5284, \"belauscht\": 5285, \"zwickte\": 5286, \"bridge\": 5287, \"vorhergesagt\": 5288, \"senden\": 5289, \"druck\": 5290, \"wahrscheinlich\": 5291, \"gekuendigt\": 5292, \"romane\": 5293, \"achtet\": 5294, \"baumstamm\": 5295, \"nachrichten\": 5296, \"punktete\": 5297, \"herrisch\": 5298, \"widerstandsfaehig\": 5299, \"gutzugehen\": 5300, \"scheusslich\": 5301, \"stiehlt\": 5302, \"erstarrt\": 5303, \"vorgeschlagen\": 5304, \"flucht\": 5305, \"yogaunterricht\": 5306, \"kitzelte\": 5307, \"quaelte\": 5308, \"veraenderung\": 5309, \"landwirt\": 5310, \"plapperte\": 5311, \"bluffte\": 5312, \"prahlte\": 5313, \"aufgeraeumt\": 5314, \"aufmunternd\": 5315, \"besiegt\": 5316, \"deportiert\": 5317, \"treulos\": 5318, \"traeumte\": 5319, \"ekstatisch\": 5320, \"hingerichtet\": 5321, \"starke\": 5322, \"begnadigt\": 5323, \"freigelassen\": 5324, \"ausgewaehlt\": 5325, \"hungerte\": 5326, \"unrasiert\": 5327, \"beobachtete\": 5328, \"jogging\": 5329, \"bettnaesser\": 5330, \"wettlauf\": 5331, \"bemerken\": 5332, \"akzeptieren\": 5333, \"zusagen\": 5334, \"einwilligen\": 5335, \"wahnhafte\": 5336, \"stoerungen\": 5337, \"erbleichte\": 5338, \"hysterisch\": 5339, \"innovativ\": 5340, \"klingelte\": 5341, \"ungeschlagen\": 5342, \"folter\": 5343, \"auszubrechen\": 5344, \"biegen\": 5345, \"heizung\": 5346, \"lauft\": 5347, \"giess\": 5348, \"fingen\": 5349, \"verlangen\": 5350, \"stoerten\": 5351, \"verabscheuen\": 5352, \"vernahmen\": 5353, \"schuesse\": 5354, \"armen\": 5355, \"wollten\": 5356, \"kennengelernt\": 5357, \"irrten\": 5358, \"gestrandet\": 5359, \"sieg\": 5360, \"davongetragen\": 5361, \"schrieben\": 5362, \"nachfolgen\": 5363, \"klassenkameraden\": 5364, \"nicken\": 5365, \"osten\": 5366, \"analphabeten\": 5367, \"furchtsam\": 5368, \"verwandt\": 5369, \"umzingelt\": 5370, \"ausprobiert\": 5371, \"aussicht\": 5372, \"ausblick\": 5373, \"lustiger\": 5374, \"schwere\": 5375, \"heuchler\": 5376, \"kluges\": 5377, \"kerlchen\": 5378, \"besagt\": 5379, \"wovon\": 5380, \"ziehst\": 5381, \"wunsch\": 5382, \"zoll\": 5383, \"sitzplatz\": 5384, \"mami\": 5385, \"festgenommen\": 5386, \"hergebracht\": 5387, \"dame\": 5388, \"benachrichtigt\": 5389, \"gesperrt\": 5390, \"eigelbe\": 5391, \"gelb\": 5392, \"vermasselt\": 5393, \"kucken\": 5394, \"leistest\": 5395, \"steckenpferd\": 5396, \"schienst\": 5397, \"loegest\": 5398, \"loeget\": 5399, \"loegen\": 5400, \"freundin\": 5401, \"starrsinnig\": 5402, \"schreist\": 5403, \"versicherung\": 5404, \"vogelscheuche\": 5405, \"wertlos\": 5406, \"regnete\": 5407, \"heftig\": 5408, \"heftiger\": 5409, \"gewitter\": 5410, \"unwetter\": 5411, \"fuegen\": 5412, \"einzige\": 5413, \"ammoniak\": 5414, \"lauge\": 5415, \"bettwanzen\": 5416, \"vampire\": 5417, \"vampir\": 5418, \"zweisprachig\": 5419, \"buergermeister\": 5420, \"polizisten\": 5421, \"schutzmann\": 5422, \"meide\": 5423, \"schlechten\": 5424, \"umgang\": 5425, \"warnung\": 5426, \"dieben\": 5427, \"bauen\": 5428, \"nester\": 5429, \"faszinieren\": 5430, \"ausleihen\": 5431, \"bissen\": 5432, \"verschieben\": 5433, \"springschnurspringen\": 5434, \"schleife\": 5435, \"binden\": 5436, \"rausschmeissen\": 5437, \"feuern\": 5438, \"champagner\": 5439, \"kokain\": 5440, \"vergleiche\": 5441, \"fakten\": 5442, \"rueckgeld\": 5443, \"verhandlung\": 5444, \"vertagt\": 5445, \"lohnt\": 5446, \"verteidigt\": 5447, \"genannt\": 5448, \"rausgeworfen\": 5449, \"gezeichnet\": 5450, \"wohntest\": 5451, \"wohntet\": 5452, \"wohnten\": 5453, \"alarmanlage\": 5454, \"ameisen\": 5455, \"zuliebe\": 5456, \"stimmst\": 5457, \"rose\": 5458, \"verkaufst\": 5459, \"sahne\": 5460, \"gewogen\": 5461, \"relevant\": 5462, \"palme\": 5463, \"erwaehne\": 5464, \"wiederhol\": 5465, \"wiederholen\": 5466, \"menschenseele\": 5467, \"droh\": 5468, \"erde\": 5469, \"mutti\": 5470, \"mamma\": 5471, \"busse\": 5472, \"jede\": 5473, \"krischen\": 5474, \"ueberlebten\": 5475, \"butter\": 5476, \"heiz\": 5477, \"grill\": 5478, \"teuer\": 5479, \"brat\": 5480, \"bratet\": 5481, \"braten\": 5482, \"bettfertig\": 5483, \"decken\": 5484, \"tempotuch\": 5485, \"geradeaus\": 5486, \"damen\": 5487, \"hamster\": 5488, \"gelaeutet\": 5489, \"heu\": 5490, \"wohlbehalten\": 5491, \"rasend\": 5492, \"erpresste\": 5493, \"erpresst\": 5494, \"blockierte\": 5495, \"neigte\": 5496, \"stock\": 5497, \"aufgetaucht\": 5498, \"letztes\": 5499, \"verstorben\": 5500, \"abgekratzt\": 5501, \"abgegeben\": 5502, \"lotus\": 5503, \"pickup\": 5504, \"vase\": 5505, \"lebensunterhalt\": 5506, \"erfroren\": 5507, \"schachtel\": 5508, \"steckte\": 5509, \"tipp\": 5510, \"ermuedete\": 5511, \"erholte\": 5512, \"genas\": 5513, \"ergriff\": 5514, \"erhaengte\": 5515, \"haengte\": 5516, \"blonde\": 5517, \"blondes\": 5518, \"gruene\": 5519, \"reue\": 5520, \"geborener\": 5521, \"mutiger\": 5522, \"draufgaenger\": 5523, \"dramatiker\": 5524, \"physiker\": 5525, \"echter\": 5526, \"wissenschaftler\": 5527, \"ungefaehr\": 5528, \"unrettbar\": 5529, \"inkompetent\": 5530, \"unfaehig\": 5531, \"einflussreich\": 5532, \"vertrauenswuerdig\": 5533, \"momentan\": 5534, \"sms\": 5535, \"beging\": 5536, \"selbstmord\": 5537, \"hals\": 5538, \"abgereist\": 5539, \"kyoto\": 5540, \"osaka\": 5541, \"ehre\": 5542, \"augenlicht\": 5543, \"offenbar\": 5544, \"beiseite\": 5545, \"hob\": 5546, \"meilen\": 5547, \"chinesisch\": 5548, \"russisch\": 5549, \"aufgeblieben\": 5550, \"stahl\": 5551, \"lehrt\": 5552, \"freigenommen\": 5553, \"uebte\": 5554, \"verrat\": 5555, \"verstossen\": 5556, \"uebertreten\": 5557, \"strahlte\": 5558, \"aeusserst\": 5559, \"rastete\": 5560, \"hinwegkommen\": 5561, \"studienanfaenger\": 5562, \"anfangssemestern\": 5563, \"hochverschuldet\": 5564, \"georgia\": 5565, \"georgien\": 5566, \"knast\": 5567, \"sahnt\": 5568, \"vertrauensselig\": 5569, \"naegel\": 5570, \"bitteschoen\": 5571, \"adresse\": 5572, \"gelaender\": 5573, \"schatz\": 5574, \"waer\": 5575, \"wende\": 5576, \"pflichtete\": 5577, \"vierundzwanzig\": 5578, \"ecuador\": 5579, \"england\": 5580, \"taeglich\": 5581, \"vw\": 5582, \"bulli\": 5583, \"kaktus\": 5584, \"hybrid\": 5585, \"ploetzlich\": 5586, \"finger\": 5587, \"buerstete\": 5588, \"anbrennen\": 5589, \"wachschutz\": 5590, \"wachdienst\": 5591, \"chopin\": 5592, \"heiraten\": 5593, \"einordnen\": 5594, \"aufs\": 5595, \"ertrage\": 5596, \"umentschieden\": 5597, \"gekriegt\": 5598, \"rueckverguetung\": 5599, \"besseres\": 5600, \"universitaetsabschluss\": 5601, \"gekannt\": 5602, \"steuererklaerung\": 5603, \"werfe\": 5604, \"pool\": 5605, \"bedauere\": 5606, \"durchgefahren\": 5607, \"klausur\": 5608, \"schliesslich\": 5609, \"letztendlich\": 5610, \"schal\": 5611, \"ausweg\": 5612, \"note\": 5613, \"reifenpanne\": 5614, \"umsonst\": 5615, \"blauen\": 5616, \"eingefallen\": 5617, \"unfall\": 5618, \"interviews\": 5619, \"vorstellungsgespraeche\": 5620, \"regnerische\": 5621, \"regentage\": 5622, \"wueste\": 5623, \"tochter\": 5624, \"schnelles\": 5625, \"schnellen\": 5626, \"rosa\": 5627, \"rosafarbenes\": 5628, \"vorschlag\": 5629, \"loesung\": 5630, \"ohrenschmerzen\": 5631, \"altes\": 5632, \"mundgeruch\": 5633, \"vorstehende\": 5634, \"sonnenbrille\": 5635, \"nichten\": 5636, \"unterbrach\": 5637, \"marine\": 5638, \"hierhergezogen\": 5639, \"fliegt\": 5640, \"selbstvertrauen\": 5641, \"herausforderungen\": 5642, \"volkslieder\": 5643, \"rockmusik\": 5644, \"sandwiches\": 5645, \"farben\": 5646, \"modell\": 5647, \"komfortabel\": 5648, \"scharfes\": 5649, \"photo\": 5650, \"feilsche\": 5651, \"hingerissen\": 5652, \"hab\\'\": 5653, \"serie\": 5654, \"minuten\": 5655, \"kalender\": 5656, \"tastatur\": 5657, \"zahnpasta\": 5658, \"verschlafe\": 5659, \"football\": 5660, \"zerrung\": 5661, \"zugezogen\": 5662, \"ampel\": 5663, \"treibstoff\": 5664, \"huegel\": 5665, \"empfohlen\": 5666, \"sonnenaufgang\": 5667, \"geschaut\": 5668, \"mitteilen\": 5669, \"unterschrieb\": 5670, \"formular\": 5671, \"kaefer\": 5672, \"verschluckt\": 5673, \"erdkundelehrer\": 5674, \"erdkundelehrerin\": 5675, \"deucht\": 5676, \"highway\": 5677, \"fernstrasse\": 5678, \"geraecht\": 5679, \"gewoehnlich\": 5680, \"wasserbett\": 5681, \"teller\": 5682, \"hereinkommen\": 5683, \"jacke\": 5684, \"mitgefuehl\": 5685, \"sympathie\": 5686, \"pfadfinder\": 5687, \"schuechternes\": 5688, \"fremder\": 5689, \"entmutigt\": 5690, \"daemmerte\": 5691, \"ueberwaeltigt\": 5692, \"gewaschen\": 5693, \"getraeumt\": 5694, \"herumgeschaekert\": 5695, \"aufgewacht\": 5696, \"lotto\": 5697, \"anziehen\": 5698, \"arbeitszeit\": 5699, \"ausfuehren\": 5700, \"besorge\": 5701, \"zurueckgeben\": 5702, \"hinkriegen\": 5703, \"freilassen\": 5704, \"ueberraschen\": 5705, \"verstaendigen\": 5706, \"zahnarzt\": 5707, \"opa\": 5708, \"frisoer\": 5709, \"verheirateter\": 5710, \"geduldiger\": 5711, \"voelliges\": 5712, \"wrack\": 5713, \"astronom\": 5714, \"einzelkind\": 5715, \"gewissenhaft\": 5716, \"erwarte\": 5717, \"baff\": 5718, \"springe\": 5719, \"unersetzlich\": 5720, \"austauschbar\": 5721, \"lediglich\": 5722, \"vermute\": 5723, \"fanatikerin\": 5724, \"spielerin\": 5725, \"ungeheuer\": 5726, \"monster\": 5727, \"hellsehen\": 5728, \"kuenstlerin\": 5729, \"eigentuemer\": 5730, \"eigentuemerin\": 5731, \"besitzer\": 5732, \"besitzerin\": 5733, \"allzu\": 5734, \"dienstmaedchen\": 5735, \"altmodisch\": 5736, \"siebten\": 5737, \"wolke\": 5738, \"atem\": 5739, \"direkt\": 5740, \"mitbewohner\": 5741, \"mitbewohnerin\": 5742, \"vertrieben\": 5743}'"
            ]
          },
          "metadata": {
            "tags": []
          },
          "execution_count": 199
        }
      ]
    },
    {
      "cell_type": "code",
      "metadata": {
        "id": "t4St-Bt-8YIL",
        "colab": {
          "base_uri": "https://localhost:8080/"
        },
        "outputId": "54056344-9830-4178-9af9-64f1adb32adc"
      },
      "source": [
        "res = json.loads(tokenizer_config['word_index'])\r\n",
        "\r\n",
        "max_german_tokens = max(res.values())\r\n",
        "\r\n",
        "print(max_german_tokens)\r\n"
      ],
      "execution_count": 200,
      "outputs": [
        {
          "output_type": "stream",
          "text": [
            "5743\n"
          ],
          "name": "stdout"
        }
      ]
    },
    {
      "cell_type": "code",
      "metadata": {
        "id": "xT_YQlXW8rE_",
        "colab": {
          "base_uri": "https://localhost:8080/"
        },
        "outputId": "74879519-a021-40e6-9d7b-b8e075019fe0"
      },
      "source": [
        "padded_tonkenized_German = tokenizer.texts_to_sequences(modified_gr)\r\n",
        "\r\n",
        "for _ in range(10):\r\n",
        "    rand = random.randint(0, 20000)\r\n",
        "    print(preprocessed_En[rand])\r\n",
        "    print(modified_gr[rand])\r\n",
        "    print(padded_tonkenized_German[rand])\r\n",
        "    print('*************')"
      ],
      "execution_count": 201,
      "outputs": [
        {
          "output_type": "stream",
          "text": [
            "i like math .\n",
            "<start> ich mag mathematik . <end>\n",
            "[1, 4, 51, 1284, 3, 2]\n",
            "*************\n",
            "tom is there .\n",
            "<start> tom ist da . <end>\n",
            "[1, 5, 6, 63, 3, 2]\n",
            "*************\n",
            "we're happy .\n",
            "<start> wir sind gluecklich . <end>\n",
            "[1, 17, 23, 128, 3, 2]\n",
            "*************\n",
            "you're innocent .\n",
            "<start> du bist unschuldig . <end>\n",
            "[1, 13, 32, 838, 3, 2]\n",
            "*************\n",
            "things break .\n",
            "<start> dinge gehen kaputt . <end>\n",
            "[1, 1025, 45, 428, 3, 2]\n",
            "*************\n",
            "tom is grateful .\n",
            "<start> tom ist dankbar . <end>\n",
            "[1, 5, 6, 1909, 3, 2]\n",
            "*************\n",
            "i see .\n",
            "<start> aha . <end>\n",
            "[1, 3159, 3, 2]\n",
            "*************\n",
            "i'll decide .\n",
            "<start> ich werde entscheiden . <end>\n",
            "[1, 4, 39, 910, 3, 2]\n",
            "*************\n",
            "tom is biased .\n",
            "<start> tom ist parteiisch . <end>\n",
            "[1, 5, 6, 3711, 3, 2]\n",
            "*************\n",
            "tom is so stupid .\n",
            "<start> tom ist so dumm . <end>\n",
            "[1, 5, 6, 70, 329, 3, 2]\n",
            "*************\n"
          ],
          "name": "stdout"
        }
      ]
    },
    {
      "cell_type": "code",
      "metadata": {
        "id": "ZSL5mIrc8vrw",
        "colab": {
          "base_uri": "https://localhost:8080/"
        },
        "outputId": "2e412340-b5ec-48a6-b802-9dc8a9381544"
      },
      "source": [
        "padded_german = tf.keras.preprocessing.sequence.pad_sequences(\r\n",
        "    padded_tonkenized_German, padding=\"post\")\r\n",
        "\r\n",
        "padded_german_numpy = np.array(padded_german)\r\n",
        "\r\n",
        "padded_german_numpy.shape"
      ],
      "execution_count": 202,
      "outputs": [
        {
          "output_type": "execute_result",
          "data": {
            "text/plain": [
              "(20000, 14)"
            ]
          },
          "metadata": {
            "tags": []
          },
          "execution_count": 202
        }
      ]
    },
    {
      "cell_type": "markdown",
      "metadata": {
        "id": "foL7Ihs21iaP"
      },
      "source": [
        "## 2. Prepare the data"
      ]
    },
    {
      "cell_type": "markdown",
      "metadata": {
        "id": "-9rCEE4z1iaQ"
      },
      "source": [
        "#### Load the embedding layer\n",
        "As part of the dataset preproceessing for this project, you will use a pre-trained English word embedding module from TensorFlow Hub. The URL for the module is https://tfhub.dev/google/tf2-preview/nnlm-en-dim128-with-normalization/1.\n",
        "\n",
        "This embedding takes a batch of text tokens in a 1-D tensor of strings as input. It then embeds the separate tokens into a 128-dimensional space. \n",
        "\n",
        "The code to load and test the embedding layer is provided for you below.\n",
        "\n",
        "**NB:** this model can also be used as a sentence embedding module. The module will process each token by removing punctuation and splitting on spaces. It then averages the word embeddings over a sentence to give a single embedding vector. However, we will use it only as a word embedding module, and will pass each word in the input sentence as a separate token."
      ]
    },
    {
      "cell_type": "code",
      "metadata": {
        "id": "ywZgobCh1iaR"
      },
      "source": [
        "# Load embedding module from Tensorflow Hub\n",
        "\n",
        "embedding_layer = hub.KerasLayer(\"https://tfhub.dev/google/tf2-preview/nnlm-en-dim128/1\", \n",
        "                                 output_shape=[128], input_shape=[], dtype=tf.string)"
      ],
      "execution_count": 203,
      "outputs": []
    },
    {
      "cell_type": "code",
      "metadata": {
        "id": "TiY8QEDp1iaV",
        "colab": {
          "base_uri": "https://localhost:8080/"
        },
        "outputId": "705b0808-09b9-465c-88fa-aeefcc1770c4"
      },
      "source": [
        "# Test the layer\n",
        "\n",
        "embedding_layer(tf.constant([\"these\", \"aren't\", \"the\", \"droids\", \"you're\", \"looking\", \"for\"])).shape"
      ],
      "execution_count": 204,
      "outputs": [
        {
          "output_type": "stream",
          "text": [
            "WARNING:tensorflow:5 out of the last 30 calls to <function recreate_function.<locals>.restored_function_body at 0x7ff7bed26bf8> triggered tf.function retracing. Tracing is expensive and the excessive number of tracings could be due to (1) creating @tf.function repeatedly in a loop, (2) passing tensors with different shapes, (3) passing Python objects instead of tensors. For (1), please define your @tf.function outside of the loop. For (2), @tf.function has experimental_relax_shapes=True option that relaxes argument shapes that can avoid unnecessary retracing. For (3), please refer to https://www.tensorflow.org/guide/function#controlling_retracing and https://www.tensorflow.org/api_docs/python/tf/function for  more details.\n"
          ],
          "name": "stdout"
        },
        {
          "output_type": "stream",
          "text": [
            "WARNING:tensorflow:5 out of the last 30 calls to <function recreate_function.<locals>.restored_function_body at 0x7ff7bed26bf8> triggered tf.function retracing. Tracing is expensive and the excessive number of tracings could be due to (1) creating @tf.function repeatedly in a loop, (2) passing tensors with different shapes, (3) passing Python objects instead of tensors. For (1), please define your @tf.function outside of the loop. For (2), @tf.function has experimental_relax_shapes=True option that relaxes argument shapes that can avoid unnecessary retracing. For (3), please refer to https://www.tensorflow.org/guide/function#controlling_retracing and https://www.tensorflow.org/api_docs/python/tf/function for  more details.\n"
          ],
          "name": "stderr"
        },
        {
          "output_type": "execute_result",
          "data": {
            "text/plain": [
              "TensorShape([7, 128])"
            ]
          },
          "metadata": {
            "tags": []
          },
          "execution_count": 204
        }
      ]
    },
    {
      "cell_type": "markdown",
      "metadata": {
        "id": "KjuzXc-z1iaY"
      },
      "source": [
        "You should now prepare the training and validation Datasets.\n",
        "\n",
        "* Create a random training and validation set split of the data, reserving e.g. 20% of the data for validation (NB: each English dataset example is a single sentence string, and each German dataset example is a sequence of padded integer tokens).\n",
        "* Load the training and validation sets into a tf.data.Dataset object, passing in a tuple of English and German data for both training and validation sets.\n",
        "* Create a function to map over the datasets that splits each English sentence at spaces. Apply this function to both Dataset objects using the map method. _Hint: look at the tf.strings.split function._\n",
        "* Create a function to map over the datasets that embeds each sequence of English words using the loaded embedding layer/model. Apply this function to both Dataset objects using the map method.\n",
        "* Create a function to filter out dataset examples where the English sentence is greater than or equal to than 13 (embedded) tokens in length. Apply this function to both Dataset objects using the filter method.\n",
        "* Create a function to map over the datasets that pads each English sequence of embeddings with some distinct padding value before the sequence, so that each sequence is length 13. Apply this function to both Dataset objects using the map method. _Hint: look at the tf.pad function. You can extract a Tensor shape using tf.shape; you might also find the tf.math.maximum function useful._\n",
        "* Batch both training and validation Datasets with a batch size of 16.\n",
        "* Print the `element_spec` property for the training and validation Datasets. \n",
        "* Using the Dataset `.take(1)` method, print the shape of the English data example from the training Dataset.\n",
        "* Using the Dataset `.take(1)` method, print the German data example Tensor from the validation Dataset."
      ]
    },
    {
      "cell_type": "code",
      "metadata": {
        "id": "Q-BUJOl_1iaZ"
      },
      "source": [
        "from sklearn.model_selection import train_test_split\r\n",
        "english_train, english_test, german_train, german_test = train_test_split(preprocessed_En, \r\n",
        "                                                                          padded_german_numpy, test_size = 0.2)"
      ],
      "execution_count": 211,
      "outputs": []
    },
    {
      "cell_type": "code",
      "metadata": {
        "id": "4w6rM8Bl1iad",
        "colab": {
          "base_uri": "https://localhost:8080/"
        },
        "outputId": "93d82fc0-c75f-4194-af34-d80242a9f352"
      },
      "source": [
        "train_dataset = tf.data.Dataset.from_tensor_slices((english_train , german_train))\r\n",
        "validation_dataset = tf.data.Dataset.from_tensor_slices((english_test , german_test))\r\n",
        "\r\n",
        "print(train_dataset.element_spec)\r\n",
        "\r\n",
        "for elem in train_dataset.take(1):\r\n",
        "    print(elem[0])"
      ],
      "execution_count": 212,
      "outputs": [
        {
          "output_type": "stream",
          "text": [
            "(TensorSpec(shape=(), dtype=tf.string, name=None), TensorSpec(shape=(14,), dtype=tf.int32, name=None))\n",
            "tf.Tensor(b\"it won't be long .\", shape=(), dtype=string)\n"
          ],
          "name": "stdout"
        }
      ]
    },
    {
      "cell_type": "code",
      "metadata": {
        "id": "D7bn3mRs1iaj",
        "colab": {
          "base_uri": "https://localhost:8080/"
        },
        "outputId": "be878cd3-e7ff-481e-b0b3-0c75060ebf9e"
      },
      "source": [
        "def split_en_sentence(x , y):\r\n",
        "    return tf.strings.split(x, ' '), y\r\n",
        "\r\n",
        "train_dataset = train_dataset.map(split_en_sentence)\r\n",
        "validation_dataset = validation_dataset.map(split_en_sentence)\r\n",
        "\r\n",
        "splited_train_En_dataset.element_spec\r\n",
        "\r\n",
        "for elem in splited_train_En_dataset.take(1):\r\n",
        "    print(elem[0].shape)"
      ],
      "execution_count": 213,
      "outputs": [
        {
          "output_type": "stream",
          "text": [
            "(4,)\n"
          ],
          "name": "stdout"
        }
      ]
    },
    {
      "cell_type": "code",
      "metadata": {
        "id": "q0Fdso381ian",
        "colab": {
          "base_uri": "https://localhost:8080/"
        },
        "outputId": "b3296de7-da7d-42c7-8057-513442bdedbd"
      },
      "source": [
        "def embedding_sentence(x , y):\r\n",
        "    return embedding_layer(x), y\r\n",
        "\r\n",
        "\r\n",
        "train_dataset = train_dataset.map(embedding_sentence)\r\n",
        "validation_dataset = validation_dataset.map(embedding_sentence)\r\n",
        "\r\n",
        "print(train_dataset.element_spec)\r\n",
        "\r\n",
        "for elem in train_dataset.take(1):\r\n",
        "    print(elem[0].shape)"
      ],
      "execution_count": 214,
      "outputs": [
        {
          "output_type": "stream",
          "text": [
            "(TensorSpec(shape=(None, 128), dtype=tf.float32, name=None), TensorSpec(shape=(14,), dtype=tf.int32, name=None))\n",
            "(5, 128)\n"
          ],
          "name": "stdout"
        }
      ]
    },
    {
      "cell_type": "code",
      "metadata": {
        "id": "bGqlxuqZ1ias"
      },
      "source": [
        "maxlen = 13\r\n",
        "\r\n",
        "train_dataset = train_dataset.filter(lambda x, y: False if ((tf.shape(x)[0]) >maxlen) else True)\r\n",
        "validation_dataset = validation_dataset.filter(lambda x, y: False if ((tf.shape(x)[0]) > maxlen) else True)\r\n"
      ],
      "execution_count": 215,
      "outputs": []
    },
    {
      "cell_type": "code",
      "metadata": {
        "id": "MdqSXEoX1iav",
        "colab": {
          "base_uri": "https://localhost:8080/"
        },
        "outputId": "d0fa67b2-64c5-4e56-e66a-5ee03195a947"
      },
      "source": [
        "\r\n",
        "def map_pad_dataset(x, y):\r\n",
        "\r\n",
        "  return tf.pad(x, paddings=[[13 - len(x), 0], [0,0]]), y\r\n",
        "\r\n",
        "train_dataset = train_dataset.map(map_pad_dataset)  \r\n",
        "validation_dataset = validation_dataset.map(map_pad_dataset) \r\n",
        "\r\n",
        "print(pad_En_seq_traning.element_spec)"
      ],
      "execution_count": 216,
      "outputs": [
        {
          "output_type": "stream",
          "text": [
            "(TensorSpec(shape=(16, None, 128), dtype=tf.float32, name=None), TensorSpec(shape=(16, 14), dtype=tf.int32, name=None))\n"
          ],
          "name": "stdout"
        }
      ]
    },
    {
      "cell_type": "code",
      "metadata": {
        "id": "W1EL_UQe9RlW",
        "colab": {
          "base_uri": "https://localhost:8080/"
        },
        "outputId": "6b8d89e9-7ceb-4d42-adfc-df6762c1320c"
      },
      "source": [
        "train_dataset = train_dataset.batch(16 ,drop_remainder=True)\r\n",
        "validation_dataset = validation_dataset.batch(16,drop_remainder=True)\r\n",
        "\r\n",
        "print(train_dataset.element_spec)\r\n",
        "print(validation_dataset.element_spec)"
      ],
      "execution_count": 217,
      "outputs": [
        {
          "output_type": "stream",
          "text": [
            "(TensorSpec(shape=(16, None, 128), dtype=tf.float32, name=None), TensorSpec(shape=(16, 14), dtype=tf.int32, name=None))\n",
            "(TensorSpec(shape=(16, None, 128), dtype=tf.float32, name=None), TensorSpec(shape=(16, 14), dtype=tf.int32, name=None))\n"
          ],
          "name": "stdout"
        }
      ]
    },
    {
      "cell_type": "code",
      "metadata": {
        "id": "xZOA3P_c9bFg",
        "colab": {
          "base_uri": "https://localhost:8080/"
        },
        "outputId": "53add46b-e672-45d3-f0fb-5c7eda510404"
      },
      "source": [
        "for elem in train_dataset.take(1):\r\n",
        "    print(elem[0].shape)\r\n",
        "for elem in validation_dataset.take(1):\r\n",
        "    print(elem[1].shape)"
      ],
      "execution_count": 218,
      "outputs": [
        {
          "output_type": "stream",
          "text": [
            "(16, 13, 128)\n",
            "(16, 14)\n"
          ],
          "name": "stdout"
        }
      ]
    },
    {
      "cell_type": "markdown",
      "metadata": {
        "id": "isIYhjq01iay"
      },
      "source": [
        "## 3. Create the custom layer\n",
        "You will now create a custom layer to add the learned end token embedding to the encoder model:"
      ]
    },
    {
      "cell_type": "code",
      "metadata": {
        "id": "e22f1Xyh6xvE",
        "colab": {
          "base_uri": "https://localhost:8080/",
          "height": 423
        },
        "outputId": "ace8af24-5dbe-44a0-c2ed-ed0d12d214ba"
      },
      "source": [
        "# Run this cell to download and view a schematic diagram for the encoder model\n",
        "\n",
        "!wget -q -O neural_translation_model.png --no-check-certificate \"https://docs.google.com/uc?export=download&id=1JrtNOzUJDaOWrK4C-xv-4wUuZaI12sQI\"\n",
        "Image(\"neural_translation_model.png\")"
      ],
      "execution_count": null,
      "outputs": [
        {
          "output_type": "execute_result",
          "data": {
            "image/png": "[encoded data removed]",
            "text/plain": [
              "<IPython.core.display.Image object>"
            ]
          },
          "metadata": {
            "tags": []
          },
          "execution_count": 145
        }
      ]
    },
    {
      "cell_type": "markdown",
      "metadata": {
        "id": "M6gLIHG81iaz"
      },
      "source": [
        "You should now build the custom layer.\n",
        "* Using layer subclassing, create a custom layer that takes a batch of English data examples from one of the Datasets, and adds a learned embedded ‘end’ token to the end of each sequence. \n",
        "* This layer should create a TensorFlow Variable (that will be learned during training) that is 128-dimensional (the size of the embedding space). _Hint: you may find it helpful in the call method to use the tf.tile function to replicate the end token embedding across every element in the batch._\n",
        "* Using the Dataset `.take(1)` method, extract a batch of English data examples from the training Dataset and print the shape. Test the custom layer by calling the layer on the English data batch Tensor and print the resulting Tensor shape (the layer should increase the sequence length by one)."
      ]
    },
    {
      "cell_type": "code",
      "metadata": {
        "id": "yg9hjZz11ia0"
      },
      "source": [
        "class MyLayer(tf.keras.layers.Layer):\r\n",
        "\r\n",
        "  def __init__(self):\r\n",
        "\r\n",
        "    super(MyLayer, self).__init__()\r\n",
        "    self.emb_space = tf.Variable(initial_value=tf.random.uniform(shape=(128,)), trainable=True)\r\n",
        "  def call(self, inputs):\r\n",
        "\r\n",
        "   output = tf.tile(tf.reshape(self.emb_space, shape=(1, 1, self.emb_space.shape[0])), [tf.shape(inputs)[0], 1, 1])\r\n",
        "\r\n",
        "   return tf.keras.layers.concatenate([inputs, output], axis=1)\r\n",
        "\r\n",
        "mylayer = MyLayer()\r\n",
        "            "
      ],
      "execution_count": 223,
      "outputs": []
    },
    {
      "cell_type": "code",
      "metadata": {
        "id": "4PwI32O11ia3",
        "colab": {
          "base_uri": "https://localhost:8080/"
        },
        "outputId": "275b3e89-1613-45a5-8757-6aa9eb159937"
      },
      "source": [
        "\r\n",
        "for elem in train_dataset.take(1):\r\n",
        "    print(elem[0].shape)"
      ],
      "execution_count": 220,
      "outputs": [
        {
          "output_type": "stream",
          "text": [
            "(16, 13, 128)\n"
          ],
          "name": "stdout"
        }
      ]
    },
    {
      "cell_type": "code",
      "metadata": {
        "id": "ebjK8PmL1ia6",
        "colab": {
          "base_uri": "https://localhost:8080/"
        },
        "outputId": "9e06d79c-f895-4cc8-b091-6afcd78ff224"
      },
      "source": [
        "layer = End_token()\r\n",
        "for elem in train_dataset.take(1):\r\n",
        "    print(mylayer(elem[0]).shape)"
      ],
      "execution_count": 225,
      "outputs": [
        {
          "output_type": "stream",
          "text": [
            "(16, 14, 128)\n"
          ],
          "name": "stdout"
        }
      ]
    },
    {
      "cell_type": "markdown",
      "metadata": {
        "id": "OAd3i4_y1ia-"
      },
      "source": [
        "## 4. Build the encoder network\n",
        "The encoder network follows the schematic diagram above. You should now build the RNN encoder model.\n",
        "* Using the functional API, build the encoder network according to the following spec:\n",
        "    * The model will take a batch of sequences of embedded English words as input, as given by the Dataset objects.\n",
        "    * The next layer in the encoder will be the custom layer you created previously, to add a learned end token embedding to the end of the English sequence.\n",
        "    * This is followed by a Masking layer, with the `mask_value` set to the distinct padding value you used when you padded the English sequences with the Dataset preprocessing above.\n",
        "    * The final layer is an LSTM layer with 512 units, which also returns the hidden and cell states.\n",
        "    * The encoder is a multi-output model. There should be two output Tensors of this model: the hidden state and cell states of the LSTM layer. The output of the LSTM layer is unused.\n",
        "* Using the Dataset `.take(1)` method, extract a batch of English data examples from the training Dataset and test the encoder model by calling it on the English data Tensor, and print the shape of the resulting Tensor outputs.\n",
        "* Print the model summary for the encoder network."
      ]
    },
    {
      "cell_type": "code",
      "metadata": {
        "id": "6R2LqbfV1ia_"
      },
      "source": [
        "input_1 = tf.keras.Input(batch_shape = (None , 13 ,128)) \r\n",
        "h = mylayer(input_1) \r\n",
        "h = tf.keras.layers.Masking(mask_value=0 , name = 'masking')(h)\r\n",
        "h , state_h, state_c = tf.keras.layers.LSTM(512,  return_state=True)(h)\r\n",
        "encoder_model = tf.keras.Model(inputs=input_1, outputs=[state_h, state_c])"
      ],
      "execution_count": 226,
      "outputs": []
    },
    {
      "cell_type": "code",
      "metadata": {
        "id": "e5XW6NxL1ibC",
        "colab": {
          "base_uri": "https://localhost:8080/"
        },
        "outputId": "b033db69-ea85-4533-91cc-86c2b10c6772"
      },
      "source": [
        "for elem in train_dataset.take(1):\r\n",
        "    print(encoder_model(elem[0]))"
      ],
      "execution_count": 227,
      "outputs": [
        {
          "output_type": "stream",
          "text": [
            "[<tf.Tensor: shape=(16, 512), dtype=float32, numpy=\n",
            "array([[ 0.02163661,  0.11235985,  0.04059982, ...,  0.08696703,\n",
            "        -0.0874131 , -0.02786504],\n",
            "       [ 0.02205051,  0.13137493,  0.03393549, ...,  0.09634678,\n",
            "        -0.06865867, -0.03195179],\n",
            "       [ 0.02519222,  0.12271322,  0.03829671, ...,  0.09294867,\n",
            "        -0.06724303, -0.03047802],\n",
            "       ...,\n",
            "       [ 0.01941856,  0.12261906,  0.04430281, ...,  0.09998281,\n",
            "        -0.06436163, -0.02937805],\n",
            "       [ 0.01918948,  0.12878938,  0.0347265 , ...,  0.09218838,\n",
            "        -0.06665899, -0.03548962],\n",
            "       [ 0.01699025,  0.11447296,  0.03973457, ...,  0.08851177,\n",
            "        -0.07306794, -0.03661086]], dtype=float32)>, <tf.Tensor: shape=(16, 512), dtype=float32, numpy=\n",
            "array([[ 0.04893148,  0.20394543,  0.08438869, ...,  0.16982123,\n",
            "        -0.17511293, -0.05586688],\n",
            "       [ 0.04996488,  0.23996203,  0.07022533, ...,  0.18855119,\n",
            "        -0.13694642, -0.06409657],\n",
            "       [ 0.05713046,  0.22284746,  0.07918735, ...,  0.18138573,\n",
            "        -0.13469733, -0.0608379 ],\n",
            "       ...,\n",
            "       [ 0.04404857,  0.22310558,  0.091833  , ...,  0.19636238,\n",
            "        -0.12829785, -0.05901517],\n",
            "       [ 0.04357031,  0.23493245,  0.07164039, ...,  0.18071145,\n",
            "        -0.13295476, -0.0708506 ],\n",
            "       [ 0.03838839,  0.2073535 ,  0.0824227 , ...,  0.17347923,\n",
            "        -0.14574426, -0.07342596]], dtype=float32)>]\n"
          ],
          "name": "stdout"
        }
      ]
    },
    {
      "cell_type": "code",
      "metadata": {
        "id": "jEk9ikVh1ibL",
        "colab": {
          "base_uri": "https://localhost:8080/"
        },
        "outputId": "7a859334-1d51-4657-bc0e-55f91ffa0d74"
      },
      "source": [
        "encoder_model.summary()"
      ],
      "execution_count": 228,
      "outputs": [
        {
          "output_type": "stream",
          "text": [
            "Model: \"model_3\"\n",
            "_________________________________________________________________\n",
            "Layer (type)                 Output Shape              Param #   \n",
            "=================================================================\n",
            "input_6 (InputLayer)         [(None, 13, 128)]         0         \n",
            "_________________________________________________________________\n",
            "my_layer_3 (MyLayer)         (None, 14, 128)           128       \n",
            "_________________________________________________________________\n",
            "masking (Masking)            (None, 14, 128)           0         \n",
            "_________________________________________________________________\n",
            "lstm_7 (LSTM)                [(None, 512), (None, 512) 1312768   \n",
            "=================================================================\n",
            "Total params: 1,312,896\n",
            "Trainable params: 1,312,896\n",
            "Non-trainable params: 0\n",
            "_________________________________________________________________\n"
          ],
          "name": "stdout"
        }
      ]
    },
    {
      "cell_type": "markdown",
      "metadata": {
        "id": "KvkzpCeZ1ibR"
      },
      "source": [
        "## 5. Build the decoder network\n",
        "The decoder network follows the schematic diagram below. "
      ]
    },
    {
      "cell_type": "code",
      "metadata": {
        "id": "yOjEb7cH7Y4S",
        "colab": {
          "base_uri": "https://localhost:8080/",
          "height": 501
        },
        "outputId": "3cc344e1-b4d5-4937-efc5-ac5f7722422f"
      },
      "source": [
        "# Run this cell to download and view a schematic diagram for the decoder model\n",
        "\n",
        "!wget -q -O neural_translation_model.png --no-check-certificate \"https://docs.google.com/uc?export=download&id=1DTeaXD8tA8RjkpVrB2mr9csSBOY4LQiW\"\n",
        "Image(\"neural_translation_model.png\")"
      ],
      "execution_count": null,
      "outputs": [
        {
          "output_type": "execute_result",
          "data": {
            "image/png": "[encoded data removed]",
            "text/plain": [
              "<IPython.core.display.Image object>"
            ]
          },
          "metadata": {
            "tags": []
          },
          "execution_count": 152
        }
      ]
    },
    {
      "cell_type": "markdown",
      "metadata": {
        "id": "VPBK8WGL1ibS"
      },
      "source": [
        "You should now build the RNN decoder model.\n",
        "* Using Model subclassing, build the decoder network according to the following spec:\n",
        "    * The initializer should create the following layers:\n",
        "        * An Embedding layer with vocabulary size set to the number of unique German tokens, embedding dimension 128, and set to mask zero values in the input.\n",
        "        * An LSTM layer with 512 units, that returns its hidden and cell states, and also returns sequences.\n",
        "        * A Dense layer with number of units equal to the number of unique German tokens, and no activation function.\n",
        "    * The call method should include the usual `inputs` argument, as well as the additional keyword arguments `hidden_state` and `cell_state`. The default value for these keyword arguments should be `None`.\n",
        "    * The call method should pass the inputs through the Embedding layer, and then through the LSTM layer. If the `hidden_state` and `cell_state` arguments are provided, these should be used for the initial state of the LSTM layer. _Hint: use the_ `initial_state` _keyword argument when calling the LSTM layer on its input._\n",
        "    * The call method should pass the LSTM output sequence through the Dense layer, and return the resulting Tensor, along with the hidden and cell states of the LSTM layer.\n",
        "* Using the Dataset `.take(1)` method, extract a batch of English and German data examples from the training Dataset. Test the decoder model by first calling the encoder model on the English data Tensor to get the hidden and cell states, and then call the decoder model on the German data Tensor and hidden and cell states, and print the shape of the resulting decoder Tensor outputs.\n",
        "* Print the model summary for the decoder network."
      ]
    },
    {
      "cell_type": "code",
      "metadata": {
        "id": "l50qhnXD1ibT"
      },
      "source": [
        "class decoder_model(tf.keras.Model):\r\n",
        "    def __init__(self):\r\n",
        "        super(decoder_model, self).__init__()\r\n",
        "        self.embedding1 = tf.keras.layers.Embedding(input_dim=max_german_tokens+1, output_dim=128, mask_zero=True)\r\n",
        "        self.LSTM_2 = tf.keras.layers.LSTM(512, return_sequences=True, return_state=True)\r\n",
        "        self.dense_d = tf.keras.layers.Dense(max_german_tokens+1)\r\n",
        "    def call(self, inputs, hidden_state=None, cell_state=None):\r\n",
        "        x = self.embedding1(inputs)\r\n",
        "        if hidden_state is None and cell_state is None:\r\n",
        "         x , h_state , c_state = self.LSTM_2(x)\r\n",
        "        else:\r\n",
        "          x , h_state , c_state = self.LSTM_2(x , initial_state = [hidden_state , cell_state])\r\n",
        "        return self.dense_d(x),h_state,c_state"
      ],
      "execution_count": 229,
      "outputs": []
    },
    {
      "cell_type": "code",
      "metadata": {
        "id": "vG5CRIXV1ibi",
        "colab": {
          "base_uri": "https://localhost:8080/"
        },
        "outputId": "61b01f1d-3013-4648-f810-5fdabefe8b5d"
      },
      "source": [
        "decoder = decoder_model()\r\n",
        "\r\n",
        "for en , gr in train_dataset.take(1):\r\n",
        "  h , c = encoder_model(en)\r\n",
        "  out , h , c = decoder(gr ,hidden_state= h ,cell_state = c)\r\n",
        "\r\n",
        "decoder.summary()"
      ],
      "execution_count": 230,
      "outputs": [
        {
          "output_type": "stream",
          "text": [
            "Model: \"decoder_model_4\"\n",
            "_________________________________________________________________\n",
            "Layer (type)                 Output Shape              Param #   \n",
            "=================================================================\n",
            "embedding_4 (Embedding)      multiple                  735232    \n",
            "_________________________________________________________________\n",
            "lstm_8 (LSTM)                multiple                  1312768   \n",
            "_________________________________________________________________\n",
            "dense_4 (Dense)              multiple                  2946672   \n",
            "=================================================================\n",
            "Total params: 4,994,672\n",
            "Trainable params: 4,994,672\n",
            "Non-trainable params: 0\n",
            "_________________________________________________________________\n"
          ],
          "name": "stdout"
        }
      ]
    },
    {
      "cell_type": "code",
      "metadata": {
        "id": "SvqqT_ET1ibl"
      },
      "source": [
        ""
      ],
      "execution_count": null,
      "outputs": []
    },
    {
      "cell_type": "markdown",
      "metadata": {
        "id": "pST9XGJ81ibo"
      },
      "source": [
        "## 6. Make a custom training loop\n",
        "You should now write a custom training loop to train your custom neural translation model.\n",
        "* Define a function that takes a Tensor batch of German data (as extracted from the training Dataset), and returns a tuple containing German inputs and outputs for the decoder model (refer to schematic diagram above).\n",
        "* Define a function that computes the forward and backward pass for your translation model. This function should take an English input, German input and German output as arguments, and should do the following:\n",
        "    * Pass the English input into the encoder, to get the hidden and cell states of the encoder LSTM.\n",
        "    * These hidden and cell states are then passed into the decoder, along with the German inputs, which returns a sequence of outputs (the hidden and cell state outputs of the decoder LSTM are unused in this function).\n",
        "    * The loss should then be computed between the decoder outputs and the German output function argument.\n",
        "    * The function returns the loss and gradients with respect to the encoder and decoder’s trainable variables.\n",
        "    * Decorate the function with `@tf.function`\n",
        "* Define and run a custom training loop for a number of epochs (for you to choose) that does the following:\n",
        "    * Iterates through the training dataset, and creates decoder inputs and outputs from the German sequences.\n",
        "    * Updates the parameters of the translation model using the gradients of the function above and an optimizer object.\n",
        "    * Every epoch, compute the validation loss on a number of batches from the validation and save the epoch training and validation losses.\n",
        "* Plot the learning curves for loss vs epoch for both training and validation sets.\n",
        "\n",
        "_Hint: This model is computationally demanding to train. The quality of the model or length of training is not a factor in the grading rubric. However, to obtain a better model we recommend using the GPU accelerator hardware on Colab._"
      ]
    },
    {
      "cell_type": "code",
      "metadata": {
        "id": "Jvu4J4-u1ibu"
      },
      "source": [
        "optimizer_obj = tf.keras.optimizers.Adam()\r\n",
        "loss_obj = tf.keras.losses.SparseCategoricalCrossentropy(from_logits=True)\r\n",
        "variables = encoder_model.trainable_variables + decoder.trainable_variables  "
      ],
      "execution_count": 231,
      "outputs": []
    },
    {
      "cell_type": "code",
      "metadata": {
        "id": "Vl5H06811ibx"
      },
      "source": [
        "\r\n",
        "@tf.function\r\n",
        "def grad_fn(en_input, ger_input, ger_output, loss):\r\n",
        "  with tf.GradientTape() as tape:\r\n",
        "    enc_hidden_s, enc_cell_s = encoder_model(en_input)\r\n",
        "    dec_output, dec_hidden_s, dec_cell_s = decoder(ger_input, enc_hidden_s,enc_cell_s)\r\n",
        "    loss_value = loss(ger_output, dec_output)\r\n",
        "  return loss_value, tape.gradient(loss_value, variables)\r\n"
      ],
      "execution_count": 239,
      "outputs": []
    },
    {
      "cell_type": "code",
      "metadata": {
        "id": "MVWOYJ3l1ib1"
      },
      "source": [
        "def train_resnet( num_epochs, dataset, val_dataset , grad_fn , optimizer, loss):\r\n",
        "\r\n",
        "  train_loss_results = []\r\n",
        "  val_loss_results = []\r\n",
        "  for epoch in range(num_epochs):\r\n",
        "    epoch_loss_avg = tf.keras.metrics.Mean()\r\n",
        "    val_epoch_loss_avg = tf.keras.metrics.Mean()\r\n",
        "\r\n",
        "    for en, ger in train_dataset:\r\n",
        "      dec_inputs, dec_outputs = ger[:, :-1], ger[:, 1:]\r\n",
        "      loss_value, grads= grad_fn(en, dec_inputs, dec_outputs, loss)\r\n",
        "      optimizer.apply_gradients(zip(grads, variables))\r\n",
        "      epoch_loss_avg(loss_value)\r\n",
        "\r\n",
        "\r\n",
        "    for en, ger in validation_dataset:\r\n",
        "      dec_inputs, dec_outputs = ger[:, :-1], ger[:, 1:]\r\n",
        "      hidden_s, cell_s = encoder_model(en)\r\n",
        "      model_preds, _, _ = decoder(dec_inputs, hidden_s, cell_s)\r\n",
        "      val_epoch_loss_avg(loss(dec_outputs, model_preds))\r\n",
        "\r\n",
        "      \r\n",
        "    train_loss_results.append(epoch_loss_avg.result())\r\n",
        "    val_loss_results.append(val_epoch_loss_avg.result())\r\n",
        "    #print(\" Epoch :{:03d}: Loss: {:.3f} : Val_Loss: {:.3f}\".format(epoch,epoch_loss_avg, val_epoch_loss_avg))\r\n",
        "  return train_loss_results,val_loss_results"
      ],
      "execution_count": 242,
      "outputs": []
    },
    {
      "cell_type": "code",
      "metadata": {
        "id": "6VSmBdwT1ib4"
      },
      "source": [
        "train_loss_results,val_loss_results = train_resnet(20, train_dataset, validation_dataset ,grad_fn, optimizer_obj , loss_obj)"
      ],
      "execution_count": 243,
      "outputs": []
    },
    {
      "cell_type": "code",
      "metadata": {
        "id": "dpacst2F1ib7",
        "colab": {
          "base_uri": "https://localhost:8080/",
          "height": 367
        },
        "outputId": "89e8db5d-66fd-41b2-9a6d-98107441ea12"
      },
      "source": [
        "import matplotlib.pyplot as plt\r\n",
        "plt.figure(figsize=(15,5))\r\n",
        "plt.plot(train_loss_results)\r\n",
        "plt.plot(val_loss_results)\r\n",
        "plt.title('Loss vs. epochs')\r\n",
        "plt.ylabel('Loss')\r\n",
        "plt.xlabel('Epoch')\r\n",
        "plt.legend(['Training', 'Validation'], loc='upper right')\r\n",
        "\r\n"
      ],
      "execution_count": 244,
      "outputs": [
        {
          "output_type": "execute_result",
          "data": {
            "text/plain": [
              "<matplotlib.legend.Legend at 0x7ff7bd84b978>"
            ]
          },
          "metadata": {
            "tags": []
          },
          "execution_count": 244
        },
        {
          "output_type": "display_data",
          "data": {
            "image/png": "[encoded data removed]",
            "text/plain": [
              "<Figure size 1080x360 with 1 Axes>"
            ]
          },
          "metadata": {
            "tags": [],
            "needs_background": "light"
          }
        }
      ]
    },
    {
      "cell_type": "markdown",
      "metadata": {
        "id": "xM2gvBM11ib-"
      },
      "source": [
        "## 7. Use the model to translate\n",
        "Now it's time to put your model into practice! You should run your translation for five randomly sampled English sentences from the dataset. For each sentence, the process is as follows:\n",
        "* Preprocess and embed the English sentence according to the model requirements.\n",
        "* Pass the embedded sentence through the encoder to get the encoder hidden and cell states.\n",
        "* Starting with the special  `\"<start>\"` token, use this token and the final encoder hidden and cell states to get the one-step prediction from the decoder, as well as the decoder’s updated hidden and cell states.\n",
        "* Create a loop to get the next step prediction and updated hidden and cell states from the decoder, using the most recent hidden and cell states. Terminate the loop when the `\"<end>\"` token is emitted, or when the sentence has reached a maximum length.\n",
        "* Decode the output token sequence into German text and print the English text and the model's German translation."
      ]
    },
    {
      "cell_type": "code",
      "metadata": {
        "id": "bGnQtE7L1icA",
        "colab": {
          "base_uri": "https://localhost:8080/"
        },
        "outputId": "02ece7d1-15c5-4106-de66-606680001348"
      },
      "source": [
        "samples = np.random.choice(len(preprocessed_En), 5, replace=False)\r\n",
        "\r\n",
        "for i, sample in enumerate(samples):\r\n",
        "  en = tf.strings.split(preprocessed_En[sample])\r\n",
        "  en_emb = embedding_layer(en)\r\n",
        "  padding = [[tf.math.maximum(13-tf.shape(en_emb)[0],0), 0], [0,0]]\r\n",
        "  en_emb_pad = tf.expand_dims(tf.pad(en_emb, padding), axis=0)\r\n",
        "  result = list()\r\n",
        "  hidden_s, cell_s = encoder_model(en_emb_pad)\r\n",
        "  dec_input = tf.Variable([[tokenizer.word_index['<start>']]])\r\n",
        "\r\n",
        "  for t in range(pad_En_seq_traning.element_spec[1].shape[1]):\r\n",
        "    dec_output, hidden_s, cell_s = decoder(dec_input, hidden_s, cell_s)\r\n",
        "    dec_output = tf.squeeze(tf.argmax(dec_output, axis=2)).numpy()\r\n",
        "    if dec_output == tokenizer.word_index['<end>']:\r\n",
        "\r\n",
        "      break\r\n",
        "\r\n",
        "    result.append(tokenizer.index_word[dec_output])\r\n",
        "    dec_input = tf.Variable([[dec_output]])\r\n",
        "  result = ' '.join(word for word in result)\r\n",
        "  print(\"Sample: {}\".format(i + 1))\r\n",
        "  print(\"English Sentence: {}\".format(preprocessed_En[sample]))\r\n",
        "  print(\"German Sentence: {}\".format(modified_gr[sample]))\r\n",
        "  print(\"German Translation: {}\".format(result))\r\n",
        "  print('-' * 5)"
      ],
      "execution_count": 245,
      "outputs": [
        {
          "output_type": "stream",
          "text": [
            "Sample: 1\n",
            "English Sentence: mars is a planet .\n",
            "German Sentence: <start> der mars ist ein planet . <end>\n",
            "German Translation: ist ein schlechter mensch .\n",
            "-----\n",
            "Sample: 2\n",
            "English Sentence: i just met him .\n",
            "German Sentence: <start> ich habe ihn gerade getroffen . <end>\n",
            "German Translation: ich habe ihn gerade getroffen .\n",
            "-----\n",
            "Sample: 3\n",
            "English Sentence: japan is in asia .\n",
            "German Sentence: <start> japan liegt in asien . <end>\n",
            "German Translation: japan liegt in asien .\n",
            "-----\n",
            "Sample: 4\n",
            "English Sentence: does that count ?\n",
            "German Sentence: <start> zaehlt das ? <end>\n",
            "German Translation: zaehlt das ?\n",
            "-----\n",
            "Sample: 5\n",
            "English Sentence: we need to hurry .\n",
            "German Sentence: <start> wir muessen uns beeilen . <end>\n",
            "German Translation: wir muessen gewinnen .\n",
            "-----\n"
          ],
          "name": "stdout"
        }
      ]
    },
    {
      "cell_type": "code",
      "metadata": {
        "id": "ohleJRcJ1icD"
      },
      "source": [
        "\r\n"
      ],
      "execution_count": 245,
      "outputs": []
    },
    {
      "cell_type": "code",
      "metadata": {
        "id": "Unk60cEy1icI"
      },
      "source": [
        ""
      ],
      "execution_count": null,
      "outputs": []
    }
  ]
}